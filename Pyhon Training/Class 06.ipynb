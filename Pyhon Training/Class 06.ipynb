{
 "cells": [
  {
   "cell_type": "code",
   "execution_count": 1,
   "metadata": {
    "input_collapsed": false
   },
   "outputs": [
    {
     "data": {
      "text/plain": [
       "tuple"
      ]
     },
     "execution_count": 1,
     "metadata": {},
     "output_type": "execute_result"
    }
   ],
   "source": [
    "x = (1,2,3,4,4)\n",
    "type(x)"
   ]
  },
  {
   "cell_type": "code",
   "execution_count": 2,
   "metadata": {
    "input_collapsed": false
   },
   "outputs": [
    {
     "data": {
      "text/plain": [
       "tuple"
      ]
     },
     "execution_count": 2,
     "metadata": {},
     "output_type": "execute_result"
    }
   ],
   "source": [
    "x = 1,2,3,4,5\n",
    "type(x)"
   ]
  },
  {
   "cell_type": "code",
   "execution_count": 3,
   "metadata": {
    "input_collapsed": false
   },
   "outputs": [
    {
     "name": "stdout",
     "output_type": "stream",
     "text": [
      "0 1\n",
      "1 2\n",
      "2 3\n",
      "3 4\n",
      "4 5\n"
     ]
    }
   ],
   "source": [
    "for var in enumerate(x):\n",
    "    print(var[0], var[1])"
   ]
  },
  {
   "cell_type": "code",
   "execution_count": 4,
   "metadata": {
    "input_collapsed": false,
    "scrolled": true
   },
   "outputs": [
    {
     "data": {
      "text/plain": [
       "[(0, 1), (1, 2), (2, 3), (3, 4), (4, 5)]"
      ]
     },
     "execution_count": 4,
     "metadata": {},
     "output_type": "execute_result"
    }
   ],
   "source": [
    "list(enumerate(x))"
   ]
  },
  {
   "cell_type": "code",
   "execution_count": 5,
   "metadata": {
    "input_collapsed": false,
    "scrolled": true
   },
   "outputs": [
    {
     "data": {
      "text/plain": [
       "15"
      ]
     },
     "execution_count": 5,
     "metadata": {},
     "output_type": "execute_result"
    }
   ],
   "source": [
    "x = 1,2,3,4,5\n",
    "sum(x)"
   ]
  },
  {
   "cell_type": "code",
   "execution_count": 6,
   "metadata": {
    "input_collapsed": false
   },
   "outputs": [
    {
     "data": {
      "text/plain": [
       "5"
      ]
     },
     "execution_count": 6,
     "metadata": {},
     "output_type": "execute_result"
    }
   ],
   "source": [
    "len(x)"
   ]
  },
  {
   "cell_type": "code",
   "execution_count": 7,
   "metadata": {
    "input_collapsed": false
   },
   "outputs": [
    {
     "ename": "TypeError",
     "evalue": "'tuple' object does not support item assignment",
     "output_type": "error",
     "traceback": [
      "\u001b[0;31m---------------------------------------------------------------------------\u001b[0m",
      "\u001b[0;31mTypeError\u001b[0m                                 Traceback (most recent call last)",
      "\u001b[0;32m<ipython-input-7-fc3169558727>\u001b[0m in \u001b[0;36m<module>\u001b[0;34m()\u001b[0m\n\u001b[1;32m      1\u001b[0m \u001b[0ma\u001b[0m \u001b[0;34m=\u001b[0m \u001b[0;36m1\u001b[0m\u001b[0;34m,\u001b[0m \u001b[0;36m2\u001b[0m\u001b[0;34m,\u001b[0m \u001b[0;36m3\u001b[0m\u001b[0;34m\u001b[0m\u001b[0m\n\u001b[0;32m----> 2\u001b[0;31m \u001b[0ma\u001b[0m\u001b[0;34m[\u001b[0m\u001b[0;36m0\u001b[0m\u001b[0;34m]\u001b[0m \u001b[0;34m=\u001b[0m \u001b[0;36m5\u001b[0m\u001b[0;34m\u001b[0m\u001b[0m\n\u001b[0m",
      "\u001b[0;31mTypeError\u001b[0m: 'tuple' object does not support item assignment"
     ]
    }
   ],
   "source": [
    "a = 1, 2, 3\n",
    "a[0] = 5"
   ]
  },
  {
   "cell_type": "markdown",
   "metadata": {
    "input_collapsed": false
   },
   "source": [
    "___\n",
    "### Tuple Indexing"
   ]
  },
  {
   "cell_type": "code",
   "execution_count": 8,
   "metadata": {
    "input_collapsed": false
   },
   "outputs": [
    {
     "data": {
      "text/plain": [
       "35.3606"
      ]
     },
     "execution_count": 8,
     "metadata": {},
     "output_type": "execute_result"
    }
   ],
   "source": [
    "coordinate = 35.3606, 138.7278\n",
    "coordinate[0]"
   ]
  },
  {
   "cell_type": "code",
   "execution_count": 9,
   "metadata": {
    "input_collapsed": false
   },
   "outputs": [
    {
     "data": {
      "text/plain": [
       "(35.3606, 138.7278)"
      ]
     },
     "execution_count": 9,
     "metadata": {},
     "output_type": "execute_result"
    }
   ],
   "source": [
    "coordinate[0:]"
   ]
  },
  {
   "cell_type": "code",
   "execution_count": 10,
   "metadata": {
    "input_collapsed": false
   },
   "outputs": [
    {
     "data": {
      "text/plain": [
       "(35.3606, 138.7278)"
      ]
     },
     "execution_count": 10,
     "metadata": {},
     "output_type": "execute_result"
    }
   ],
   "source": [
    "coordinate[:3]"
   ]
  },
  {
   "cell_type": "code",
   "execution_count": 11,
   "metadata": {
    "input_collapsed": false
   },
   "outputs": [
    {
     "data": {
      "text/plain": [
       "(35.3606, 138.7278)"
      ]
     },
     "execution_count": 11,
     "metadata": {},
     "output_type": "execute_result"
    }
   ],
   "source": [
    "coordinate"
   ]
  },
  {
   "cell_type": "code",
   "execution_count": 12,
   "metadata": {
    "input_collapsed": false
   },
   "outputs": [
    {
     "data": {
      "text/plain": [
       "['__add__',\n",
       " '__class__',\n",
       " '__contains__',\n",
       " '__delattr__',\n",
       " '__delitem__',\n",
       " '__dir__',\n",
       " '__doc__',\n",
       " '__eq__',\n",
       " '__format__',\n",
       " '__ge__',\n",
       " '__getattribute__',\n",
       " '__getitem__',\n",
       " '__gt__',\n",
       " '__hash__',\n",
       " '__iadd__',\n",
       " '__imul__',\n",
       " '__init__',\n",
       " '__iter__',\n",
       " '__le__',\n",
       " '__len__',\n",
       " '__lt__',\n",
       " '__mul__',\n",
       " '__ne__',\n",
       " '__new__',\n",
       " '__reduce__',\n",
       " '__reduce_ex__',\n",
       " '__repr__',\n",
       " '__reversed__',\n",
       " '__rmul__',\n",
       " '__setattr__',\n",
       " '__setitem__',\n",
       " '__sizeof__',\n",
       " '__str__',\n",
       " '__subclasshook__',\n",
       " 'append',\n",
       " 'clear',\n",
       " 'copy',\n",
       " 'count',\n",
       " 'extend',\n",
       " 'index',\n",
       " 'insert',\n",
       " 'pop',\n",
       " 'remove',\n",
       " 'reverse',\n",
       " 'sort']"
      ]
     },
     "execution_count": 12,
     "metadata": {},
     "output_type": "execute_result"
    }
   ],
   "source": [
    "dir(list)"
   ]
  },
  {
   "cell_type": "code",
   "execution_count": 13,
   "metadata": {
    "input_collapsed": false
   },
   "outputs": [
    {
     "data": {
      "text/plain": [
       "['append',\n",
       " 'clear',\n",
       " 'copy',\n",
       " 'count',\n",
       " 'extend',\n",
       " 'index',\n",
       " 'insert',\n",
       " 'pop',\n",
       " 'remove',\n",
       " 'reverse',\n",
       " 'sort']"
      ]
     },
     "execution_count": 13,
     "metadata": {},
     "output_type": "execute_result"
    }
   ],
   "source": [
    "directory_list = [item for item in dir(list) if \"_\" not in item]\n",
    "directory_list"
   ]
  },
  {
   "cell_type": "code",
   "execution_count": 14,
   "metadata": {
    "input_collapsed": false
   },
   "outputs": [
    {
     "data": {
      "text/plain": [
       "['count', 'index']"
      ]
     },
     "execution_count": 14,
     "metadata": {},
     "output_type": "execute_result"
    }
   ],
   "source": [
    "directory_tuples = [item for item in dir(tuple) if \"_\" not in item]\n",
    "directory_tuples"
   ]
  },
  {
   "cell_type": "code",
   "execution_count": 15,
   "metadata": {
    "input_collapsed": false
   },
   "outputs": [
    {
     "data": {
      "text/plain": [
       "0"
      ]
     },
     "execution_count": 15,
     "metadata": {},
     "output_type": "execute_result"
    }
   ],
   "source": [
    "coordinate.index(35.3606)"
   ]
  },
  {
   "cell_type": "code",
   "execution_count": 16,
   "metadata": {
    "input_collapsed": false
   },
   "outputs": [
    {
     "data": {
      "text/plain": [
       "1"
      ]
     },
     "execution_count": 16,
     "metadata": {},
     "output_type": "execute_result"
    }
   ],
   "source": [
    "coordinate.count(35.3606)"
   ]
  },
  {
   "cell_type": "markdown",
   "metadata": {},
   "source": [
    "___\n",
    "### Tuple Concatenation"
   ]
  },
  {
   "cell_type": "code",
   "execution_count": 17,
   "metadata": {
    "input_collapsed": false
   },
   "outputs": [],
   "source": [
    "tup_1 = (1,2,3)\n",
    "tup_2 = (4,5,6)\n",
    "tup_3 = tup_1 + tup_2"
   ]
  },
  {
   "cell_type": "code",
   "execution_count": 18,
   "metadata": {
    "input_collapsed": false
   },
   "outputs": [
    {
     "data": {
      "text/plain": [
       "(1, 2, 3, 1, 2, 3, 1, 2, 3)"
      ]
     },
     "execution_count": 18,
     "metadata": {},
     "output_type": "execute_result"
    }
   ],
   "source": [
    "tup_1 = tup_1 * 3\n",
    "tup_1"
   ]
  },
  {
   "cell_type": "code",
   "execution_count": 19,
   "metadata": {
    "input_collapsed": false
   },
   "outputs": [
    {
     "data": {
      "text/plain": [
       "(1, 2, 3, 4, 5, 6)"
      ]
     },
     "execution_count": 19,
     "metadata": {},
     "output_type": "execute_result"
    }
   ],
   "source": [
    "tup_1 = (1,2,3)\n",
    "tup_2 = (4,5,6)\n",
    "tup_1 += tup_2\n",
    "tup_1"
   ]
  },
  {
   "cell_type": "code",
   "execution_count": 20,
   "metadata": {
    "input_collapsed": false
   },
   "outputs": [
    {
     "data": {
      "text/plain": [
       "(1, 2, 3, 4)"
      ]
     },
     "execution_count": 20,
     "metadata": {},
     "output_type": "execute_result"
    }
   ],
   "source": [
    "tup_1 = (1,2,3)\n",
    "tup_1 = tup_1 + (4,)\n",
    "tup_1"
   ]
  },
  {
   "cell_type": "markdown",
   "metadata": {
    "input_collapsed": true
   },
   "source": [
    "___\n",
    "### Tuple Unpacking"
   ]
  },
  {
   "cell_type": "code",
   "execution_count": 21,
   "metadata": {
    "input_collapsed": false
   },
   "outputs": [
    {
     "name": "stdout",
     "output_type": "stream",
     "text": [
      "1\n",
      "2\n",
      "3\n"
     ]
    }
   ],
   "source": [
    "x, y, z = 1, 2, 3 # Python 3 only\n",
    "print(x)\n",
    "print(y)\n",
    "print(z)"
   ]
  },
  {
   "cell_type": "code",
   "execution_count": 22,
   "metadata": {
    "input_collapsed": false
   },
   "outputs": [
    {
     "name": "stdout",
     "output_type": "stream",
     "text": [
      "1\n",
      "2\n",
      "3\n"
     ]
    }
   ],
   "source": [
    "a_tuple = 1, 2, 3\n",
    "x, y, z = a_tuple\n",
    "print(x)\n",
    "print(y)\n",
    "print(z)"
   ]
  },
  {
   "cell_type": "code",
   "execution_count": 23,
   "metadata": {
    "input_collapsed": false
   },
   "outputs": [
    {
     "ename": "ValueError",
     "evalue": "too many values to unpack (expected 3)",
     "output_type": "error",
     "traceback": [
      "\u001b[0;31m---------------------------------------------------------------------------\u001b[0m",
      "\u001b[0;31mValueError\u001b[0m                                Traceback (most recent call last)",
      "\u001b[0;32m<ipython-input-23-e7a12189ee3e>\u001b[0m in \u001b[0;36m<module>\u001b[0;34m()\u001b[0m\n\u001b[1;32m      1\u001b[0m \u001b[0ma_tuple\u001b[0m \u001b[0;34m=\u001b[0m \u001b[0;36m1\u001b[0m\u001b[0;34m,\u001b[0m \u001b[0;36m2\u001b[0m\u001b[0;34m,\u001b[0m \u001b[0;36m3\u001b[0m\u001b[0;34m,\u001b[0m \u001b[0;36m4\u001b[0m\u001b[0;34m,\u001b[0m \u001b[0;36m5\u001b[0m\u001b[0;34m,\u001b[0m \u001b[0;36m6\u001b[0m\u001b[0;34m,\u001b[0m \u001b[0;36m7\u001b[0m\u001b[0;34m,\u001b[0m \u001b[0;36m8\u001b[0m\u001b[0;34m,\u001b[0m \u001b[0;36m9\u001b[0m\u001b[0;34m\u001b[0m\u001b[0m\n\u001b[0;32m----> 2\u001b[0;31m \u001b[0mx\u001b[0m\u001b[0;34m,\u001b[0m \u001b[0my\u001b[0m\u001b[0;34m,\u001b[0m \u001b[0mz\u001b[0m \u001b[0;34m=\u001b[0m \u001b[0ma_tuple\u001b[0m\u001b[0;34m\u001b[0m\u001b[0m\n\u001b[0m\u001b[1;32m      3\u001b[0m \u001b[0mprint\u001b[0m\u001b[0;34m(\u001b[0m\u001b[0mx\u001b[0m\u001b[0;34m)\u001b[0m\u001b[0;34m\u001b[0m\u001b[0m\n\u001b[1;32m      4\u001b[0m \u001b[0mprint\u001b[0m\u001b[0;34m(\u001b[0m\u001b[0my\u001b[0m\u001b[0;34m)\u001b[0m\u001b[0;34m\u001b[0m\u001b[0m\n\u001b[1;32m      5\u001b[0m \u001b[0mprint\u001b[0m\u001b[0;34m(\u001b[0m\u001b[0mz\u001b[0m\u001b[0;34m)\u001b[0m\u001b[0;34m\u001b[0m\u001b[0m\n",
      "\u001b[0;31mValueError\u001b[0m: too many values to unpack (expected 3)"
     ]
    }
   ],
   "source": [
    "a_tuple = 1, 2, 3, 4, 5, 6, 7, 8, 9\n",
    "x, y, z = a_tuple\n",
    "print(x)\n",
    "print(y)\n",
    "print(z)"
   ]
  },
  {
   "cell_type": "code",
   "execution_count": 24,
   "metadata": {
    "input_collapsed": false
   },
   "outputs": [
    {
     "data": {
      "text/plain": [
       "18"
      ]
     },
     "execution_count": 24,
     "metadata": {},
     "output_type": "execute_result"
    }
   ],
   "source": [
    "def add_three_numbers(num1, num2, num3):\n",
    "    return num1 + num2 + num3\n",
    "\n",
    "add_three_numbers(3, 5, 10)"
   ]
  },
  {
   "cell_type": "code",
   "execution_count": 25,
   "metadata": {
    "input_collapsed": false
   },
   "outputs": [
    {
     "name": "stdout",
     "output_type": "stream",
     "text": [
      "(1, 2, 3, 4, 5, 6, 7)\n"
     ]
    }
   ],
   "source": [
    "def add_numbers(*args):\n",
    "    return print(args)\n",
    "\n",
    "add_numbers(1, 2, 3, 4, 5, 6, 7)"
   ]
  },
  {
   "cell_type": "code",
   "execution_count": 30,
   "metadata": {
    "input_collapsed": false
   },
   "outputs": [
    {
     "name": "stdout",
     "output_type": "stream",
     "text": [
      "1\n",
      "[2, 3, 4, 5, 6, 7, 8]\n",
      "9\n"
     ]
    }
   ],
   "source": [
    "a_tuple = 1, 2, 3, 4, 5, 6, 7, 8, 9 \n",
    "x, *y, z = a_tuple\n",
    "print(x)\n",
    "print(y)\n",
    "print(z)"
   ]
  },
  {
   "cell_type": "markdown",
   "metadata": {
    "input_collapsed": true
   },
   "source": [
    "___\n",
    "### Tuple Packing"
   ]
  },
  {
   "cell_type": "code",
   "execution_count": 31,
   "metadata": {
    "input_collapsed": false
   },
   "outputs": [
    {
     "name": "stdout",
     "output_type": "stream",
     "text": [
      "Nooooo\n",
      "Nooooo\n"
     ]
    }
   ],
   "source": [
    "def frivolous_print(text):\n",
    "    print(text)\n",
    "    \n",
    "print(\"Nooooo\")\n",
    "frivolous_print(\"Nooooo\")"
   ]
  },
  {
   "cell_type": "code",
   "execution_count": 32,
   "metadata": {
    "input_collapsed": false
   },
   "outputs": [
    {
     "name": "stdout",
     "output_type": "stream",
     "text": [
      "Nooooo Yesssss\n"
     ]
    },
    {
     "ename": "TypeError",
     "evalue": "frivolous_print() takes 1 positional argument but 2 were given",
     "output_type": "error",
     "traceback": [
      "\u001b[0;31m---------------------------------------------------------------------------\u001b[0m",
      "\u001b[0;31mTypeError\u001b[0m                                 Traceback (most recent call last)",
      "\u001b[0;32m<ipython-input-32-0672c6f3dd12>\u001b[0m in \u001b[0;36m<module>\u001b[0;34m()\u001b[0m\n\u001b[1;32m      1\u001b[0m \u001b[0mprint\u001b[0m\u001b[0;34m(\u001b[0m\u001b[0;34m\"Nooooo\"\u001b[0m\u001b[0;34m,\u001b[0m \u001b[0;34m\"Yesssss\"\u001b[0m\u001b[0;34m)\u001b[0m\u001b[0;34m\u001b[0m\u001b[0m\n\u001b[0;32m----> 2\u001b[0;31m \u001b[0mfrivolous_print\u001b[0m\u001b[0;34m(\u001b[0m\u001b[0;34m\"Nooooo\"\u001b[0m\u001b[0;34m,\u001b[0m \u001b[0;34m\"Yesssss\"\u001b[0m\u001b[0;34m)\u001b[0m\u001b[0;34m\u001b[0m\u001b[0m\n\u001b[0m",
      "\u001b[0;31mTypeError\u001b[0m: frivolous_print() takes 1 positional argument but 2 were given"
     ]
    }
   ],
   "source": [
    "print(\"Nooooo\", \"Yesssss\")\n",
    "frivolous_print(\"Nooooo\", \"Yesssss\")"
   ]
  },
  {
   "cell_type": "code",
   "execution_count": 33,
   "metadata": {
    "input_collapsed": false
   },
   "outputs": [
    {
     "name": "stdout",
     "output_type": "stream",
     "text": [
      "Nooooo Yesssss\n",
      "('Nooooo', 'Yesssss')\n"
     ]
    }
   ],
   "source": [
    "def less_frivolous_print(*text):\n",
    "    print(text)\n",
    "    \n",
    "print(\"Nooooo\", \"Yesssss\")\n",
    "less_frivolous_print(\"Nooooo\", \"Yesssss\")"
   ]
  },
  {
   "cell_type": "code",
   "execution_count": 34,
   "metadata": {
    "input_collapsed": false,
    "scrolled": true
   },
   "outputs": [
    {
     "name": "stdout",
     "output_type": "stream",
     "text": [
      "('Nooooo', 'Yesssss')\n"
     ]
    }
   ],
   "source": [
    "text = \"Nooooo\", \"Yesssss\"\n",
    "print(text)"
   ]
  },
  {
   "cell_type": "code",
   "execution_count": 35,
   "metadata": {
    "input_collapsed": false
   },
   "outputs": [
    {
     "name": "stdout",
     "output_type": "stream",
     "text": [
      "Nooooo Yesssss\n",
      "Nooooo Yesssss "
     ]
    }
   ],
   "source": [
    "def still_frivolous_print(*text):\n",
    "    for i in text:\n",
    "        print(i, end=\" \")\n",
    "    \n",
    "print(\"Nooooo\", \"Yesssss\")\n",
    "still_frivolous_print(\"Nooooo\", \"Yesssss\")"
   ]
  },
  {
   "cell_type": "code",
   "execution_count": 36,
   "metadata": {
    "input_collapsed": false
   },
   "outputs": [],
   "source": [
    "?print"
   ]
  },
  {
   "cell_type": "code",
   "execution_count": 37,
   "metadata": {
    "input_collapsed": false
   },
   "outputs": [
    {
     "name": "stdout",
     "output_type": "stream",
     "text": [
      "Nooooo Yesssss\n",
      "Nooooo Yesssss\n"
     ]
    }
   ],
   "source": [
    "def not_frivolous_print(*text):\n",
    "    print(*text)\n",
    "    \n",
    "print(\"Nooooo\", \"Yesssss\")\n",
    "not_frivolous_print(\"Nooooo\", \"Yesssss\")"
   ]
  },
  {
   "cell_type": "markdown",
   "metadata": {
    "input_collapsed": true
   },
   "source": [
    "___\n",
    "### Generator and yield"
   ]
  },
  {
   "cell_type": "markdown",
   "metadata": {
    "input_collapsed": false
   },
   "source": [
    "### List comprehension"
   ]
  },
  {
   "cell_type": "code",
   "execution_count": 38,
   "metadata": {
    "input_collapsed": false
   },
   "outputs": [
    {
     "data": {
      "text/plain": [
       "[5, 6, 7, 8, 9, 10, 11, 12, 13, 14]"
      ]
     },
     "execution_count": 38,
     "metadata": {},
     "output_type": "execute_result"
    }
   ],
   "source": [
    "[x + 5 for x in range(10)]"
   ]
  },
  {
   "cell_type": "code",
   "execution_count": 39,
   "metadata": {
    "input_collapsed": false
   },
   "outputs": [
    {
     "data": {
      "text/plain": [
       "[5, 6, 7, 8, 9, 10, 11, 12, 13, 14]"
      ]
     },
     "execution_count": 39,
     "metadata": {},
     "output_type": "execute_result"
    }
   ],
   "source": [
    "a = []\n",
    "for x in range(10):\n",
    "    a.append(x + 5)\n",
    "a"
   ]
  },
  {
   "cell_type": "code",
   "execution_count": 40,
   "metadata": {
    "input_collapsed": false
   },
   "outputs": [
    {
     "data": {
      "text/plain": [
       "<generator object <genexpr> at 0x00000255A2D7E990>"
      ]
     },
     "execution_count": 40,
     "metadata": {},
     "output_type": "execute_result"
    }
   ],
   "source": [
    "gen = (x + 5 for x in range(10))\n",
    "gen"
   ]
  },
  {
   "cell_type": "code",
   "execution_count": 41,
   "metadata": {
    "input_collapsed": false
   },
   "outputs": [
    {
     "name": "stdout",
     "output_type": "stream",
     "text": [
      "5\n",
      "6\n",
      "7\n",
      "8\n",
      "9\n",
      "10\n",
      "11\n",
      "12\n",
      "13\n",
      "14\n"
     ]
    }
   ],
   "source": [
    "for i in gen:\n",
    "    print(i)"
   ]
  },
  {
   "cell_type": "code",
   "execution_count": 42,
   "metadata": {
    "collapsed": true,
    "input_collapsed": false
   },
   "outputs": [],
   "source": [
    "gen = (x + 5 for x in range(10))"
   ]
  },
  {
   "cell_type": "code",
   "execution_count": 44,
   "metadata": {
    "input_collapsed": false
   },
   "outputs": [
    {
     "data": {
      "text/plain": [
       "6"
      ]
     },
     "execution_count": 44,
     "metadata": {},
     "output_type": "execute_result"
    }
   ],
   "source": [
    "next(gen,0)"
   ]
  },
  {
   "cell_type": "code",
   "execution_count": 45,
   "metadata": {
    "collapsed": true,
    "input_collapsed": false
   },
   "outputs": [],
   "source": [
    "?next"
   ]
  },
  {
   "cell_type": "code",
   "execution_count": 46,
   "metadata": {
    "input_collapsed": false
   },
   "outputs": [
    {
     "data": {
      "text/plain": [
       "generator"
      ]
     },
     "execution_count": 46,
     "metadata": {},
     "output_type": "execute_result"
    }
   ],
   "source": [
    "type(gen)"
   ]
  },
  {
   "cell_type": "code",
   "execution_count": 48,
   "metadata": {
    "collapsed": true,
    "input_collapsed": false
   },
   "outputs": [],
   "source": [
    "import datetime\n",
    "import time"
   ]
  },
  {
   "cell_type": "code",
   "execution_count": 49,
   "metadata": {
    "collapsed": true
   },
   "outputs": [],
   "source": [
    "def fibon(n):\n",
    "    a = b = 1\n",
    "    for i in range(n):\n",
    "        yield a\n",
    "        a, b = b, a + b"
   ]
  },
  {
   "cell_type": "code",
   "execution_count": 50,
   "metadata": {},
   "outputs": [
    {
     "name": "stdout",
     "output_type": "stream",
     "text": [
      "1\n",
      "1\n",
      "2\n",
      "3\n",
      "5\n",
      "8\n",
      "13\n",
      "21\n",
      "34\n",
      "55\n",
      "89\n",
      "144\n",
      "233\n",
      "377\n",
      "610\n",
      "987\n",
      "1597\n",
      "2584\n",
      "4181\n",
      "6765\n",
      "10946\n",
      "17711\n",
      "28657\n",
      "46368\n",
      "75025\n",
      "121393\n",
      "196418\n",
      "317811\n",
      "514229\n",
      "832040\n",
      "1346269\n",
      "2178309\n",
      "3524578\n",
      "5702887\n",
      "9227465\n",
      "14930352\n",
      "24157817\n",
      "39088169\n",
      "63245986\n",
      "102334155\n",
      "165580141\n",
      "267914296\n",
      "433494437\n",
      "701408733\n",
      "1134903170\n",
      "1836311903\n",
      "2971215073\n",
      "4807526976\n",
      "7778742049\n",
      "12586269025\n",
      "20365011074\n",
      "32951280099\n",
      "53316291173\n",
      "86267571272\n",
      "139583862445\n",
      "225851433717\n",
      "365435296162\n",
      "591286729879\n",
      "956722026041\n",
      "1548008755920\n",
      "2504730781961\n",
      "4052739537881\n",
      "6557470319842\n",
      "10610209857723\n",
      "17167680177565\n",
      "27777890035288\n",
      "44945570212853\n",
      "72723460248141\n",
      "117669030460994\n",
      "190392490709135\n",
      "308061521170129\n",
      "498454011879264\n",
      "806515533049393\n",
      "1304969544928657\n",
      "2111485077978050\n",
      "3416454622906707\n",
      "5527939700884757\n",
      "8944394323791464\n",
      "14472334024676221\n",
      "23416728348467685\n",
      "37889062373143906\n",
      "61305790721611591\n",
      "99194853094755497\n",
      "160500643816367088\n",
      "259695496911122585\n",
      "420196140727489673\n",
      "679891637638612258\n",
      "1100087778366101931\n",
      "1779979416004714189\n",
      "2880067194370816120\n",
      "4660046610375530309\n",
      "7540113804746346429\n",
      "12200160415121876738\n",
      "19740274219868223167\n",
      "31940434634990099905\n",
      "51680708854858323072\n",
      "83621143489848422977\n",
      "135301852344706746049\n",
      "218922995834555169026\n",
      "354224848179261915075\n",
      "573147844013817084101\n",
      "927372692193078999176\n",
      "1500520536206896083277\n",
      "2427893228399975082453\n",
      "3928413764606871165730\n",
      "6356306993006846248183\n",
      "10284720757613717413913\n",
      "16641027750620563662096\n",
      "26925748508234281076009\n",
      "43566776258854844738105\n",
      "70492524767089125814114\n",
      "114059301025943970552219\n",
      "184551825793033096366333\n",
      "298611126818977066918552\n",
      "483162952612010163284885\n",
      "781774079430987230203437\n",
      "1264937032042997393488322\n",
      "2046711111473984623691759\n",
      "3311648143516982017180081\n",
      "5358359254990966640871840\n",
      "8670007398507948658051921\n",
      "14028366653498915298923761\n",
      "22698374052006863956975682\n",
      "36726740705505779255899443\n",
      "59425114757512643212875125\n",
      "96151855463018422468774568\n",
      "155576970220531065681649693\n",
      "251728825683549488150424261\n",
      "407305795904080553832073954\n",
      "659034621587630041982498215\n",
      "1066340417491710595814572169\n",
      "1725375039079340637797070384\n",
      "2791715456571051233611642553\n",
      "4517090495650391871408712937\n",
      "7308805952221443105020355490\n",
      "11825896447871834976429068427\n",
      "19134702400093278081449423917\n",
      "30960598847965113057878492344\n",
      "50095301248058391139327916261\n",
      "81055900096023504197206408605\n",
      "131151201344081895336534324866\n",
      "212207101440105399533740733471\n",
      "343358302784187294870275058337\n",
      "555565404224292694404015791808\n",
      "898923707008479989274290850145\n",
      "1454489111232772683678306641953\n",
      "2353412818241252672952597492098\n",
      "3807901929474025356630904134051\n",
      "6161314747715278029583501626149\n",
      "9969216677189303386214405760200\n",
      "16130531424904581415797907386349\n",
      "26099748102093884802012313146549\n",
      "42230279526998466217810220532898\n",
      "68330027629092351019822533679447\n",
      "110560307156090817237632754212345\n",
      "178890334785183168257455287891792\n",
      "289450641941273985495088042104137\n",
      "468340976726457153752543329995929\n",
      "757791618667731139247631372100066\n",
      "1226132595394188293000174702095995\n",
      "1983924214061919432247806074196061\n",
      "3210056809456107725247980776292056\n",
      "5193981023518027157495786850488117\n",
      "8404037832974134882743767626780173\n",
      "13598018856492162040239554477268290\n",
      "22002056689466296922983322104048463\n",
      "35600075545958458963222876581316753\n",
      "57602132235424755886206198685365216\n",
      "93202207781383214849429075266681969\n",
      "150804340016807970735635273952047185\n",
      "244006547798191185585064349218729154\n",
      "394810887814999156320699623170776339\n",
      "638817435613190341905763972389505493\n",
      "1033628323428189498226463595560281832\n",
      "1672445759041379840132227567949787325\n",
      "2706074082469569338358691163510069157\n",
      "4378519841510949178490918731459856482\n",
      "7084593923980518516849609894969925639\n",
      "11463113765491467695340528626429782121\n",
      "18547707689471986212190138521399707760\n",
      "30010821454963453907530667147829489881\n",
      "48558529144435440119720805669229197641\n",
      "78569350599398894027251472817058687522\n",
      "127127879743834334146972278486287885163\n",
      "205697230343233228174223751303346572685\n",
      "332825110087067562321196029789634457848\n",
      "538522340430300790495419781092981030533\n",
      "871347450517368352816615810882615488381\n",
      "1409869790947669143312035591975596518914\n",
      "2281217241465037496128651402858212007295\n",
      "3691087032412706639440686994833808526209\n",
      "5972304273877744135569338397692020533504\n",
      "9663391306290450775010025392525829059713\n",
      "15635695580168194910579363790217849593217\n",
      "25299086886458645685589389182743678652930\n",
      "40934782466626840596168752972961528246147\n",
      "66233869353085486281758142155705206899077\n",
      "107168651819712326877926895128666735145224\n",
      "173402521172797813159685037284371942044301\n",
      "280571172992510140037611932413038677189525\n",
      "0:00:00.004010\n"
     ]
    }
   ],
   "source": [
    "now = datetime.datetime.now()\n",
    "for x in fibon(200):\n",
    "    print(x)\n",
    "    later = datetime.datetime.now()\n",
    "\n",
    "print(later-now)"
   ]
  },
  {
   "cell_type": "code",
   "execution_count": 51,
   "metadata": {
    "collapsed": true
   },
   "outputs": [],
   "source": [
    "def fibon(n):\n",
    "    a = b = 1\n",
    "    result = []\n",
    "    for i in range(n):\n",
    "        result.append(a)\n",
    "        a, b = b, a + b\n",
    "    return result"
   ]
  },
  {
   "cell_type": "code",
   "execution_count": 52,
   "metadata": {},
   "outputs": [
    {
     "name": "stdout",
     "output_type": "stream",
     "text": [
      "1\n",
      "1\n",
      "2\n",
      "3\n",
      "5\n",
      "8\n",
      "13\n",
      "21\n",
      "34\n",
      "55\n",
      "89\n",
      "144\n",
      "233\n",
      "377\n",
      "610\n",
      "987\n",
      "1597\n",
      "2584\n",
      "4181\n",
      "6765\n",
      "10946\n",
      "17711\n",
      "28657\n",
      "46368\n",
      "75025\n",
      "121393\n",
      "196418\n",
      "317811\n",
      "514229\n",
      "832040\n",
      "1346269\n",
      "2178309\n",
      "3524578\n",
      "5702887\n",
      "9227465\n",
      "14930352\n",
      "24157817\n",
      "39088169\n",
      "63245986\n",
      "102334155\n",
      "165580141\n",
      "267914296\n",
      "433494437\n",
      "701408733\n",
      "1134903170\n",
      "1836311903\n",
      "2971215073\n",
      "4807526976\n",
      "7778742049\n",
      "12586269025\n",
      "20365011074\n",
      "32951280099\n",
      "53316291173\n",
      "86267571272\n",
      "139583862445\n",
      "225851433717\n",
      "365435296162\n",
      "591286729879\n",
      "956722026041\n",
      "1548008755920\n",
      "2504730781961\n",
      "4052739537881\n",
      "6557470319842\n",
      "10610209857723\n",
      "17167680177565\n",
      "27777890035288\n",
      "44945570212853\n",
      "72723460248141\n",
      "117669030460994\n",
      "190392490709135\n",
      "308061521170129\n",
      "498454011879264\n",
      "806515533049393\n",
      "1304969544928657\n",
      "2111485077978050\n",
      "3416454622906707\n",
      "5527939700884757\n",
      "8944394323791464\n",
      "14472334024676221\n",
      "23416728348467685\n",
      "37889062373143906\n",
      "61305790721611591\n",
      "99194853094755497\n",
      "160500643816367088\n",
      "259695496911122585\n",
      "420196140727489673\n",
      "679891637638612258\n",
      "1100087778366101931\n",
      "1779979416004714189\n",
      "2880067194370816120\n",
      "4660046610375530309\n",
      "7540113804746346429\n",
      "12200160415121876738\n",
      "19740274219868223167\n",
      "31940434634990099905\n",
      "51680708854858323072\n",
      "83621143489848422977\n",
      "135301852344706746049\n",
      "218922995834555169026\n",
      "354224848179261915075\n",
      "573147844013817084101\n",
      "927372692193078999176\n",
      "1500520536206896083277\n",
      "2427893228399975082453\n",
      "3928413764606871165730\n",
      "6356306993006846248183\n",
      "10284720757613717413913\n",
      "16641027750620563662096\n",
      "26925748508234281076009\n",
      "43566776258854844738105\n",
      "70492524767089125814114\n",
      "114059301025943970552219\n",
      "184551825793033096366333\n",
      "298611126818977066918552\n",
      "483162952612010163284885\n",
      "781774079430987230203437\n",
      "1264937032042997393488322\n",
      "2046711111473984623691759\n",
      "3311648143516982017180081\n",
      "5358359254990966640871840\n",
      "8670007398507948658051921\n",
      "14028366653498915298923761\n",
      "22698374052006863956975682\n",
      "36726740705505779255899443\n",
      "59425114757512643212875125\n",
      "96151855463018422468774568\n",
      "155576970220531065681649693\n",
      "251728825683549488150424261\n",
      "407305795904080553832073954\n",
      "659034621587630041982498215\n",
      "1066340417491710595814572169\n",
      "1725375039079340637797070384\n",
      "2791715456571051233611642553\n",
      "4517090495650391871408712937\n",
      "7308805952221443105020355490\n",
      "11825896447871834976429068427\n",
      "19134702400093278081449423917\n",
      "30960598847965113057878492344\n",
      "50095301248058391139327916261\n",
      "81055900096023504197206408605\n",
      "131151201344081895336534324866\n",
      "212207101440105399533740733471\n",
      "343358302784187294870275058337\n",
      "555565404224292694404015791808\n",
      "898923707008479989274290850145\n",
      "1454489111232772683678306641953\n",
      "2353412818241252672952597492098\n",
      "3807901929474025356630904134051\n",
      "6161314747715278029583501626149\n",
      "9969216677189303386214405760200\n",
      "16130531424904581415797907386349\n",
      "26099748102093884802012313146549\n",
      "42230279526998466217810220532898\n",
      "68330027629092351019822533679447\n",
      "110560307156090817237632754212345\n",
      "178890334785183168257455287891792\n",
      "289450641941273985495088042104137\n",
      "468340976726457153752543329995929\n",
      "757791618667731139247631372100066\n",
      "1226132595394188293000174702095995\n",
      "1983924214061919432247806074196061\n",
      "3210056809456107725247980776292056\n",
      "5193981023518027157495786850488117\n",
      "8404037832974134882743767626780173\n",
      "13598018856492162040239554477268290\n",
      "22002056689466296922983322104048463\n",
      "35600075545958458963222876581316753\n",
      "57602132235424755886206198685365216\n",
      "93202207781383214849429075266681969\n",
      "150804340016807970735635273952047185\n",
      "244006547798191185585064349218729154\n",
      "394810887814999156320699623170776339\n",
      "638817435613190341905763972389505493\n",
      "1033628323428189498226463595560281832\n",
      "1672445759041379840132227567949787325\n",
      "2706074082469569338358691163510069157\n",
      "4378519841510949178490918731459856482\n",
      "7084593923980518516849609894969925639\n",
      "11463113765491467695340528626429782121\n",
      "18547707689471986212190138521399707760\n",
      "30010821454963453907530667147829489881\n",
      "48558529144435440119720805669229197641\n",
      "78569350599398894027251472817058687522\n",
      "127127879743834334146972278486287885163\n",
      "205697230343233228174223751303346572685\n",
      "332825110087067562321196029789634457848\n",
      "538522340430300790495419781092981030533\n",
      "871347450517368352816615810882615488381\n",
      "1409869790947669143312035591975596518914\n",
      "2281217241465037496128651402858212007295\n",
      "3691087032412706639440686994833808526209\n",
      "5972304273877744135569338397692020533504\n",
      "9663391306290450775010025392525829059713\n",
      "15635695580168194910579363790217849593217\n",
      "25299086886458645685589389182743678652930\n",
      "40934782466626840596168752972961528246147\n",
      "66233869353085486281758142155705206899077\n",
      "107168651819712326877926895128666735145224\n",
      "173402521172797813159685037284371942044301\n",
      "280571172992510140037611932413038677189525\n",
      "0:00:00.006017\n"
     ]
    }
   ],
   "source": [
    "now = datetime.datetime.now()\n",
    "for x in fibon(200):\n",
    "    print(x)\n",
    "later = datetime.datetime.now()    \n",
    "\n",
    "print(later-now)    "
   ]
  },
  {
   "cell_type": "markdown",
   "metadata": {},
   "source": [
    "## Homework 5"
   ]
  },
  {
   "cell_type": "markdown",
   "metadata": {},
   "source": [
    "## ATTENTION!! These functions do not have parameters by default, so you need to add them as needed"
   ]
  },
  {
   "cell_type": "code",
   "execution_count": null,
   "metadata": {},
   "outputs": [],
   "source": [
    "# 1\n",
    "def name_length():\n",
    "    \"\"\"return a tuple with 2 elements: the input_name in Titlecase (e.g. Adam, not adam) and the length of the name\"\"\"\n",
    "    \n",
    "# Test cases\n",
    "assert name_length(\"ken\") == (\"Ken\", 5)\n",
    "assert name_length(\"michael Bloomberg\") == (\"Michael Bloomberg\", 16)\n",
    "assert name_length(\"donald john Trump\") == (\"Donald John Trump\", 15)\n",
    "\n",
    "# 2\n",
    "def numbered_str():\n",
    "    \"\"\"Combines some strings into one string and add a number before each of the original strings to specify their orders\"\"\"\n",
    "    \n",
    "assert numbered_str(\"I\", \"hate\", \"doing\", \"this\", \"homework\") == \"1.I 2.hate 3.doing 4.this 5.homework\"\n",
    "assert numbered_str(\"Just\", \"kidding\", \"homework\", \"is\", \"great!\") == \"1.Just 2.kidding 3.homework 4.is 5.great!\"\n",
    "\n",
    "# 3\n",
    "def switch_pairs():\n",
    "    \"\"\"For each pair of items in a list, switch their orders\"\"\"\n",
    "    \n",
    "assert switch_pairs([1, 2, 3, 4]) == [2, 1, 4, 3]\n",
    "assert switch_pairs([8, 7, 10, 9, \"hello\"]) == [7, 8, 9, 10, \"hello\"]\n",
    "assert switch_pairs([\"a\", \"a\", \"a\", \"a\"]) == [\"a\", \"a\", \"a\", \"a\"]"
   ]
  },
  {
   "cell_type": "markdown",
   "metadata": {},
   "source": [
    "## Homework 6"
   ]
  },
  {
   "cell_type": "code",
   "execution_count": null,
   "metadata": {},
   "outputs": [],
   "source": [
    "# 1\n",
    "def sum_digits():\n",
    "    \"\"\"Given an integer, returns the sum of the absolute value of each of the number's digits.\"\"\"\n",
    "    \n",
    "assert sum_digits(10) == 1 + 0 == 1\n",
    "assert sum_digits(99) == 9 + 9 == 18\n",
    "assert sum_digits(-32) == 3 + 2 == 5\n",
    "assert sum_digits(0) == 0"
   ]
  },
  {
   "cell_type": "code",
   "execution_count": null,
   "metadata": {},
   "outputs": [],
   "source": [
    "# 2\n",
    "def is_anagram():\n",
    "    \"\"\"See description below\"\"\"\n",
    "    \n",
    "# Test cases\n",
    "assert is_anagram('Creative', 'Reactive') == True\n",
    "assert is_anagram(\"foefet\", \"toffee\") == True\n",
    "assert is_anagram(\"Buckethead\", \"DeathCubeK\") == True\n",
    "assert is_anagram(\"Twoo\", \"WooT\") == True\n",
    "assert is_anagram(\"dumble\", \"bumble\") == False\n",
    "assert is_anagram(\"ound\", \"round\") == False\n",
    "assert is_anagram(\"apple\", \"pale\") == False"
   ]
  }
 ],
 "metadata": {
  "input_collapsed": false,
  "kernelspec": {
   "display_name": "Python 3",
   "language": "python",
   "name": "python3"
  },
  "language_info": {
   "codemirror_mode": {
    "name": "ipython",
    "version": 3
   },
   "file_extension": ".py",
   "mimetype": "text/x-python",
   "name": "python",
   "nbconvert_exporter": "python",
   "pygments_lexer": "ipython3",
   "version": "3.7.3"
  }
 },
 "nbformat": 4,
 "nbformat_minor": 2
}
