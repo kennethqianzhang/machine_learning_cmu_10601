{
 "cells": [
  {
   "cell_type": "markdown",
   "metadata": {},
   "source": [
    "# Python Training 2021 - Class 4"
   ]
  },
  {
   "cell_type": "markdown",
   "metadata": {
    "input_collapsed": true
   },
   "source": [
    "___\n",
    "### Define a list"
   ]
  },
  {
   "cell_type": "code",
   "execution_count": 1,
   "metadata": {
    "input_collapsed": false
   },
   "outputs": [
    {
     "data": {
      "text/plain": [
       "[1, 2, 3]"
      ]
     },
     "execution_count": 1,
     "metadata": {},
     "output_type": "execute_result"
    }
   ],
   "source": [
    "[1, 2, 3]"
   ]
  },
  {
   "cell_type": "code",
   "execution_count": 2,
   "metadata": {
    "input_collapsed": true
   },
   "outputs": [
    {
     "name": "stdout",
     "output_type": "stream",
     "text": [
      "a\n",
      "b\n",
      "c\n",
      "d\n"
     ]
    }
   ],
   "source": [
    "for i in \"abcd\":\n",
    "    print(i)"
   ]
  },
  {
   "cell_type": "code",
   "execution_count": 3,
   "metadata": {
    "input_collapsed": true
   },
   "outputs": [
    {
     "data": {
      "text/plain": [
       "['a', 'b', 'c', 'd']"
      ]
     },
     "execution_count": 3,
     "metadata": {},
     "output_type": "execute_result"
    }
   ],
   "source": [
    "list(\"abcd\")"
   ]
  },
  {
   "cell_type": "code",
   "execution_count": 4,
   "metadata": {
    "input_collapsed": true
   },
   "outputs": [
    {
     "data": {
      "text/plain": [
       "['a', 'b', 'c', 'd', 'e', 'f']"
      ]
     },
     "execution_count": 4,
     "metadata": {},
     "output_type": "execute_result"
    }
   ],
   "source": [
    "list(\"abcd\" + \"ef\")"
   ]
  },
  {
   "cell_type": "markdown",
   "metadata": {},
   "source": [
    "___\n",
    "### Concatenation"
   ]
  },
  {
   "cell_type": "code",
   "execution_count": 5,
   "metadata": {
    "input_collapsed": true
   },
   "outputs": [
    {
     "data": {
      "text/plain": [
       "[1, 2, 3, 'A', 'B', 'C']"
      ]
     },
     "execution_count": 5,
     "metadata": {},
     "output_type": "execute_result"
    }
   ],
   "source": [
    "[1, 2, 3] + ['A', 'B', 'C']"
   ]
  },
  {
   "cell_type": "code",
   "execution_count": 6,
   "metadata": {
    "input_collapsed": true
   },
   "outputs": [
    {
     "data": {
      "text/plain": [
       "8"
      ]
     },
     "execution_count": 6,
     "metadata": {},
     "output_type": "execute_result"
    }
   ],
   "source": [
    "a = 5\n",
    "a += 3\n",
    "# a = a + 3\n",
    "a"
   ]
  },
  {
   "cell_type": "code",
   "execution_count": 7,
   "metadata": {
    "input_collapsed": true
   },
   "outputs": [
    {
     "data": {
      "text/plain": [
       "[2, 6, 5, 1, 2, 3]"
      ]
     },
     "execution_count": 7,
     "metadata": {},
     "output_type": "execute_result"
    }
   ],
   "source": [
    "random_numbers = [2, 6, 5]\n",
    "random_numbers += [1, 2, 3]\n",
    "random_numbers "
   ]
  },
  {
   "cell_type": "code",
   "execution_count": 8,
   "metadata": {},
   "outputs": [
    {
     "data": {
      "text/plain": [
       "2"
      ]
     },
     "execution_count": 8,
     "metadata": {},
     "output_type": "execute_result"
    }
   ],
   "source": [
    "list_a = [2, 6, 5,5,5,5,5,5,5,5]\n",
    "list_a.index(5)"
   ]
  },
  {
   "cell_type": "code",
   "execution_count": 9,
   "metadata": {
    "input_collapsed": true
   },
   "outputs": [
    {
     "name": "stdout",
     "output_type": "stream",
     "text": [
      "3\n",
      "8\n",
      "8\n"
     ]
    }
   ],
   "source": [
    "list_a = [2, 6, 5]\n",
    "list_b = [1, 2, 3]\n",
    "for i in list_a:\n",
    "    print(list_b[list_a.index(i)] + i)"
   ]
  },
  {
   "cell_type": "code",
   "execution_count": 10,
   "metadata": {
    "input_collapsed": true
   },
   "outputs": [
    {
     "name": "stdout",
     "output_type": "stream",
     "text": [
      "3\n",
      "8\n",
      "8\n"
     ]
    }
   ],
   "source": [
    "list_a = [2, 6, 5]\n",
    "list_b = [1, 2, 3, 10]\n",
    "for i, i2 in zip(list_a, list_b):\n",
    "    print(i+i2)"
   ]
  },
  {
   "cell_type": "code",
   "execution_count": 11,
   "metadata": {
    "input_collapsed": true
   },
   "outputs": [
    {
     "data": {
      "text/plain": [
       "[(2, 1), (6, 2), (5, 3)]"
      ]
     },
     "execution_count": 11,
     "metadata": {},
     "output_type": "execute_result"
    }
   ],
   "source": [
    "list(zip(list_a ,list_b))"
   ]
  },
  {
   "cell_type": "code",
   "execution_count": 12,
   "metadata": {
    "input_collapsed": true
   },
   "outputs": [
    {
     "data": {
      "text/plain": [
       "[[2, 1], [6, 2], [5, 3]]"
      ]
     },
     "execution_count": 12,
     "metadata": {},
     "output_type": "execute_result"
    }
   ],
   "source": [
    "list_a = [2, 6, 5]\n",
    "list_b = [1, 2, 3]\n",
    "c = []\n",
    "for i, i2 in zip(list_a, list_b):\n",
    "    c.append([i, i2])\n",
    "c"
   ]
  },
  {
   "cell_type": "code",
   "execution_count": 13,
   "metadata": {
    "input_collapsed": true
   },
   "outputs": [
    {
     "name": "stdout",
     "output_type": "stream",
     "text": [
      "[2, 6, 5] [1, 2, 3]\n"
     ]
    }
   ],
   "source": [
    "a = []\n",
    "b = []\n",
    "for item in c:\n",
    "    a.append(item[0])\n",
    "    b.append(item[1])\n",
    "    \n",
    "print(a, b)"
   ]
  },
  {
   "cell_type": "code",
   "execution_count": 14,
   "metadata": {
    "input_collapsed": true
   },
   "outputs": [
    {
     "data": {
      "text/plain": [
       "[[2, 6, 5], [1, 2, 3]]"
      ]
     },
     "execution_count": 14,
     "metadata": {},
     "output_type": "execute_result"
    }
   ],
   "source": [
    "c = [list_a, list_b]\n",
    "c"
   ]
  },
  {
   "cell_type": "code",
   "execution_count": 15,
   "metadata": {},
   "outputs": [
    {
     "data": {
      "text/plain": [
       "['__add__',\n",
       " '__class__',\n",
       " '__contains__',\n",
       " '__delattr__',\n",
       " '__delitem__',\n",
       " '__dir__',\n",
       " '__doc__',\n",
       " '__eq__',\n",
       " '__format__',\n",
       " '__ge__',\n",
       " '__getattribute__',\n",
       " '__getitem__',\n",
       " '__gt__',\n",
       " '__hash__',\n",
       " '__iadd__',\n",
       " '__imul__',\n",
       " '__init__',\n",
       " '__init_subclass__',\n",
       " '__iter__',\n",
       " '__le__',\n",
       " '__len__',\n",
       " '__lt__',\n",
       " '__mul__',\n",
       " '__ne__',\n",
       " '__new__',\n",
       " '__reduce__',\n",
       " '__reduce_ex__',\n",
       " '__repr__',\n",
       " '__reversed__',\n",
       " '__rmul__',\n",
       " '__setattr__',\n",
       " '__setitem__',\n",
       " '__sizeof__',\n",
       " '__str__',\n",
       " '__subclasshook__',\n",
       " 'append',\n",
       " 'clear',\n",
       " 'copy',\n",
       " 'count',\n",
       " 'extend',\n",
       " 'index',\n",
       " 'insert',\n",
       " 'pop',\n",
       " 'remove',\n",
       " 'reverse',\n",
       " 'sort']"
      ]
     },
     "execution_count": 15,
     "metadata": {},
     "output_type": "execute_result"
    }
   ],
   "source": [
    "dir(list)"
   ]
  },
  {
   "cell_type": "markdown",
   "metadata": {},
   "source": [
    "___\n",
    "### append() vs extend() vs insert() methods"
   ]
  },
  {
   "cell_type": "code",
   "execution_count": 16,
   "metadata": {
    "input_collapsed": true
   },
   "outputs": [
    {
     "data": {
      "text/plain": [
       "['Ken',\n",
       " 'Jiachen',\n",
       " 'Yuyao',\n",
       " 'Sukanya',\n",
       " 'Jacob',\n",
       " 'Yue',\n",
       " 'Chen',\n",
       " 'Yuanzhe',\n",
       " 'Kaiwen',\n",
       " 'Shaling',\n",
       " 'Qi',\n",
       " 'Hanzhang']"
      ]
     },
     "execution_count": 16,
     "metadata": {},
     "output_type": "execute_result"
    }
   ],
   "source": [
    "classmates = [\"Ken\", \"Jiachen\", \"Yuyao\", \n",
    "              \"Sukanya\", \"Jacob\", \"Yue\", \"Chen\", \"Yuanzhe\", \"Kaiwen\", \"Shaling\", \"Qi\"]\n",
    "new_friend = \"Hanzhang\"\n",
    "classmates.append(new_friend)\n",
    "classmates"
   ]
  },
  {
   "cell_type": "code",
   "execution_count": 17,
   "metadata": {
    "input_collapsed": true
   },
   "outputs": [
    {
     "data": {
      "text/plain": [
       "['Ken',\n",
       " 'Jiachen',\n",
       " 'Yuyao',\n",
       " 'Sukanya',\n",
       " 'Jacob',\n",
       " 'Yue',\n",
       " 'Chen',\n",
       " 'Yuanzhe',\n",
       " 'Kaiwen',\n",
       " 'Shaling',\n",
       " 'Qi',\n",
       " 'Hanzhang']"
      ]
     },
     "execution_count": 17,
     "metadata": {},
     "output_type": "execute_result"
    }
   ],
   "source": [
    "classmates = [\"Ken\", \"Jiachen\", \"Yuyao\", \n",
    "              \"Sukanya\", \"Jacob\", \"Yue\", \"Chen\", \"Yuanzhe\", \"Kaiwen\", \"Shaling\", \"Qi\"]\n",
    "classmates += [new_friend]\n",
    "classmates"
   ]
  },
  {
   "cell_type": "code",
   "execution_count": 18,
   "metadata": {
    "input_collapsed": true
   },
   "outputs": [
    {
     "data": {
      "text/plain": [
       "['Ken',\n",
       " 'Jiachen',\n",
       " 'Yuyao',\n",
       " 'Sukanya',\n",
       " 'Jacob',\n",
       " 'Yue',\n",
       " 'Chen',\n",
       " 'Yuanzhe',\n",
       " 'Kaiwen',\n",
       " 'Shaling',\n",
       " 'Qi',\n",
       " ['Shiyu', 'Bowen']]"
      ]
     },
     "execution_count": 18,
     "metadata": {},
     "output_type": "execute_result"
    }
   ],
   "source": [
    "classmates = [\"Ken\", \"Jiachen\", \"Yuyao\", \n",
    "              \"Sukanya\", \"Jacob\", \"Yue\", \"Chen\", \"Yuanzhe\", \"Kaiwen\", \"Shaling\", \"Qi\"]\n",
    "new_friends = [\"Shiyu\", \"Bowen\"]\n",
    "\n",
    "classmates.append(new_friends)\n",
    "classmates"
   ]
  },
  {
   "cell_type": "code",
   "execution_count": 19,
   "metadata": {
    "input_collapsed": true
   },
   "outputs": [
    {
     "data": {
      "text/plain": [
       "['Ken',\n",
       " 'Jiachen',\n",
       " 'Yuyao',\n",
       " 'Sukanya',\n",
       " 'Jacob',\n",
       " 'Yue',\n",
       " 'Chen',\n",
       " 'Yuanzhe',\n",
       " 'Kaiwen',\n",
       " 'Shaling',\n",
       " 'Qi',\n",
       " 'Yuyi',\n",
       " 'Zhouping']"
      ]
     },
     "execution_count": 19,
     "metadata": {},
     "output_type": "execute_result"
    }
   ],
   "source": [
    "classmates = [\"Ken\", \"Jiachen\", \"Yuyao\", \n",
    "              \"Sukanya\", \"Jacob\", \"Yue\", \"Chen\", \"Yuanzhe\", \"Kaiwen\", \"Shaling\", \"Qi\"]\n",
    "new_friends = [\"Yuyi\", \"Zhouping\"]\n",
    "\n",
    "classmates.extend(new_friends)\n",
    "classmates"
   ]
  },
  {
   "cell_type": "code",
   "execution_count": 20,
   "metadata": {},
   "outputs": [],
   "source": [
    "# append adds an argument as a SINGLE ELEMENT to the end of a list\n",
    "# extend iterates over an argument adding each element to the list"
   ]
  },
  {
   "cell_type": "code",
   "execution_count": 21,
   "metadata": {
    "input_collapsed": true
   },
   "outputs": [
    {
     "data": {
      "text/plain": [
       "['Ken',\n",
       " 'Jiachen',\n",
       " 'Yuyao',\n",
       " 'Sukanya',\n",
       " 'Jacob',\n",
       " 'Yue',\n",
       " 'Chen',\n",
       " 'Yuanzhe',\n",
       " 'Kaiwen',\n",
       " 'Shaling',\n",
       " 'Qi',\n",
       " 'L',\n",
       " 'u',\n",
       " 'c',\n",
       " 'y']"
      ]
     },
     "execution_count": 21,
     "metadata": {},
     "output_type": "execute_result"
    }
   ],
   "source": [
    "classmates = [\"Ken\", \"Jiachen\", \"Yuyao\", \n",
    "              \"Sukanya\", \"Jacob\", \"Yue\", \"Chen\", \"Yuanzhe\", \"Kaiwen\", \"Shaling\", \"Qi\"]\n",
    "classmates.extend('Lucy')\n",
    "classmates"
   ]
  },
  {
   "cell_type": "code",
   "execution_count": 22,
   "metadata": {
    "input_collapsed": true
   },
   "outputs": [
    {
     "data": {
      "text/plain": [
       "['Ken',\n",
       " 'Jiachen',\n",
       " 'Yuyao',\n",
       " 'Sukanya',\n",
       " 'Jacob',\n",
       " 'Yue',\n",
       " 'Chen',\n",
       " 'Yuanzhe',\n",
       " 'Kaiwen',\n",
       " 'Shaling',\n",
       " 'Qi',\n",
       " 'Lucy']"
      ]
     },
     "execution_count": 22,
     "metadata": {},
     "output_type": "execute_result"
    }
   ],
   "source": [
    "classmates = [\"Ken\", \"Jiachen\", \"Yuyao\", \n",
    "              \"Sukanya\", \"Jacob\", \"Yue\", \"Chen\", \"Yuanzhe\", \"Kaiwen\", \"Shaling\", \"Qi\"]\n",
    "classmates.extend([\"Lucy\"])\n",
    "classmates"
   ]
  },
  {
   "cell_type": "code",
   "execution_count": 23,
   "metadata": {
    "input_collapsed": true
   },
   "outputs": [
    {
     "data": {
      "text/plain": [
       "[1, 2, 3, 10, 4, 5, 6]"
      ]
     },
     "execution_count": 23,
     "metadata": {},
     "output_type": "execute_result"
    }
   ],
   "source": [
    "numbers = [1, 2, 3, 4, 5, 6]\n",
    "numbers.insert(3, 10)\n",
    "numbers"
   ]
  },
  {
   "cell_type": "code",
   "execution_count": 24,
   "metadata": {
    "input_collapsed": true
   },
   "outputs": [
    {
     "data": {
      "text/plain": [
       "[1, 2, 3, 4, 5, [10, 15], 6]"
      ]
     },
     "execution_count": 24,
     "metadata": {},
     "output_type": "execute_result"
    }
   ],
   "source": [
    "numbers = [1, 2, 3, 4, 5, 6]\n",
    "numbers.insert(5, [10, 15])\n",
    "numbers"
   ]
  },
  {
   "cell_type": "code",
   "execution_count": 25,
   "metadata": {
    "input_collapsed": true
   },
   "outputs": [
    {
     "data": {
      "text/plain": [
       "[1, 1, 1, 1, 1, 1, 1, 1, 2, 3, 4, 5, 6]"
      ]
     },
     "execution_count": 25,
     "metadata": {},
     "output_type": "execute_result"
    }
   ],
   "source": [
    "numbers = [1, 1, 1, 1, 1, 1, 1, 1, 2, 4, 5, 6]\n",
    "numbers.insert(numbers.index(2) + 1, 3)\n",
    "numbers"
   ]
  },
  {
   "cell_type": "code",
   "execution_count": 26,
   "metadata": {
    "input_collapsed": true
   },
   "outputs": [
    {
     "data": {
      "text/plain": [
       "1"
      ]
     },
     "execution_count": 26,
     "metadata": {},
     "output_type": "execute_result"
    }
   ],
   "source": [
    "numbers = [0, 1, 1, 1, 1, 1, 1, 1, 1, 2, 4, 5, 6]\n",
    "numbers.index(1)"
   ]
  },
  {
   "cell_type": "markdown",
   "metadata": {},
   "source": [
    "___\n",
    "### Multiplication"
   ]
  },
  {
   "cell_type": "code",
   "execution_count": 27,
   "metadata": {
    "input_collapsed": true
   },
   "outputs": [
    {
     "data": {
      "text/plain": [
       "['Biggie', 'Smalls', 'Biggie', 'Smalls', 'Biggie', 'Smalls']"
      ]
     },
     "execution_count": 27,
     "metadata": {},
     "output_type": "execute_result"
    }
   ],
   "source": [
    "[\"Biggie\",\"Smalls\"]*3"
   ]
  },
  {
   "cell_type": "code",
   "execution_count": 28,
   "metadata": {
    "input_collapsed": true
   },
   "outputs": [
    {
     "data": {
      "text/plain": [
       "[['small', 1],\n",
       " ['medium', 2],\n",
       " ['big', 3],\n",
       " ['small', 1],\n",
       " ['medium', 2],\n",
       " ['big', 3],\n",
       " ['small', 1],\n",
       " ['medium', 2],\n",
       " ['big', 3]]"
      ]
     },
     "execution_count": 28,
     "metadata": {},
     "output_type": "execute_result"
    }
   ],
   "source": [
    "cake_sizes = [[\"small\", 1], [\"medium\", 2], [\"big\", 3]]\n",
    "new_cake_sizes = cake_sizes * 3 \n",
    "new_cake_sizes"
   ]
  },
  {
   "cell_type": "code",
   "execution_count": 29,
   "metadata": {
    "input_collapsed": true
   },
   "outputs": [
    {
     "data": {
      "text/plain": [
       "True"
      ]
     },
     "execution_count": 29,
     "metadata": {},
     "output_type": "execute_result"
    }
   ],
   "source": [
    "new_cake_sizes[:3] == cake_sizes"
   ]
  },
  {
   "cell_type": "code",
   "execution_count": 30,
   "metadata": {
    "input_collapsed": true
   },
   "outputs": [
    {
     "data": {
      "text/plain": [
       "True"
      ]
     },
     "execution_count": 30,
     "metadata": {},
     "output_type": "execute_result"
    }
   ],
   "source": [
    "new_cake_sizes[7] is cake_sizes[1]"
   ]
  },
  {
   "cell_type": "code",
   "execution_count": 31,
   "metadata": {
    "input_collapsed": true
   },
   "outputs": [
    {
     "data": {
      "text/plain": [
       "'big'"
      ]
     },
     "execution_count": 31,
     "metadata": {},
     "output_type": "execute_result"
    }
   ],
   "source": [
    "cake_sizes[-1][0]"
   ]
  },
  {
   "cell_type": "code",
   "execution_count": 32,
   "metadata": {
    "input_collapsed": true
   },
   "outputs": [
    {
     "data": {
      "text/plain": [
       "[['small', 1],\n",
       " ['medium', 2],\n",
       " ['huge', 3],\n",
       " ['small', 1],\n",
       " ['medium', 2],\n",
       " ['huge', 3],\n",
       " ['small', 1],\n",
       " ['medium', 2],\n",
       " ['huge', 3]]"
      ]
     },
     "execution_count": 32,
     "metadata": {},
     "output_type": "execute_result"
    }
   ],
   "source": [
    "cake_sizes[-1][0] = \"huge\"\n",
    "new_cake_sizes"
   ]
  },
  {
   "cell_type": "code",
   "execution_count": 33,
   "metadata": {
    "input_collapsed": true
   },
   "outputs": [
    {
     "data": {
      "text/plain": [
       "[['small', 1],\n",
       " ['medium', 2],\n",
       " ['big', 3],\n",
       " ['small', 1],\n",
       " ['medium', 2],\n",
       " ['big', 3],\n",
       " ['small', 1],\n",
       " ['medium', 2],\n",
       " ['big', 3]]"
      ]
     },
     "execution_count": 33,
     "metadata": {},
     "output_type": "execute_result"
    }
   ],
   "source": [
    "from copy import deepcopy\n",
    "cake_sizes = [[\"small\", 1], [\"medium\", 2], [\"big\", 3]]\n",
    "new_cake_sizes = deepcopy(cake_sizes * 3)\n",
    "\n",
    "cake_sizes[-1][0] = \"huge\"\n",
    "new_cake_sizes"
   ]
  },
  {
   "cell_type": "code",
   "execution_count": null,
   "metadata": {},
   "outputs": [],
   "source": []
  },
  {
   "cell_type": "code",
   "execution_count": 34,
   "metadata": {
    "input_collapsed": true
   },
   "outputs": [],
   "source": [
    "import copy\n",
    "cake_sizes = [[\"small\", 1], [\"medium\", 2], [\"big\", 3]]\n",
    "new_cake_sizes = copy.copy(cake_sizes)\n"
   ]
  },
  {
   "cell_type": "code",
   "execution_count": 35,
   "metadata": {
    "input_collapsed": true
   },
   "outputs": [
    {
     "data": {
      "text/plain": [
       "False"
      ]
     },
     "execution_count": 35,
     "metadata": {},
     "output_type": "execute_result"
    }
   ],
   "source": [
    "new_cake_sizes is cake_sizes"
   ]
  },
  {
   "cell_type": "code",
   "execution_count": 36,
   "metadata": {
    "input_collapsed": true
   },
   "outputs": [
    {
     "data": {
      "text/plain": [
       "False"
      ]
     },
     "execution_count": 36,
     "metadata": {},
     "output_type": "execute_result"
    }
   ],
   "source": [
    "new_cake_sizes[:3] is new_cake_sizes[4:7]"
   ]
  },
  {
   "cell_type": "markdown",
   "metadata": {},
   "source": [
    "___\n",
    "### in & not in"
   ]
  },
  {
   "cell_type": "code",
   "execution_count": 37,
   "metadata": {
    "input_collapsed": true
   },
   "outputs": [
    {
     "data": {
      "text/plain": [
       "False"
      ]
     },
     "execution_count": 37,
     "metadata": {},
     "output_type": "execute_result"
    }
   ],
   "source": [
    "\"a\" in \"ABC\""
   ]
  },
  {
   "cell_type": "code",
   "execution_count": 38,
   "metadata": {
    "input_collapsed": true
   },
   "outputs": [
    {
     "data": {
      "text/plain": [
       "True"
      ]
     },
     "execution_count": 38,
     "metadata": {},
     "output_type": "execute_result"
    }
   ],
   "source": [
    "\"A\" in [\"A\", \"B\", \"C\"]"
   ]
  },
  {
   "cell_type": "code",
   "execution_count": 39,
   "metadata": {
    "input_collapsed": true
   },
   "outputs": [
    {
     "data": {
      "text/plain": [
       "True"
      ]
     },
     "execution_count": 39,
     "metadata": {},
     "output_type": "execute_result"
    }
   ],
   "source": [
    "\"A\" in [\"A\", \"B\", \"C\"]"
   ]
  },
  {
   "cell_type": "code",
   "execution_count": 40,
   "metadata": {
    "input_collapsed": true
   },
   "outputs": [
    {
     "data": {
      "text/plain": [
       "True"
      ]
     },
     "execution_count": 40,
     "metadata": {},
     "output_type": "execute_result"
    }
   ],
   "source": [
    "\"D\" not in [\"A\", \"B\", \"C\"]"
   ]
  },
  {
   "cell_type": "code",
   "execution_count": 41,
   "metadata": {
    "input_collapsed": true
   },
   "outputs": [
    {
     "data": {
      "text/plain": [
       "True"
      ]
     },
     "execution_count": 41,
     "metadata": {},
     "output_type": "execute_result"
    }
   ],
   "source": [
    "\"AB\" in \"ABC\""
   ]
  },
  {
   "cell_type": "markdown",
   "metadata": {},
   "source": [
    "___\n",
    "### Iteration"
   ]
  },
  {
   "cell_type": "code",
   "execution_count": 42,
   "metadata": {
    "input_collapsed": true
   },
   "outputs": [
    {
     "name": "stdout",
     "output_type": "stream",
     "text": [
      "Ken\n",
      "Jiachen\n",
      "Yuyao\n",
      "Sukanya\n",
      "Jacob\n",
      "Yue\n",
      "Chen\n",
      "Yuanzhe\n",
      "Kaiwen\n",
      "Shaling\n",
      "Qi\n"
     ]
    }
   ],
   "source": [
    "classmates = [\"Ken\", \"Jiachen\", \"Yuyao\", \n",
    "              \"Sukanya\", \"Jacob\", \"Yue\", \"Chen\", \"Yuanzhe\", \"Kaiwen\", \"Shaling\", \"Qi\"]\n",
    "for i in classmates:\n",
    "    print(i)"
   ]
  },
  {
   "cell_type": "code",
   "execution_count": 43,
   "metadata": {
    "input_collapsed": true
   },
   "outputs": [
    {
     "name": "stdout",
     "output_type": "stream",
     "text": [
      "(0, 'Ken')\n",
      "(1, 'Jiachen')\n",
      "(2, 'Yuyao')\n",
      "(3, 'Sukanya')\n",
      "(4, 'Jacob')\n",
      "(5, 'Yue')\n",
      "(6, 'Chen')\n",
      "(7, 'Yuanzhe')\n",
      "(8, 'Kaiwen')\n",
      "(9, 'Shaling')\n",
      "(10, 'Qi')\n"
     ]
    }
   ],
   "source": [
    "for i in enumerate(classmates):\n",
    "    print(i)"
   ]
  },
  {
   "cell_type": "code",
   "execution_count": 44,
   "metadata": {
    "input_collapsed": true
   },
   "outputs": [
    {
     "name": "stdout",
     "output_type": "stream",
     "text": [
      "Value at index 0 is Ken\n",
      "Value at index 1 is Jiachen\n",
      "Value at index 2 is Yuyao\n",
      "Value at index 3 is Sukanya\n",
      "Value at index 4 is Jacob\n",
      "Value at index 5 is Yue\n",
      "Value at index 6 is Chen\n",
      "Value at index 7 is Yuanzhe\n",
      "Value at index 8 is Kaiwen\n",
      "Value at index 9 is Shaling\n",
      "Value at index 10 is Qi\n"
     ]
    }
   ],
   "source": [
    "for i, v in enumerate(classmates):\n",
    "    print(\"Value at index\", i, \"is\", v)"
   ]
  },
  {
   "cell_type": "code",
   "execution_count": 45,
   "metadata": {
    "input_collapsed": true
   },
   "outputs": [
    {
     "name": "stdout",
     "output_type": "stream",
     "text": [
      "Value at index 0 is Ken\n",
      "Value at index 1 is Jiachen\n",
      "Value at index 2 is Yuyao\n",
      "Value at index 3 is Sukanya\n",
      "Value at index 4 is Jacob\n",
      "Value at index 5 is Yue\n",
      "Value at index 6 is Chen\n",
      "Value at index 7 is Yuanzhe\n",
      "Value at index 8 is Kaiwen\n",
      "Value at index 9 is Shaling\n",
      "Value at index 10 is Qi\n"
     ]
    }
   ],
   "source": [
    "for i in enumerate(classmates):\n",
    "    print(\"Value at index\", i[0], \"is\", i[1])"
   ]
  },
  {
   "cell_type": "markdown",
   "metadata": {},
   "source": [
    "___\n",
    "### List comprehension"
   ]
  },
  {
   "cell_type": "code",
   "execution_count": 46,
   "metadata": {
    "input_collapsed": true
   },
   "outputs": [
    {
     "data": {
      "text/plain": [
       "[1, 3, 5, 7, 9, 11, 13, 15, 17, 19]"
      ]
     },
     "execution_count": 46,
     "metadata": {},
     "output_type": "execute_result"
    }
   ],
   "source": [
    "odd_numbers_less_than_20 = []\n",
    "for i in range(20):\n",
    "    if i % 2:\n",
    "        odd_numbers_less_than_20.append(i)\n",
    "        \n",
    "odd_numbers_less_than_20"
   ]
  },
  {
   "cell_type": "code",
   "execution_count": 47,
   "metadata": {
    "input_collapsed": true
   },
   "outputs": [
    {
     "data": {
      "text/plain": [
       "[0, 2, 4, 6, 8, 10, 12, 14, 16, 18]"
      ]
     },
     "execution_count": 47,
     "metadata": {},
     "output_type": "execute_result"
    }
   ],
   "source": [
    "even_numbers_less_than_20 = [i for i in range(20) if i % 2 == 0]\n",
    "even_numbers_less_than_20"
   ]
  },
  {
   "cell_type": "code",
   "execution_count": 48,
   "metadata": {
    "input_collapsed": true
   },
   "outputs": [
    {
     "data": {
      "text/plain": [
       "['0 is even',\n",
       " '1 is odd',\n",
       " '2 is even',\n",
       " '3 is odd',\n",
       " '4 is even',\n",
       " '5 is odd',\n",
       " '6 is even',\n",
       " '7 is odd',\n",
       " '8 is even',\n",
       " '9 is odd',\n",
       " '10 is even',\n",
       " '11 is odd',\n",
       " '12 is even',\n",
       " '13 is odd',\n",
       " '14 is even',\n",
       " '15 is odd',\n",
       " '16 is even',\n",
       " '17 is odd',\n",
       " '18 is even',\n",
       " '19 is odd']"
      ]
     },
     "execution_count": 48,
     "metadata": {},
     "output_type": "execute_result"
    }
   ],
   "source": [
    "even_or_odd_list = []\n",
    "for i in range(20):\n",
    "    if i % 2:\n",
    "        even_or_odd_list.append(str(i) + \" is odd\")\n",
    "    else:\n",
    "        even_or_odd_list.append(str(i) + \" is even\")\n",
    "        \n",
    "even_or_odd_list"
   ]
  },
  {
   "cell_type": "code",
   "execution_count": 49,
   "metadata": {
    "input_collapsed": true
   },
   "outputs": [
    {
     "data": {
      "text/plain": [
       "['0 is even',\n",
       " '1 is odd',\n",
       " '2 is even',\n",
       " '3 is odd',\n",
       " '4 is even',\n",
       " '5 is odd',\n",
       " '6 is even',\n",
       " '7 is odd',\n",
       " '8 is even',\n",
       " '9 is odd',\n",
       " '10 is even',\n",
       " '11 is odd',\n",
       " '12 is even',\n",
       " '13 is odd',\n",
       " '14 is even',\n",
       " '15 is odd',\n",
       " '16 is even',\n",
       " '17 is odd',\n",
       " '18 is even',\n",
       " '19 is odd']"
      ]
     },
     "execution_count": 49,
     "metadata": {},
     "output_type": "execute_result"
    }
   ],
   "source": [
    "even_or_odd_list = [str(i) + \" is odd\" if i % 2 else str(i) + \" is even\" for i in range(20)]\n",
    "even_or_odd_list"
   ]
  },
  {
   "cell_type": "markdown",
   "metadata": {},
   "source": [
    "___\n",
    "### del statement vs. pop() method vs. remove() method"
   ]
  },
  {
   "cell_type": "code",
   "execution_count": 50,
   "metadata": {
    "input_collapsed": true
   },
   "outputs": [],
   "source": [
    "classmates = [\"Ken\", \"Jiachen\", \"Yuyao\", \n",
    "              \"Sukanya\", \"Jacob\", \"Yue\", \"Chen\", \"Yuanzhe\", \"Kaiwen\", \"Shaling\", \"Qi\"]\n",
    "del classmates[6]"
   ]
  },
  {
   "cell_type": "code",
   "execution_count": 51,
   "metadata": {
    "input_collapsed": true
   },
   "outputs": [
    {
     "data": {
      "text/plain": [
       "['Ken',\n",
       " 'Jiachen',\n",
       " 'Yuyao',\n",
       " 'Sukanya',\n",
       " 'Jacob',\n",
       " 'Yue',\n",
       " 'Yuanzhe',\n",
       " 'Kaiwen',\n",
       " 'Shaling',\n",
       " 'Qi']"
      ]
     },
     "execution_count": 51,
     "metadata": {},
     "output_type": "execute_result"
    }
   ],
   "source": [
    "classmates"
   ]
  },
  {
   "cell_type": "code",
   "execution_count": 52,
   "metadata": {
    "input_collapsed": true
   },
   "outputs": [
    {
     "data": {
      "text/plain": [
       "'Chen'"
      ]
     },
     "execution_count": 52,
     "metadata": {},
     "output_type": "execute_result"
    }
   ],
   "source": [
    "classmates = [\"Ken\", \"Jiachen\", \"Yuyao\", \n",
    "              \"Sukanya\", \"Jacob\", \"Yue\", \"Chen\", \"Yuanzhe\", \"Kaiwen\", \"Shaling\", \"Qi\"]\n",
    "classmates.pop(6) # what is the difference?"
   ]
  },
  {
   "cell_type": "code",
   "execution_count": 53,
   "metadata": {
    "input_collapsed": true
   },
   "outputs": [
    {
     "data": {
      "text/plain": [
       "['Ken',\n",
       " 'Jiachen',\n",
       " 'Yuyao',\n",
       " 'Sukanya',\n",
       " 'Jacob',\n",
       " 'Yue',\n",
       " 'Yuanzhe',\n",
       " 'Kaiwen',\n",
       " 'Shaling',\n",
       " 'Qi']"
      ]
     },
     "execution_count": 53,
     "metadata": {},
     "output_type": "execute_result"
    }
   ],
   "source": [
    "classmates"
   ]
  },
  {
   "cell_type": "code",
   "execution_count": 54,
   "metadata": {
    "input_collapsed": true
   },
   "outputs": [],
   "source": [
    "kicked_out = classmates.pop(4)"
   ]
  },
  {
   "cell_type": "code",
   "execution_count": 55,
   "metadata": {
    "input_collapsed": true
   },
   "outputs": [
    {
     "data": {
      "text/plain": [
       "'Jacob'"
      ]
     },
     "execution_count": 55,
     "metadata": {},
     "output_type": "execute_result"
    }
   ],
   "source": [
    "kicked_out"
   ]
  },
  {
   "cell_type": "code",
   "execution_count": 56,
   "metadata": {
    "input_collapsed": true
   },
   "outputs": [
    {
     "data": {
      "text/plain": [
       "'Qi'"
      ]
     },
     "execution_count": 56,
     "metadata": {},
     "output_type": "execute_result"
    }
   ],
   "source": [
    "classmates.pop()"
   ]
  },
  {
   "cell_type": "code",
   "execution_count": 58,
   "metadata": {
    "input_collapsed": true
   },
   "outputs": [
    {
     "name": "stdout",
     "output_type": "stream",
     "text": [
      "Kicked-out people: ['Qi']\n",
      "Remaining people: ['Ken', 'Jiachen', 'Yuyao', 'Sukanya', 'Jacob', 'Yue', 'Chen', 'Yuanzhe', 'Kaiwen', 'Shaling']\n",
      "_____\n",
      "Kicked-out people: ['Qi', 'Shaling']\n",
      "Remaining people: ['Ken', 'Jiachen', 'Yuyao', 'Sukanya', 'Jacob', 'Yue', 'Chen', 'Yuanzhe', 'Kaiwen']\n",
      "_____\n",
      "Kicked-out people: ['Qi', 'Shaling', 'Kaiwen']\n",
      "Remaining people: ['Ken', 'Jiachen', 'Yuyao', 'Sukanya', 'Jacob', 'Yue', 'Chen', 'Yuanzhe']\n",
      "_____\n",
      "Kicked-out people: ['Qi', 'Shaling', 'Kaiwen', 'Yuanzhe']\n",
      "Remaining people: ['Ken', 'Jiachen', 'Yuyao', 'Sukanya', 'Jacob', 'Yue', 'Chen']\n",
      "_____\n",
      "Kicked-out people: ['Qi', 'Shaling', 'Kaiwen', 'Yuanzhe', 'Chen']\n",
      "Remaining people: ['Ken', 'Jiachen', 'Yuyao', 'Sukanya', 'Jacob', 'Yue']\n",
      "_____\n",
      "Kicked-out people: ['Qi', 'Shaling', 'Kaiwen', 'Yuanzhe', 'Chen', 'Yue']\n",
      "Remaining people: ['Ken', 'Jiachen', 'Yuyao', 'Sukanya', 'Jacob']\n",
      "_____\n",
      "Kicked-out people: ['Qi', 'Shaling', 'Kaiwen', 'Yuanzhe', 'Chen', 'Yue', 'Jacob']\n",
      "Remaining people: ['Ken', 'Jiachen', 'Yuyao', 'Sukanya']\n",
      "_____\n",
      "Kicked-out people: ['Qi', 'Shaling', 'Kaiwen', 'Yuanzhe', 'Chen', 'Yue', 'Jacob', 'Sukanya']\n",
      "Remaining people: ['Ken', 'Jiachen', 'Yuyao']\n",
      "_____\n",
      "Kicked-out people: ['Qi', 'Shaling', 'Kaiwen', 'Yuanzhe', 'Chen', 'Yue', 'Jacob', 'Sukanya', 'Yuyao']\n",
      "Remaining people: ['Ken', 'Jiachen']\n",
      "_____\n",
      "Kicked-out people: ['Qi', 'Shaling', 'Kaiwen', 'Yuanzhe', 'Chen', 'Yue', 'Jacob', 'Sukanya', 'Yuyao', 'Jiachen']\n",
      "Remaining people: ['Ken']\n",
      "_____\n",
      "Kicked-out people: ['Qi', 'Shaling', 'Kaiwen', 'Yuanzhe', 'Chen', 'Yue', 'Jacob', 'Sukanya', 'Yuyao', 'Jiachen', 'Ken']\n",
      "Remaining people: []\n",
      "_____\n"
     ]
    }
   ],
   "source": [
    "classmates = [\"Ken\", \"Jiachen\", \"Yuyao\", \n",
    "              \"Sukanya\", \"Jacob\", \"Yue\", \"Chen\", \"Yuanzhe\", \"Kaiwen\", \"Shaling\", \"Qi\"]\n",
    "kicked_out = []\n",
    "while classmates:\n",
    "    kicked_out.append(classmates.pop())\n",
    "    print(\"Kicked-out people:\", kicked_out)\n",
    "    print(\"Remaining people:\", classmates)\n",
    "    print(\"_____\")"
   ]
  },
  {
   "cell_type": "code",
   "execution_count": 59,
   "metadata": {
    "input_collapsed": true
   },
   "outputs": [
    {
     "data": {
      "text/plain": [
       "['K', 'a', 't', 'z', ' ', 'F', 'a', 'm', 'i', 'l', 'y', '!']"
      ]
     },
     "execution_count": 59,
     "metadata": {},
     "output_type": "execute_result"
    }
   ],
   "source": [
    "katz_str = list(\"Katz Family!\")\n",
    "katz_str"
   ]
  },
  {
   "cell_type": "code",
   "execution_count": 60,
   "metadata": {
    "input_collapsed": true
   },
   "outputs": [
    {
     "data": {
      "text/plain": [
       "['K', 'a', 't', 'z', 'F', 'a', 'm', 'i', 'l', 'y', '!']"
      ]
     },
     "execution_count": 60,
     "metadata": {},
     "output_type": "execute_result"
    }
   ],
   "source": [
    "katz_str.remove(\" \")\n",
    "katz_str"
   ]
  },
  {
   "cell_type": "code",
   "execution_count": 62,
   "metadata": {
    "input_collapsed": true
   },
   "outputs": [
    {
     "data": {
      "text/plain": [
       "['K', 'a', 't', 'z', 'F', 'a', 'm', 'i', 'l', 'y']"
      ]
     },
     "execution_count": 62,
     "metadata": {},
     "output_type": "execute_result"
    }
   ],
   "source": [
    "katz_str.remove(\"!\")\n",
    "katz_str"
   ]
  },
  {
   "cell_type": "markdown",
   "metadata": {},
   "source": [
    "___\n",
    "## Homework 4"
   ]
  },
  {
   "cell_type": "code",
   "execution_count": null,
   "metadata": {
    "input_collapsed": true
   },
   "outputs": [],
   "source": [
    "# 4\n",
    "def remove_smallest(numbers):\n",
    "    \"\"\"Given an array of integers, remove the smallest value, then return back the list.\n",
    "    If there are multiple elements with the same value, remove ONLY the first one.\n",
    "    If you get an empty list, return an empty list.\n",
    "    Don't change the order of the elements that are left.\"\"\"\n",
    "    \n",
    "# Test cases\n",
    "assert remove_smallest([1, 2, 3, 4, 5]) == [2, 3, 4, 5]\n",
    "assert remove_smallest([5, 3, 2, 0, 4, 3.2, 10]) == [5, 3, 2, 4, 3.2, 10]\n",
    "assert remove_smallest([2, 2, 1, 3, 3, 1]) == [2, 2, 3, 3, 1]\n",
    "assert remove_smallest([]) == [], \"Should accept an empty list\""
   ]
  },
  {
   "cell_type": "code",
   "execution_count": null,
   "metadata": {
    "input_collapsed": true
   },
   "outputs": [],
   "source": [
    "# 5\n",
    "def find_two_sum(list_of_integers, target):\n",
    "    \"\"\"Given a list of integers and a target, return the *indices* of the two numbers\n",
    "    in the list such that they add up to the target\"\"\"\n",
    "    \n",
    "# Test cases\n",
    "assert find_two_sum([3, 2, 4], 6) == [1, 2]\n",
    "assert find_two_sum([2, 4, 5, 6, 8], 11) == [2, 3]\n",
    "assert find_two_sum([2, 7, 11, 15], 9) == [0, 1]\n",
    "assert find_two_sum([3, 3], 6) == [0, 1]\n",
    "assert find_two_sum([3, 4, 5, 3], 6) == [0, 3]"
   ]
  },
  {
   "cell_type": "code",
   "execution_count": null,
   "metadata": {
    "input_collapsed": true
   },
   "outputs": [],
   "source": [
    "# 6\n",
    "def get_fibo_list(n):\n",
    "    \"\"\"Given a number n, return a list of fibonacci numbers with n numbers\"\"\"\n",
    "    \n",
    "# Test cases\n",
    "assert get_fibo_list(0) == []\n",
    "assert get_fibo_list(1) == [0]\n",
    "assert get_fibo_list(2) == [0, 1]\n",
    "assert get_fibo_list(4) == [0, 1, 1, 2]\n",
    "assert get_fibo_list(9) == [0, 1, 1, 2, 3, 5, 8, 13, 21]\n",
    "assert get_fibo_list(35) == [0, 1, 1, 2, 3, 5, 8, 13, 21, 34, 55, 89, 144, 233, 377, 610,\n",
    "                             987, 1597, 2584, 4181, 6765, 10946, 17711, 28657, 46368, 75025,\n",
    "                             121393, 196418, 317811, 514229, 832040, 1346269, 2178309, 3524578, 5702887]"
   ]
  }
 ],
 "metadata": {
  "input_collapsed": true,
  "kernelspec": {
   "display_name": "Python 3",
   "language": "python",
   "name": "python3"
  },
  "language_info": {
   "codemirror_mode": {
    "name": "ipython",
    "version": 3
   },
   "file_extension": ".py",
   "mimetype": "text/x-python",
   "name": "python",
   "nbconvert_exporter": "python",
   "pygments_lexer": "ipython3",
   "version": "3.7.3"
  }
 },
 "nbformat": 4,
 "nbformat_minor": 2
}
