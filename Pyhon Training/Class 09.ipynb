{
 "cells": [
  {
   "cell_type": "markdown",
   "metadata": {},
   "source": [
    "# Python Training 2021 - Class 9"
   ]
  },
  {
   "cell_type": "markdown",
   "metadata": {},
   "source": [
    "## Python dict type (cont'd)"
   ]
  },
  {
   "cell_type": "markdown",
   "metadata": {},
   "source": [
    "___\n",
    "### Other dictionary methods"
   ]
  },
  {
   "cell_type": "code",
   "execution_count": 1,
   "metadata": {
    "input_collapsed": false
   },
   "outputs": [
    {
     "data": {
      "text/plain": [
       "['clear',\n",
       " 'copy',\n",
       " 'fromkeys',\n",
       " 'get',\n",
       " 'items',\n",
       " 'keys',\n",
       " 'pop',\n",
       " 'popitem',\n",
       " 'setdefault',\n",
       " 'update',\n",
       " 'values']"
      ]
     },
     "execution_count": 1,
     "metadata": {},
     "output_type": "execute_result"
    }
   ],
   "source": [
    "#dir(dict)\n",
    "[i for i in dir(dict) if '_' not in i]"
   ]
  },
  {
   "cell_type": "code",
   "execution_count": 2,
   "metadata": {
    "input_collapsed": false
   },
   "outputs": [
    {
     "data": {
      "text/plain": [
       "{19: 'Pittsburgh', 20: 'LA', 21: 'Houston'}"
      ]
     },
     "execution_count": 2,
     "metadata": {},
     "output_type": "execute_result"
    }
   ],
   "source": [
    "fav_cities = {19 : \"Pittsburgh\", 20: \"LA\", 21: \"Houston\"}\n",
    "fav_cities"
   ]
  },
  {
   "cell_type": "code",
   "execution_count": 3,
   "metadata": {
    "input_collapsed": false
   },
   "outputs": [
    {
     "data": {
      "text/plain": [
       "{}"
      ]
     },
     "execution_count": 3,
     "metadata": {},
     "output_type": "execute_result"
    }
   ],
   "source": [
    "fav_cities.clear()\n",
    "fav_cities"
   ]
  },
  {
   "cell_type": "code",
   "execution_count": 4,
   "metadata": {
    "input_collapsed": false
   },
   "outputs": [
    {
     "data": {
      "text/plain": [
       "{19: 'Pittsburgh', 20: 'LA', 21: 'Houston'}"
      ]
     },
     "execution_count": 4,
     "metadata": {},
     "output_type": "execute_result"
    }
   ],
   "source": [
    "fav_cities = {19 : \"Pittsburgh\", 20: \"LA\", 21: \"Houston\"}\n",
    "myfavcity = fav_cities.copy()\n",
    "myfavcity"
   ]
  },
  {
   "cell_type": "code",
   "execution_count": 5,
   "metadata": {
    "input_collapsed": true
   },
   "outputs": [
    {
     "data": {
      "text/plain": [
       "{19: 'Pittsburgh', 20: 'LA', 21: 'Houston'}"
      ]
     },
     "execution_count": 5,
     "metadata": {},
     "output_type": "execute_result"
    }
   ],
   "source": [
    "new_cities = fav_cities.copy()\n",
    "new_cities"
   ]
  },
  {
   "cell_type": "code",
   "execution_count": 6,
   "metadata": {
    "input_collapsed": true
   },
   "outputs": [],
   "source": [
    "?dict.fromkeys"
   ]
  },
  {
   "cell_type": "code",
   "execution_count": 7,
   "metadata": {
    "input_collapsed": true
   },
   "outputs": [
    {
     "data": {
      "text/plain": [
       "{'h': None, 'e': None, 'l': None, 'o': None}"
      ]
     },
     "execution_count": 7,
     "metadata": {},
     "output_type": "execute_result"
    }
   ],
   "source": [
    "dict.fromkeys(\"hello\")"
   ]
  },
  {
   "cell_type": "code",
   "execution_count": 8,
   "metadata": {
    "input_collapsed": true
   },
   "outputs": [
    {
     "data": {
      "text/plain": [
       "'No such city'"
      ]
     },
     "execution_count": 8,
     "metadata": {},
     "output_type": "execute_result"
    }
   ],
   "source": [
    "fav_cities = {19 : \"Pittsburgh\", 20: \"LA\", 21: \"Houston\"}\n",
    "fav_cities.get(22, \"No such city\")"
   ]
  },
  {
   "cell_type": "code",
   "execution_count": 9,
   "metadata": {},
   "outputs": [],
   "source": [
    "?dict.get"
   ]
  },
  {
   "cell_type": "code",
   "execution_count": 10,
   "metadata": {
    "input_collapsed": true
   },
   "outputs": [
    {
     "ename": "KeyError",
     "evalue": "22",
     "output_type": "error",
     "traceback": [
      "\u001b[0;31m---------------------------------------------------------------------------\u001b[0m",
      "\u001b[0;31mKeyError\u001b[0m                                  Traceback (most recent call last)",
      "\u001b[0;32m<ipython-input-10-928972245126>\u001b[0m in \u001b[0;36m<module>\u001b[0;34m\u001b[0m\n\u001b[0;32m----> 1\u001b[0;31m \u001b[0mfav_cities\u001b[0m\u001b[0;34m[\u001b[0m\u001b[0;36m22\u001b[0m\u001b[0;34m]\u001b[0m\u001b[0;34m\u001b[0m\u001b[0;34m\u001b[0m\u001b[0m\n\u001b[0m",
      "\u001b[0;31mKeyError\u001b[0m: 22"
     ]
    }
   ],
   "source": [
    "fav_cities[22]"
   ]
  },
  {
   "cell_type": "code",
   "execution_count": 11,
   "metadata": {
    "input_collapsed": true
   },
   "outputs": [
    {
     "name": "stdout",
     "output_type": "stream",
     "text": [
      "Object `dict.items()` not found.\n"
     ]
    }
   ],
   "source": [
    "?dict.items()"
   ]
  },
  {
   "cell_type": "code",
   "execution_count": 12,
   "metadata": {
    "input_collapsed": true
   },
   "outputs": [
    {
     "data": {
      "text/plain": [
       "dict_items([(19, 'Pittsburgh'), (20, 'LA'), (21, 'Houston')])"
      ]
     },
     "execution_count": 12,
     "metadata": {},
     "output_type": "execute_result"
    }
   ],
   "source": [
    "fav_cities.items()"
   ]
  },
  {
   "cell_type": "code",
   "execution_count": 13,
   "metadata": {
    "input_collapsed": true
   },
   "outputs": [
    {
     "name": "stdout",
     "output_type": "stream",
     "text": [
      "(19, 'Pittsburgh')\n",
      "(20, 'LA')\n",
      "(21, 'Houston')\n"
     ]
    }
   ],
   "source": [
    "for i in fav_cities.items():\n",
    "    print(i)"
   ]
  },
  {
   "cell_type": "code",
   "execution_count": 14,
   "metadata": {
    "input_collapsed": true
   },
   "outputs": [
    {
     "name": "stdout",
     "output_type": "stream",
     "text": [
      "19\n",
      "20\n",
      "21\n"
     ]
    }
   ],
   "source": [
    "for i in fav_cities:\n",
    "    print(i)"
   ]
  },
  {
   "cell_type": "code",
   "execution_count": 15,
   "metadata": {
    "input_collapsed": true
   },
   "outputs": [
    {
     "name": "stdout",
     "output_type": "stream",
     "text": [
      "19\n",
      "20\n",
      "21\n"
     ]
    }
   ],
   "source": [
    "for i in fav_cities.keys():\n",
    "    print(i)"
   ]
  },
  {
   "cell_type": "code",
   "execution_count": 16,
   "metadata": {
    "input_collapsed": true
   },
   "outputs": [
    {
     "name": "stdout",
     "output_type": "stream",
     "text": [
      "Pittsburgh\n",
      "LA\n",
      "Houston\n"
     ]
    }
   ],
   "source": [
    "for i in fav_cities.values():\n",
    "    print(i)"
   ]
  },
  {
   "cell_type": "code",
   "execution_count": 17,
   "metadata": {
    "input_collapsed": true
   },
   "outputs": [],
   "source": [
    "?dict.setdefault"
   ]
  },
  {
   "cell_type": "code",
   "execution_count": 18,
   "metadata": {
    "input_collapsed": true
   },
   "outputs": [
    {
     "data": {
      "text/plain": [
       "{19: 'Pittsburgh', 20: 'LA', 21: 'Houston', 22: 'Paris'}"
      ]
     },
     "execution_count": 18,
     "metadata": {},
     "output_type": "execute_result"
    }
   ],
   "source": [
    "fav_cities.setdefault(22, \"Paris\")\n",
    "fav_cities"
   ]
  },
  {
   "cell_type": "code",
   "execution_count": 19,
   "metadata": {
    "input_collapsed": true
   },
   "outputs": [
    {
     "data": {
      "text/plain": [
       "{19: 'Pittsburgh', 20: 'LA', 21: 'Houston', 22: 'Origami'}"
      ]
     },
     "execution_count": 19,
     "metadata": {},
     "output_type": "execute_result"
    }
   ],
   "source": [
    "fav_cities[22] = \"Origami\"\n",
    "fav_cities"
   ]
  },
  {
   "cell_type": "code",
   "execution_count": 20,
   "metadata": {
    "input_collapsed": true
   },
   "outputs": [
    {
     "data": {
      "text/plain": [
       "{19: 'Pittsburgh', 20: 'LA', 21: 'Houston', 22: 'Origami'}"
      ]
     },
     "execution_count": 20,
     "metadata": {},
     "output_type": "execute_result"
    }
   ],
   "source": [
    "fav_cities.setdefault(22, \"Zen\")\n",
    "fav_cities"
   ]
  },
  {
   "cell_type": "code",
   "execution_count": 21,
   "metadata": {
    "input_collapsed": true
   },
   "outputs": [
    {
     "data": {
      "text/plain": [
       "{19: 'Pittsburgh', 20: 'LA', 21: 'Houston', 22: 'Zen'}"
      ]
     },
     "execution_count": 21,
     "metadata": {},
     "output_type": "execute_result"
    }
   ],
   "source": [
    "fav_cities[22] = \"Zen\"\n",
    "fav_cities"
   ]
  },
  {
   "cell_type": "code",
   "execution_count": 22,
   "metadata": {
    "input_collapsed": true
   },
   "outputs": [],
   "source": [
    "?dict.update"
   ]
  },
  {
   "cell_type": "code",
   "execution_count": 23,
   "metadata": {
    "input_collapsed": true
   },
   "outputs": [
    {
     "data": {
      "text/plain": [
       "{19: 'Pittsburgh',\n",
       " 20: 'LA',\n",
       " 21: 'Houston',\n",
       " 22: 'Zen',\n",
       " 23: 'Some city',\n",
       " 24: 'Some other city'}"
      ]
     },
     "execution_count": 23,
     "metadata": {},
     "output_type": "execute_result"
    }
   ],
   "source": [
    "fav_cities.update({23: \"Some city\", 24: \"Some other city\"})\n",
    "fav_cities"
   ]
  },
  {
   "cell_type": "markdown",
   "metadata": {},
   "source": [
    "___\n",
    "### dictionary unpacking"
   ]
  },
  {
   "cell_type": "code",
   "execution_count": 24,
   "metadata": {
    "input_collapsed": true
   },
   "outputs": [
    {
     "name": "stdout",
     "output_type": "stream",
     "text": [
      "0 ; b\n",
      "******************************\n",
      "1 ; a\n",
      "******************************\n"
     ]
    }
   ],
   "source": [
    "a_dictionary = dict(b=2, a=1)\n",
    "for i, v in enumerate(a_dictionary):\n",
    "    print(i, v, sep=\" ; \", end=\"\\n{}\\n\".format(\"*\"*30))"
   ]
  },
  {
   "cell_type": "code",
   "execution_count": 25,
   "metadata": {
    "input_collapsed": true
   },
   "outputs": [
    {
     "name": "stdout",
     "output_type": "stream",
     "text": [
      "0 ; a\n",
      "******************************\n",
      "1 ; b\n",
      "******************************\n"
     ]
    }
   ],
   "source": [
    "# kwargs = keyword arguments\n",
    "# pass a keyworded, variable-length\n",
    "a_dictionary = dict(a=1, b=2)\n",
    "print_format_kwargs = dict(sep=\" ; \", end=\"\\n{}\\n\".format(\"*\"*30))\n",
    "for i, v in enumerate(a_dictionary):\n",
    "    print(i, v, **print_format_kwargs)"
   ]
  },
  {
   "cell_type": "code",
   "execution_count": 26,
   "metadata": {
    "input_collapsed": true
   },
   "outputs": [
    {
     "name": "stdout",
     "output_type": "stream",
     "text": [
      "Object `print()` not found.\n"
     ]
    }
   ],
   "source": [
    "?print()"
   ]
  },
  {
   "cell_type": "code",
   "execution_count": 27,
   "metadata": {
    "input_collapsed": true
   },
   "outputs": [
    {
     "data": {
      "text/plain": [
       "\"Sony's average director age is 63\""
      ]
     },
     "execution_count": 27,
     "metadata": {},
     "output_type": "execute_result"
    }
   ],
   "source": [
    "average_age = {\"Company\": \"Sony\", \"Director Age\": 63}\n",
    "\n",
    "\"{Company}'s average director age is {Director Age}\".format(**average_age)"
   ]
  },
  {
   "cell_type": "code",
   "execution_count": 28,
   "metadata": {
    "input_collapsed": true
   },
   "outputs": [
    {
     "data": {
      "text/plain": [
       "'Can you believe Ichiro is 45 years old?'"
      ]
     },
     "execution_count": 28,
     "metadata": {},
     "output_type": "execute_result"
    }
   ],
   "source": [
    "ichiro = {\"first_name\":\"Ichiro\",\"family_name\":\"Suzuki\",\"age\":'45','number':'51'}\n",
    "\n",
    "\"Can you believe {first_name} is {age} years old?\".format(**ichiro)"
   ]
  },
  {
   "cell_type": "markdown",
   "metadata": {},
   "source": [
    "## Homework 9"
   ]
  },
  {
   "cell_type": "markdown",
   "metadata": {},
   "source": [
    "### *due next Tuesday (April  2nd)"
   ]
  },
  {
   "cell_type": "code",
   "execution_count": 29,
   "metadata": {
    "input_collapsed": true
   },
   "outputs": [
    {
     "ename": "TypeError",
     "evalue": "object of type 'NoneType' has no len()",
     "output_type": "error",
     "traceback": [
      "\u001b[0;31m---------------------------------------------------------------------------\u001b[0m",
      "\u001b[0;31mTypeError\u001b[0m                                 Traceback (most recent call last)",
      "\u001b[0;32m<ipython-input-29-cfda7c1eadd5>\u001b[0m in \u001b[0;36m<module>\u001b[0;34m\u001b[0m\n\u001b[1;32m     12\u001b[0m \u001b[0;34m\u001b[0m\u001b[0m\n\u001b[1;32m     13\u001b[0m \u001b[0mdeck_of_cards\u001b[0m \u001b[0;34m=\u001b[0m \u001b[0mcreate_deck_of_cards\u001b[0m\u001b[0;34m(\u001b[0m\u001b[0;34m)\u001b[0m\u001b[0;34m\u001b[0m\u001b[0;34m\u001b[0m\u001b[0m\n\u001b[0;32m---> 14\u001b[0;31m \u001b[0;32massert\u001b[0m \u001b[0mlen\u001b[0m\u001b[0;34m(\u001b[0m\u001b[0mdeck_of_cards\u001b[0m\u001b[0;34m)\u001b[0m \u001b[0;34m==\u001b[0m \u001b[0;36m52\u001b[0m\u001b[0;34m\u001b[0m\u001b[0;34m\u001b[0m\u001b[0m\n\u001b[0m\u001b[1;32m     15\u001b[0m \u001b[0;32massert\u001b[0m \u001b[0mdeck_of_cards\u001b[0m\u001b[0;34m[\u001b[0m\u001b[0;34m\"2H\"\u001b[0m\u001b[0;34m]\u001b[0m \u001b[0;34m==\u001b[0m \u001b[0;34m\"Two of Hearts\"\u001b[0m\u001b[0;34m\u001b[0m\u001b[0;34m\u001b[0m\u001b[0m\n\u001b[1;32m     16\u001b[0m \u001b[0;32massert\u001b[0m \u001b[0mdeck_of_cards\u001b[0m\u001b[0;34m[\u001b[0m\u001b[0;34m\"AD\"\u001b[0m\u001b[0;34m]\u001b[0m \u001b[0;34m==\u001b[0m \u001b[0;34m\"Ace of Diamonds\"\u001b[0m\u001b[0;34m\u001b[0m\u001b[0;34m\u001b[0m\u001b[0m\n",
      "\u001b[0;31mTypeError\u001b[0m: object of type 'NoneType' has no len()"
     ]
    }
   ],
   "source": [
    "def create_deck_of_cards():\n",
    "    \"\"\"Return a dictionary for a standard 52-card deck.\n",
    "    \n",
    "    The dictionary should have:\n",
    "        Keys as the short names of the cards\n",
    "        Values as the long names of the cards\n",
    "    \n",
    "    More info: https://en.wikipedia.org/wiki/Standard_52-card_deck#Rank_and_color\n",
    "    \n",
    "    \"\"\"\n",
    "    \n",
    "\n",
    "deck_of_cards = create_deck_of_cards()\n",
    "assert len(deck_of_cards) == 52\n",
    "assert deck_of_cards[\"2H\"] == \"Two of Hearts\"\n",
    "assert deck_of_cards[\"AD\"] == \"Ace of Diamonds\"\n",
    "assert deck_of_cards[\"JS\"] == \"Jack of Spades\"\n",
    "assert deck_of_cards[\"QC\"] == \"Queen of Clubs\"\n",
    "assert deck_of_cards[\"10D\"] == \"Ten of Diamonds\"\n",
    "assert deck_of_cards[\"KH\"] == \"King of Hearts\""
   ]
  }
 ],
 "metadata": {
  "input_collapsed": true,
  "kernelspec": {
   "display_name": "Python 3",
   "language": "python",
   "name": "python3"
  },
  "language_info": {
   "codemirror_mode": {
    "name": "ipython",
    "version": 3
   },
   "file_extension": ".py",
   "mimetype": "text/x-python",
   "name": "python",
   "nbconvert_exporter": "python",
   "pygments_lexer": "ipython3",
   "version": "3.7.3"
  }
 },
 "nbformat": 4,
 "nbformat_minor": 2
}
