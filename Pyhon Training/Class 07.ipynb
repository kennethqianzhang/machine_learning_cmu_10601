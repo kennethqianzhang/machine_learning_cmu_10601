{
 "cells": [
  {
   "cell_type": "markdown",
   "metadata": {},
   "source": [
    "# Python Training 2021 - Class 7"
   ]
  },
  {
   "cell_type": "markdown",
   "metadata": {},
   "source": [
    "# Regular Expression"
   ]
  },
  {
   "cell_type": "markdown",
   "metadata": {},
   "source": [
    "___\n",
    "## Definition"
   ]
  },
  {
   "cell_type": "markdown",
   "metadata": {},
   "source": [
    "- A special text string for describing a search pattern\n",
    "- Short form: regex"
   ]
  },
  {
   "cell_type": "markdown",
   "metadata": {},
   "source": [
    "___\n",
    "## re search, match"
   ]
  },
  {
   "cell_type": "code",
   "execution_count": 1,
   "metadata": {
    "input_collapsed": false
   },
   "outputs": [],
   "source": [
    "import re"
   ]
  },
  {
   "cell_type": "code",
   "execution_count": 2,
   "metadata": {
    "input_collapsed": false
   },
   "outputs": [
    {
     "data": {
      "text/plain": [
       "<re.Match object; span=(15, 25), match='rat poison'>"
      ]
     },
     "execution_count": 2,
     "metadata": {},
     "output_type": "execute_result"
    }
   ],
   "source": [
    "re_search_result = re.search(\"(r.t) poison\", \"it is probably rat poison squared\")\n",
    "re_search_result"
   ]
  },
  {
   "cell_type": "code",
   "execution_count": 3,
   "metadata": {
    "input_collapsed": false
   },
   "outputs": [
    {
     "data": {
      "text/plain": [
       "'rat'"
      ]
     },
     "execution_count": 3,
     "metadata": {},
     "output_type": "execute_result"
    }
   ],
   "source": [
    "re_search_result.group(1)"
   ]
  },
  {
   "cell_type": "code",
   "execution_count": 4,
   "metadata": {
    "input_collapsed": true
   },
   "outputs": [
    {
     "data": {
      "text/plain": [
       "<re.Match object; span=(0, 2), match='it'>"
      ]
     },
     "execution_count": 4,
     "metadata": {},
     "output_type": "execute_result"
    }
   ],
   "source": [
    "re_search_result = re.match(\"it\", \"it is probably rat poison squared\")\n",
    "re_search_result"
   ]
  },
  {
   "cell_type": "code",
   "execution_count": 5,
   "metadata": {
    "input_collapsed": true
   },
   "outputs": [
    {
     "data": {
      "text/plain": [
       "re.Match"
      ]
     },
     "execution_count": 5,
     "metadata": {},
     "output_type": "execute_result"
    }
   ],
   "source": [
    "type(re_search_result)"
   ]
  },
  {
   "cell_type": "code",
   "execution_count": 6,
   "metadata": {
    "input_collapsed": true
   },
   "outputs": [
    {
     "data": {
      "text/plain": [
       "<re.Match object; span=(0, 14), match='rat in the hat'>"
      ]
     },
     "execution_count": 6,
     "metadata": {},
     "output_type": "execute_result"
    }
   ],
   "source": [
    "re_search_result = re.match(\"((r.t) (in) )the (h.t)\", \"rat in the hat\")\n",
    "re_search_result"
   ]
  },
  {
   "cell_type": "code",
   "execution_count": 7,
   "metadata": {
    "input_collapsed": true
   },
   "outputs": [
    {
     "data": {
      "text/plain": [
       "('rat in ', 'rat', 'in', 'hat')"
      ]
     },
     "execution_count": 7,
     "metadata": {},
     "output_type": "execute_result"
    }
   ],
   "source": [
    "re_search_result.groups()"
   ]
  },
  {
   "cell_type": "code",
   "execution_count": 8,
   "metadata": {
    "input_collapsed": true
   },
   "outputs": [
    {
     "data": {
      "text/plain": [
       "'abc=abc\\nabc=def\\ndef=def'"
      ]
     },
     "execution_count": 8,
     "metadata": {},
     "output_type": "execute_result"
    }
   ],
   "source": [
    "string = \"\"\"abc=abc\n",
    "abc=def\n",
    "def=def\"\"\"\n",
    "string"
   ]
  },
  {
   "cell_type": "code",
   "execution_count": 9,
   "metadata": {
    "input_collapsed": true
   },
   "outputs": [
    {
     "data": {
      "text/plain": [
       "<re.Match object; span=(0, 7), match='abc=abc'>"
      ]
     },
     "execution_count": 9,
     "metadata": {},
     "output_type": "execute_result"
    }
   ],
   "source": [
    "re_search_result = re.search(\"(\\w{3})=(\\w{3})\", string)\n",
    "re_search_result"
   ]
  },
  {
   "cell_type": "code",
   "execution_count": 10,
   "metadata": {
    "input_collapsed": true
   },
   "outputs": [
    {
     "data": {
      "text/plain": [
       "'abc'"
      ]
     },
     "execution_count": 10,
     "metadata": {},
     "output_type": "execute_result"
    }
   ],
   "source": [
    "re_search_result.group(2)"
   ]
  },
  {
   "cell_type": "code",
   "execution_count": 11,
   "metadata": {
    "input_collapsed": true
   },
   "outputs": [
    {
     "data": {
      "text/plain": [
       "'abc'"
      ]
     },
     "execution_count": 11,
     "metadata": {},
     "output_type": "execute_result"
    }
   ],
   "source": [
    "string = \"\"\"abc=def\n",
    "def=def\"\"\"\n",
    "re_search_result = re.search(\"(\\w{3})=(\\w{3})\", string)\n",
    "re_search_result.group(1)"
   ]
  },
  {
   "cell_type": "code",
   "execution_count": 12,
   "metadata": {
    "input_collapsed": true
   },
   "outputs": [
    {
     "data": {
      "text/plain": [
       "('abc', 'def')"
      ]
     },
     "execution_count": 12,
     "metadata": {},
     "output_type": "execute_result"
    }
   ],
   "source": [
    "re_search_result.groups()"
   ]
  },
  {
   "cell_type": "code",
   "execution_count": 13,
   "metadata": {
    "input_collapsed": true
   },
   "outputs": [],
   "source": [
    "if re.search(\"c.t\", \"rat in the hat\"):\n",
    "    print(\"found pattern\")"
   ]
  },
  {
   "cell_type": "markdown",
   "metadata": {},
   "source": [
    "___\n",
    "## re findall"
   ]
  },
  {
   "cell_type": "code",
   "execution_count": 14,
   "metadata": {
    "input_collapsed": true
   },
   "outputs": [
    {
     "data": {
      "text/plain": [
       "'abc=abc\\nabc=def\\ndef=def'"
      ]
     },
     "execution_count": 14,
     "metadata": {},
     "output_type": "execute_result"
    }
   ],
   "source": [
    "string = \"\"\"abc=abc\n",
    "abc=def\n",
    "def=def\"\"\"\n",
    "string"
   ]
  },
  {
   "cell_type": "code",
   "execution_count": 15,
   "metadata": {
    "input_collapsed": true
   },
   "outputs": [
    {
     "data": {
      "text/plain": [
       "('abc', 'abc')"
      ]
     },
     "execution_count": 15,
     "metadata": {},
     "output_type": "execute_result"
    }
   ],
   "source": [
    "re_search_result = re.match(\"(\\w{3})=(\\w{3})\", string)\n",
    "re_search_result.groups()"
   ]
  },
  {
   "cell_type": "code",
   "execution_count": 16,
   "metadata": {
    "input_collapsed": true
   },
   "outputs": [
    {
     "data": {
      "text/plain": [
       "()"
      ]
     },
     "execution_count": 16,
     "metadata": {},
     "output_type": "execute_result"
    }
   ],
   "source": [
    "re_search_result = re.match(\"h.h\", \"hahah.haha\")\n",
    "re_search_result.groups()"
   ]
  },
  {
   "cell_type": "code",
   "execution_count": 17,
   "metadata": {
    "input_collapsed": true
   },
   "outputs": [
    {
     "data": {
      "text/plain": [
       "[('abc', 'abc'), ('abc', 'def'), ('def', 'def')]"
      ]
     },
     "execution_count": 17,
     "metadata": {},
     "output_type": "execute_result"
    }
   ],
   "source": [
    "re_search_result = re.findall(\"(\\w{3})=(\\w{3})\", string)\n",
    "re_search_result"
   ]
  },
  {
   "cell_type": "code",
   "execution_count": 18,
   "metadata": {
    "input_collapsed": true
   },
   "outputs": [
    {
     "data": {
      "text/plain": [
       "[]"
      ]
     },
     "execution_count": 18,
     "metadata": {},
     "output_type": "execute_result"
    }
   ],
   "source": [
    "re_search_result = re.findall(\"(\\w{3})=(\\1)\", string)\n",
    "re_search_result"
   ]
  },
  {
   "cell_type": "code",
   "execution_count": 19,
   "metadata": {
    "input_collapsed": true
   },
   "outputs": [
    {
     "data": {
      "text/plain": [
       "'(\\\\w{3})=(\\x01)'"
      ]
     },
     "execution_count": 19,
     "metadata": {},
     "output_type": "execute_result"
    }
   ],
   "source": [
    "\"(\\w{3})=(\\1)\""
   ]
  },
  {
   "cell_type": "code",
   "execution_count": 20,
   "metadata": {
    "input_collapsed": true
   },
   "outputs": [
    {
     "data": {
      "text/plain": [
       "'(\\\\w{3})=(\\\\1)'"
      ]
     },
     "execution_count": 20,
     "metadata": {},
     "output_type": "execute_result"
    }
   ],
   "source": [
    "r\"(\\w{3})=(\\1)\""
   ]
  },
  {
   "cell_type": "code",
   "execution_count": 21,
   "metadata": {
    "input_collapsed": true
   },
   "outputs": [
    {
     "data": {
      "text/plain": [
       "[('abc', 'abc'), ('def', 'def')]"
      ]
     },
     "execution_count": 21,
     "metadata": {},
     "output_type": "execute_result"
    }
   ],
   "source": [
    "re_search_result = re.findall(r\"(\\w{3})=(\\1)\", string)\n",
    "re_search_result"
   ]
  },
  {
   "cell_type": "code",
   "execution_count": 22,
   "metadata": {
    "input_collapsed": true
   },
   "outputs": [
    {
     "data": {
      "text/plain": [
       "[('123.456.abc.def', 'abc.'), ('123.123.123.123', '123.')]"
      ]
     },
     "execution_count": 22,
     "metadata": {},
     "output_type": "execute_result"
    }
   ],
   "source": [
    "string_2 = \"\"\"Match: 123.456.abc.def\n",
    "No Match: 1234.456.abc.def\n",
    "Match: 123.123.123.123\"\"\"\n",
    "re_pattern = r\"\\s((\\w{3}\\.){3}\\w{3})\"\n",
    "re.findall(re_pattern, string_2)"
   ]
  },
  {
   "cell_type": "code",
   "execution_count": 23,
   "metadata": {
    "input_collapsed": true
   },
   "outputs": [
    {
     "data": {
      "text/plain": [
       "['123.456.abc.def', '123.123.123.123']"
      ]
     },
     "execution_count": 23,
     "metadata": {},
     "output_type": "execute_result"
    }
   ],
   "source": [
    "# List comprehension\n",
    "# (List comp)\n",
    "[i[0] for i in re.findall(re_pattern, string_2)]"
   ]
  },
  {
   "cell_type": "markdown",
   "metadata": {},
   "source": [
    "___\n",
    "# More about string"
   ]
  },
  {
   "cell_type": "markdown",
   "metadata": {
    "input_collapsed": true
   },
   "source": [
    "___\n",
    "## str format()"
   ]
  },
  {
   "cell_type": "code",
   "execution_count": 24,
   "metadata": {
    "input_collapsed": true
   },
   "outputs": [
    {
     "data": {
      "text/plain": [
       "\"My name is Adam and I'm 29 years old. Or am I?\""
      ]
     },
     "execution_count": 24,
     "metadata": {},
     "output_type": "execute_result"
    }
   ],
   "source": [
    "name = \"Adam\"\n",
    "age = 29\n",
    "\"My name is \" + name + \" and I'm \" + str(age) + \" years old. Or am I?\""
   ]
  },
  {
   "cell_type": "code",
   "execution_count": 25,
   "metadata": {
    "input_collapsed": true
   },
   "outputs": [
    {
     "data": {
      "text/plain": [
       "\"My name is Adam and I'm 29 years old. Or am I?\""
      ]
     },
     "execution_count": 25,
     "metadata": {},
     "output_type": "execute_result"
    }
   ],
   "source": [
    "\"My name is {} and I'm {} years old. Or am I?\".format(name, age)"
   ]
  },
  {
   "cell_type": "code",
   "execution_count": 26,
   "metadata": {
    "input_collapsed": true
   },
   "outputs": [
    {
     "data": {
      "text/plain": [
       "\"My name is Adam and I'm 29 years old. Or am I?\""
      ]
     },
     "execution_count": 26,
     "metadata": {},
     "output_type": "execute_result"
    }
   ],
   "source": [
    "info = (\"Adam\", 29)\n",
    "\"My name is {} and I'm {} years old. Or am I?\".format(*info)  # unpacking"
   ]
  },
  {
   "cell_type": "code",
   "execution_count": 27,
   "metadata": {
    "input_collapsed": true
   },
   "outputs": [
    {
     "data": {
      "text/plain": [
       "\"I'm Adam years old and my name is 29. I'm also lying about my age\""
      ]
     },
     "execution_count": 27,
     "metadata": {},
     "output_type": "execute_result"
    }
   ],
   "source": [
    "\"I'm {} years old and my name is {}. I'm also lying about my age\".format(*info)"
   ]
  },
  {
   "cell_type": "code",
   "execution_count": 28,
   "metadata": {
    "input_collapsed": true
   },
   "outputs": [
    {
     "data": {
      "text/plain": [
       "\"I'm 29 years old and my name is Adam. I'm also lying about my age\""
      ]
     },
     "execution_count": 28,
     "metadata": {},
     "output_type": "execute_result"
    }
   ],
   "source": [
    "\"I'm {1} years old and my name is {0}. I'm also lying about my age\".format(*info)"
   ]
  },
  {
   "cell_type": "markdown",
   "metadata": {},
   "source": [
    "## advanced str format()"
   ]
  },
  {
   "cell_type": "markdown",
   "metadata": {},
   "source": [
    "https://pyformat.info/"
   ]
  },
  {
   "cell_type": "code",
   "execution_count": 29,
   "metadata": {
    "input_collapsed": true
   },
   "outputs": [
    {
     "data": {
      "text/plain": [
       "['__add__',\n",
       " '__class__',\n",
       " '__contains__',\n",
       " '__delattr__',\n",
       " '__dir__',\n",
       " '__doc__',\n",
       " '__eq__',\n",
       " '__format__',\n",
       " '__ge__',\n",
       " '__getattribute__',\n",
       " '__getitem__',\n",
       " '__getnewargs__',\n",
       " '__gt__',\n",
       " '__hash__',\n",
       " '__init__',\n",
       " '__init_subclass__',\n",
       " '__iter__',\n",
       " '__le__',\n",
       " '__len__',\n",
       " '__lt__',\n",
       " '__mod__',\n",
       " '__mul__',\n",
       " '__ne__',\n",
       " '__new__',\n",
       " '__reduce__',\n",
       " '__reduce_ex__',\n",
       " '__repr__',\n",
       " '__rmod__',\n",
       " '__rmul__',\n",
       " '__setattr__',\n",
       " '__sizeof__',\n",
       " '__str__',\n",
       " '__subclasshook__',\n",
       " 'capitalize',\n",
       " 'casefold',\n",
       " 'center',\n",
       " 'count',\n",
       " 'encode',\n",
       " 'endswith',\n",
       " 'expandtabs',\n",
       " 'find',\n",
       " 'format',\n",
       " 'format_map',\n",
       " 'index',\n",
       " 'isalnum',\n",
       " 'isalpha',\n",
       " 'isascii',\n",
       " 'isdecimal',\n",
       " 'isdigit',\n",
       " 'isidentifier',\n",
       " 'islower',\n",
       " 'isnumeric',\n",
       " 'isprintable',\n",
       " 'isspace',\n",
       " 'istitle',\n",
       " 'isupper',\n",
       " 'join',\n",
       " 'ljust',\n",
       " 'lower',\n",
       " 'lstrip',\n",
       " 'maketrans',\n",
       " 'partition',\n",
       " 'replace',\n",
       " 'rfind',\n",
       " 'rindex',\n",
       " 'rjust',\n",
       " 'rpartition',\n",
       " 'rsplit',\n",
       " 'rstrip',\n",
       " 'split',\n",
       " 'splitlines',\n",
       " 'startswith',\n",
       " 'strip',\n",
       " 'swapcase',\n",
       " 'title',\n",
       " 'translate',\n",
       " 'upper',\n",
       " 'zfill']"
      ]
     },
     "execution_count": 29,
     "metadata": {},
     "output_type": "execute_result"
    }
   ],
   "source": [
    "dir(str)"
   ]
  },
  {
   "cell_type": "code",
   "execution_count": 30,
   "metadata": {
    "input_collapsed": true
   },
   "outputs": [
    {
     "data": {
      "text/plain": [
       "['capitalize',\n",
       " 'casefold',\n",
       " 'center',\n",
       " 'count',\n",
       " 'encode',\n",
       " 'endswith',\n",
       " 'expandtabs',\n",
       " 'find',\n",
       " 'format',\n",
       " 'index',\n",
       " 'isalnum',\n",
       " 'isalpha',\n",
       " 'isascii',\n",
       " 'isdecimal',\n",
       " 'isdigit',\n",
       " 'isidentifier',\n",
       " 'islower',\n",
       " 'isnumeric',\n",
       " 'isprintable',\n",
       " 'isspace',\n",
       " 'istitle',\n",
       " 'isupper',\n",
       " 'join',\n",
       " 'ljust',\n",
       " 'lower',\n",
       " 'lstrip',\n",
       " 'maketrans',\n",
       " 'partition',\n",
       " 'replace',\n",
       " 'rfind',\n",
       " 'rindex',\n",
       " 'rjust',\n",
       " 'rpartition',\n",
       " 'rsplit',\n",
       " 'rstrip',\n",
       " 'split',\n",
       " 'splitlines',\n",
       " 'startswith',\n",
       " 'strip',\n",
       " 'swapcase',\n",
       " 'title',\n",
       " 'translate',\n",
       " 'upper',\n",
       " 'zfill']"
      ]
     },
     "execution_count": 30,
     "metadata": {},
     "output_type": "execute_result"
    }
   ],
   "source": [
    "[i for i in dir(str) if \"_\" not in i]"
   ]
  },
  {
   "cell_type": "code",
   "execution_count": 31,
   "metadata": {
    "input_collapsed": true
   },
   "outputs": [
    {
     "data": {
      "text/plain": [
       "44"
      ]
     },
     "execution_count": 31,
     "metadata": {},
     "output_type": "execute_result"
    }
   ],
   "source": [
    "x = [i for i in dir(str) if \"_\" not in i]\n",
    "len(x)"
   ]
  },
  {
   "cell_type": "code",
   "execution_count": 32,
   "metadata": {
    "input_collapsed": true
   },
   "outputs": [
    {
     "data": {
      "text/markdown": [
       "For **each** of these str methods, write **two** Python examples to show their use cases:"
      ],
      "text/plain": [
       "<IPython.core.display.Markdown object>"
      ]
     },
     "metadata": {},
     "output_type": "display_data"
    },
    {
     "name": "stdout",
     "output_type": "stream",
     "text": [
      "Ken's homework:\n",
      "['splitlines', 'index', 'expandtabs', 'ljust']\n",
      "\n",
      "Jiachen's homework:\n",
      "['isalnum', 'splitlines', 'rsplit', 'strip']\n",
      "\n",
      "Yuyao's homework:\n",
      "['index', 'isupper', 'join', 'count']\n",
      "\n",
      "Sukanya's homework:\n",
      "['lower', 'isidentifier', 'capitalize', 'title']\n",
      "\n",
      "Jacob's homework:\n",
      "['partition', 'encode', 'endswith', 'index']\n",
      "\n",
      "Yue's homework:\n",
      "['isdigit', 'center', 'isprintable', 'rfind']\n",
      "\n",
      "Chen's homework:\n",
      "['isspace', 'title', 'startswith', 'zfill']\n",
      "\n",
      "Yuanzhe's homework:\n",
      "['casefold', 'isupper', 'splitlines', 'swapcase']\n",
      "\n",
      "Kaiwen's homework:\n",
      "['replace', 'splitlines', 'rjust', 'join']\n",
      "\n",
      "Shaling's homework:\n",
      "['find', 'rindex', 'isdigit', 'partition']\n",
      "\n",
      "Qi's homework:\n",
      "['rstrip', 'isalnum', 'isspace', 'strip']\n",
      "\n"
     ]
    }
   ],
   "source": [
    "from random import sample\n",
    "from IPython.display import Markdown, display\n",
    "\n",
    "def make_homework():\n",
    "    display(Markdown(\"For **each** of these str methods, write **two** Python examples to show their use cases:\"))\n",
    "    for student in  [\"Ken\", \"Jiachen\", \"Yuyao\", \n",
    "              \"Sukanya\", \"Jacob\", \"Yue\", \"Chen\", \"Yuanzhe\", \"Kaiwen\", \"Shaling\", \"Qi\"]:\n",
    "        print(\"{}'s homework:\\n{}\".format(\n",
    "            student,\n",
    "            sample([i for i in dir(str) if \"_\" not in i], 4)\n",
    "        ), end=\"\\n\"*2)\n",
    "        \n",
    "make_homework()"
   ]
  },
  {
   "cell_type": "code",
   "execution_count": 33,
   "metadata": {
    "input_collapsed": true
   },
   "outputs": [
    {
     "data": {
      "text/plain": [
       "True"
      ]
     },
     "execution_count": 33,
     "metadata": {},
     "output_type": "execute_result"
    }
   ],
   "source": [
    "# Example\n",
    "# upper() use case\n",
    "str_1 = \"abc\"\n",
    "str_2 = \"ABC\"\n",
    "str_1.upper() == str_2"
   ]
  },
  {
   "cell_type": "markdown",
   "metadata": {},
   "source": [
    "# Homework 8\n"
   ]
  },
  {
   "cell_type": "code",
   "execution_count": 34,
   "metadata": {
    "input_collapsed": true
   },
   "outputs": [
    {
     "ename": "TypeError",
     "evalue": "url_validator() takes 0 positional arguments but 1 was given",
     "output_type": "error",
     "traceback": [
      "\u001b[0;31m---------------------------------------------------------------------------\u001b[0m",
      "\u001b[0;31mTypeError\u001b[0m                                 Traceback (most recent call last)",
      "\u001b[0;32m<ipython-input-34-a296d7ad2373>\u001b[0m in \u001b[0;36m<module>\u001b[0;34m\u001b[0m\n\u001b[1;32m      3\u001b[0m     \u001b[0;34m\"\"\"Check if input is a valid url\"\"\"\u001b[0m\u001b[0;34m\u001b[0m\u001b[0;34m\u001b[0m\u001b[0m\n\u001b[1;32m      4\u001b[0m \u001b[0;34m\u001b[0m\u001b[0m\n\u001b[0;32m----> 5\u001b[0;31m \u001b[0;32massert\u001b[0m \u001b[0murl_validator\u001b[0m\u001b[0;34m(\u001b[0m\u001b[0;34m\"www.youtube.com\"\u001b[0m\u001b[0;34m)\u001b[0m \u001b[0;34m==\u001b[0m \u001b[0;32mTrue\u001b[0m\u001b[0;34m,\u001b[0m \u001b[0;34m\"This is a valid URL\"\u001b[0m\u001b[0;34m\u001b[0m\u001b[0;34m\u001b[0m\u001b[0m\n\u001b[0m\u001b[1;32m      6\u001b[0m \u001b[0;32massert\u001b[0m \u001b[0murl_validator\u001b[0m\u001b[0;34m(\u001b[0m\u001b[0;34m\"wwww.youtube.com\"\u001b[0m\u001b[0;34m)\u001b[0m \u001b[0;34m==\u001b[0m \u001b[0;32mFalse\u001b[0m\u001b[0;34m,\u001b[0m \u001b[0;34m\"This is NOT a valid URL\"\u001b[0m\u001b[0;34m\u001b[0m\u001b[0;34m\u001b[0m\u001b[0m\n\u001b[1;32m      7\u001b[0m \u001b[0;32massert\u001b[0m \u001b[0murl_validator\u001b[0m\u001b[0;34m(\u001b[0m\u001b[0;34m\"www.youtube.co.jp\"\u001b[0m\u001b[0;34m)\u001b[0m \u001b[0;34m==\u001b[0m \u001b[0;32mTrue\u001b[0m\u001b[0;34m,\u001b[0m \u001b[0;34m\"This is a valid URL\"\u001b[0m\u001b[0;34m\u001b[0m\u001b[0;34m\u001b[0m\u001b[0m\n",
      "\u001b[0;31mTypeError\u001b[0m: url_validator() takes 0 positional arguments but 1 was given"
     ]
    }
   ],
   "source": [
    "# 1\n",
    "def url_validator():\n",
    "    \"\"\"Check if input is a valid url\"\"\"\n",
    "\n",
    "assert url_validator(\"www.youtube.com\") == True, \"This is a valid URL\"\n",
    "assert url_validator(\"wwww.youtube.com\") == False, \"This is NOT a valid URL\"\n",
    "assert url_validator(\"www.youtube.co.jp\") == True, \"This is a valid URL\"\n",
    "assert url_validator(\"https://www.youtube.co.jp\") == True, \"This is a valid URL\"\n",
    "assert url_validator(\"https:/www.youtube.co.jp\") == False, \"This is NOT a valid URL\""
   ]
  },
  {
   "cell_type": "code",
   "execution_count": null,
   "metadata": {
    "input_collapsed": true
   },
   "outputs": [],
   "source": [
    "# 2\n",
    "def secret_encoder():\n",
    "    \"\"\"From the input string, create a new string that have +++ and --- alternatively added at the beginning of each letter\"\"\"\n",
    "    \n",
    "assert secret_encoder(\"HELLO\") == \"+++H---E+++L---L+++O\", \"Output: \\n{}\\n is incorrect\".format(secret_encoder(\"HELLO\"))\n",
    "assert secret_encoder(\"BYEE\") == \"+++B---Y+++E---E\", \"Output: \\n{}\\n is incorrect\".format(secret_encoder(\"BYEE\"))"
   ]
  },
  {
   "cell_type": "code",
   "execution_count": null,
   "metadata": {
    "input_collapsed": true
   },
   "outputs": [],
   "source": [
    "# 3\n",
    "def secret_decoder():\n",
    "    \"\"\"Decode a string that contains the above encoded string to the original string\"\"\"\n",
    "\n",
    "actual = secret_decoder(\"blahblah+++H---E+++L---L+++O=))))))))\")\n",
    "assert actual == \"HELLO\", \"Output: \\n{}\\n is incorrect\".format(actual)\n",
    "\n",
    "actual = secret_decoder(\"This is very annoying+++B---Y+++E---E, right?\")\n",
    "assert actual == \"BYEE\", \"Output: \\n{}\\n is incorrect\".format(actual)"
   ]
  }
 ],
 "metadata": {
  "input_collapsed": true,
  "kernelspec": {
   "display_name": "Python 3",
   "language": "python",
   "name": "python3"
  },
  "language_info": {
   "codemirror_mode": {
    "name": "ipython",
    "version": 3
   },
   "file_extension": ".py",
   "mimetype": "text/x-python",
   "name": "python",
   "nbconvert_exporter": "python",
   "pygments_lexer": "ipython3",
   "version": "3.7.3"
  }
 },
 "nbformat": 4,
 "nbformat_minor": 2
}
