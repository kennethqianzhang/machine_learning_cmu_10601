{
 "cells": [
  {
   "cell_type": "markdown",
   "metadata": {},
   "source": [
    "# Python Training 2021 - Class 10"
   ]
  },
  {
   "cell_type": "markdown",
   "metadata": {},
   "source": [
    "## Useful Python libraries"
   ]
  },
  {
   "cell_type": "markdown",
   "metadata": {},
   "source": [
    "___\n",
    "## Data Analysis"
   ]
  },
  {
   "cell_type": "code",
   "execution_count": 26,
   "metadata": {},
   "outputs": [
    {
     "name": "stdout",
     "output_type": "stream",
     "text": [
      "2019-03-28\n"
     ]
    },
    {
     "data": {
      "text/plain": [
       "datetime.date(2019, 3, 28)"
      ]
     },
     "metadata": {},
     "output_type": "display_data"
    }
   ],
   "source": [
    "import datetime\n",
    "from IPython.display import display\n",
    "# Date range\n",
    "today = datetime.date.today()\n",
    "print(today)\n",
    "display(today)"
   ]
  },
  {
   "cell_type": "code",
   "execution_count": 27,
   "metadata": {},
   "outputs": [
    {
     "data": {
      "text/plain": [
       "3"
      ]
     },
     "execution_count": 27,
     "metadata": {},
     "output_type": "execute_result"
    }
   ],
   "source": [
    "today.weekday()"
   ]
  },
  {
   "cell_type": "code",
   "execution_count": 28,
   "metadata": {},
   "outputs": [
    {
     "data": {
      "text/plain": [
       "True"
      ]
     },
     "execution_count": 28,
     "metadata": {},
     "output_type": "execute_result"
    }
   ],
   "source": [
    "\"abc\".isalpha()"
   ]
  },
  {
   "cell_type": "code",
   "execution_count": 61,
   "metadata": {},
   "outputs": [
    {
     "data": {
      "text/plain": [
       "datetime.datetime(2019, 3, 21, 0, 0)"
      ]
     },
     "execution_count": 61,
     "metadata": {},
     "output_type": "execute_result"
    }
   ],
   "source": [
    "one_week_ago = today - datetime.timedelta(weeks=1)\n",
    "one_week_ago"
   ]
  },
  {
   "cell_type": "code",
   "execution_count": 30,
   "metadata": {},
   "outputs": [
    {
     "data": {
      "text/plain": [
       "{'end': datetime.date(2019, 3, 28), 'start': datetime.date(2019, 3, 21)}"
      ]
     },
     "execution_count": 30,
     "metadata": {},
     "output_type": "execute_result"
    }
   ],
   "source": [
    "one_week_range = {'start': one_week_ago, 'end': today}\n",
    "one_week_range"
   ]
  },
  {
   "cell_type": "code",
   "execution_count": 31,
   "metadata": {},
   "outputs": [
    {
     "data": {
      "text/plain": [
       "'28_03_2019'"
      ]
     },
     "execution_count": 31,
     "metadata": {},
     "output_type": "execute_result"
    }
   ],
   "source": [
    "today = today.strftime(\"%d_%m_%Y\")\n",
    "today"
   ]
  },
  {
   "cell_type": "code",
   "execution_count": 32,
   "metadata": {},
   "outputs": [
    {
     "data": {
      "text/plain": [
       "datetime.datetime(2019, 3, 28, 0, 0)"
      ]
     },
     "execution_count": 32,
     "metadata": {},
     "output_type": "execute_result"
    }
   ],
   "source": [
    "# parse time\n",
    "today = datetime.datetime.strptime(today, \"%d_%m_%Y\")\n",
    "today"
   ]
  },
  {
   "cell_type": "code",
   "execution_count": 63,
   "metadata": {},
   "outputs": [
    {
     "data": {
      "text/plain": [
       "3"
      ]
     },
     "execution_count": 63,
     "metadata": {},
     "output_type": "execute_result"
    }
   ],
   "source": [
    "datetime.date(2019, 3, 28).weekday()"
   ]
  },
  {
   "cell_type": "code",
   "execution_count": 34,
   "metadata": {},
   "outputs": [
    {
     "data": {
      "text/plain": [
       "'March'"
      ]
     },
     "execution_count": 34,
     "metadata": {},
     "output_type": "execute_result"
    }
   ],
   "source": [
    "today.strftime(\"%B\")"
   ]
  },
  {
   "cell_type": "code",
   "execution_count": 35,
   "metadata": {
    "collapsed": true
   },
   "outputs": [],
   "source": [
    "import bql\n",
    "# Instantiate an object to interface with the BQL service\n",
    "bq = bql.Service()"
   ]
  },
  {
   "cell_type": "code",
   "execution_count": 36,
   "metadata": {},
   "outputs": [
    {
     "data": {
      "text/html": [
       "<div>\n",
       "<table border=\"1\" class=\"dataframe\">\n",
       "  <thead>\n",
       "    <tr style=\"text-align: right;\">\n",
       "      <th></th>\n",
       "      <th>DATE</th>\n",
       "      <th>CURRENCY</th>\n",
       "      <th>PX_LAST(start=2019-03-21,end=2019-03-28)</th>\n",
       "      <th>PX_HIGH(start=2019-03-21,end=2019-03-28)</th>\n",
       "      <th>PX_LOW(start=2019-03-21,end=2019-03-28)</th>\n",
       "    </tr>\n",
       "    <tr>\n",
       "      <th>ID</th>\n",
       "      <th></th>\n",
       "      <th></th>\n",
       "      <th></th>\n",
       "      <th></th>\n",
       "      <th></th>\n",
       "    </tr>\n",
       "  </thead>\n",
       "  <tbody>\n",
       "    <tr>\n",
       "      <th>8766 JT Equity</th>\n",
       "      <td>2019-03-21</td>\n",
       "      <td>JPY</td>\n",
       "      <td>NaN</td>\n",
       "      <td>NaN</td>\n",
       "      <td>NaN</td>\n",
       "    </tr>\n",
       "    <tr>\n",
       "      <th>8766 JT Equity</th>\n",
       "      <td>2019-03-22</td>\n",
       "      <td>JPY</td>\n",
       "      <td>5445.0</td>\n",
       "      <td>5522.0</td>\n",
       "      <td>5445.0</td>\n",
       "    </tr>\n",
       "    <tr>\n",
       "      <th>8766 JT Equity</th>\n",
       "      <td>2019-03-23</td>\n",
       "      <td>JPY</td>\n",
       "      <td>NaN</td>\n",
       "      <td>NaN</td>\n",
       "      <td>NaN</td>\n",
       "    </tr>\n",
       "    <tr>\n",
       "      <th>8766 JT Equity</th>\n",
       "      <td>2019-03-24</td>\n",
       "      <td>JPY</td>\n",
       "      <td>NaN</td>\n",
       "      <td>NaN</td>\n",
       "      <td>NaN</td>\n",
       "    </tr>\n",
       "    <tr>\n",
       "      <th>8766 JT Equity</th>\n",
       "      <td>2019-03-25</td>\n",
       "      <td>JPY</td>\n",
       "      <td>5368.0</td>\n",
       "      <td>5405.0</td>\n",
       "      <td>5342.0</td>\n",
       "    </tr>\n",
       "  </tbody>\n",
       "</table>\n",
       "</div>"
      ],
      "text/plain": [
       "                     DATE CURRENCY  PX_LAST(start=2019-03-21,end=2019-03-28)  \\\n",
       "ID                                                                             \n",
       "8766 JT Equity 2019-03-21      JPY                                       NaN   \n",
       "8766 JT Equity 2019-03-22      JPY                                    5445.0   \n",
       "8766 JT Equity 2019-03-23      JPY                                       NaN   \n",
       "8766 JT Equity 2019-03-24      JPY                                       NaN   \n",
       "8766 JT Equity 2019-03-25      JPY                                    5368.0   \n",
       "\n",
       "                PX_HIGH(start=2019-03-21,end=2019-03-28)  \\\n",
       "ID                                                         \n",
       "8766 JT Equity                                       NaN   \n",
       "8766 JT Equity                                    5522.0   \n",
       "8766 JT Equity                                       NaN   \n",
       "8766 JT Equity                                       NaN   \n",
       "8766 JT Equity                                    5405.0   \n",
       "\n",
       "                PX_LOW(start=2019-03-21,end=2019-03-28)  \n",
       "ID                                                       \n",
       "8766 JT Equity                                      NaN  \n",
       "8766 JT Equity                                   5445.0  \n",
       "8766 JT Equity                                      NaN  \n",
       "8766 JT Equity                                      NaN  \n",
       "8766 JT Equity                                   5342.0  "
      ]
     },
     "execution_count": 36,
     "metadata": {},
     "output_type": "execute_result"
    }
   ],
   "source": [
    "# Define a universe of the members of the NKY Index\n",
    "nikkei_members = bq.univ.members(\"NKY Index\")\n",
    "\n",
    "# Generate and execute the request\n",
    "last = bq.data.px_last(**one_week_range)    # (end=datetime.date(2019, 3, 28), start=datetime.date(2019, 3, 21))\n",
    "high = bq.data.px_high(**one_week_range)\n",
    "low = bq.data.px_low(**one_week_range)\n",
    "\n",
    "request = bql.Request(nikkei_members, [last, high, low])\n",
    "response = bq.execute(request)\n",
    "\n",
    "# Combine response into one data frame\n",
    "nikkei = bql.combined_df(response)\n",
    "nikkei.head()"
   ]
  },
  {
   "cell_type": "code",
   "execution_count": 37,
   "metadata": {},
   "outputs": [],
   "source": [
    "import pyrefdata\n",
    "import bqapi\n",
    "session = bqapi.Session()"
   ]
  },
  {
   "cell_type": "code",
   "execution_count": 38,
   "metadata": {},
   "outputs": [
    {
     "name": "stderr",
     "output_type": "stream",
     "text": [
      "Using the no_format object is deprecated. Please set format=None in the call to send_request, or supply a new SimpleFormat instance\n"
     ]
    },
    {
     "data": {
      "text/html": [
       "<div>\n",
       "<table border=\"1\" class=\"dataframe\">\n",
       "  <thead>\n",
       "    <tr style=\"text-align: right;\">\n",
       "      <th></th>\n",
       "      <th>Field</th>\n",
       "      <th>PX_HIGH</th>\n",
       "      <th>PX_LAST</th>\n",
       "      <th>PX_LOW</th>\n",
       "    </tr>\n",
       "    <tr>\n",
       "      <th>Security</th>\n",
       "      <th>date</th>\n",
       "      <th></th>\n",
       "      <th></th>\n",
       "      <th></th>\n",
       "    </tr>\n",
       "  </thead>\n",
       "  <tbody>\n",
       "    <tr>\n",
       "      <th rowspan=\"5\" valign=\"top\">1332 JT Equity</th>\n",
       "      <th>2019-03-22</th>\n",
       "      <td>806.0</td>\n",
       "      <td>805.0</td>\n",
       "      <td>797.0</td>\n",
       "    </tr>\n",
       "    <tr>\n",
       "      <th>2019-03-25</th>\n",
       "      <td>802.0</td>\n",
       "      <td>797.0</td>\n",
       "      <td>792.0</td>\n",
       "    </tr>\n",
       "    <tr>\n",
       "      <th>2019-03-26</th>\n",
       "      <td>819.0</td>\n",
       "      <td>817.0</td>\n",
       "      <td>798.0</td>\n",
       "    </tr>\n",
       "    <tr>\n",
       "      <th>2019-03-27</th>\n",
       "      <td>824.0</td>\n",
       "      <td>821.0</td>\n",
       "      <td>806.0</td>\n",
       "    </tr>\n",
       "    <tr>\n",
       "      <th>2019-03-28</th>\n",
       "      <td>854.0</td>\n",
       "      <td>854.0</td>\n",
       "      <td>831.0</td>\n",
       "    </tr>\n",
       "  </tbody>\n",
       "</table>\n",
       "</div>"
      ],
      "text/plain": [
       "Field                      PX_HIGH  PX_LAST  PX_LOW\n",
       "Security       date                                \n",
       "1332 JT Equity 2019-03-22    806.0    805.0   797.0\n",
       "               2019-03-25    802.0    797.0   792.0\n",
       "               2019-03-26    819.0    817.0   798.0\n",
       "               2019-03-27    824.0    821.0   806.0\n",
       "               2019-03-28    854.0    854.0   831.0"
      ]
     },
     "execution_count": 38,
     "metadata": {},
     "output_type": "execute_result"
    }
   ],
   "source": [
    "nikkei = pyrefdata.get_historical_data(\n",
    "    session, \"index:NKY\", [\"PX_LAST\", \"PX_HIGH\", \"PX_LOW\"],\n",
    "    start_date=one_week_ago, end_date=today\n",
    ")\n",
    "nikkei.head()"
   ]
  },
  {
   "cell_type": "code",
   "execution_count": 51,
   "metadata": {},
   "outputs": [
    {
     "data": {
      "text/plain": [
       "pandas.core.frame.DataFrame"
      ]
     },
     "execution_count": 51,
     "metadata": {},
     "output_type": "execute_result"
    }
   ],
   "source": [
    "type(nikkei)"
   ]
  },
  {
   "cell_type": "code",
   "execution_count": 64,
   "metadata": {},
   "outputs": [
    {
     "data": {
      "text/html": [
       "<div>\n",
       "<table border=\"1\" class=\"dataframe\">\n",
       "  <thead>\n",
       "    <tr style=\"text-align: right;\">\n",
       "      <th></th>\n",
       "      <th>Field</th>\n",
       "      <th>PX_HIGH</th>\n",
       "      <th>PX_LAST</th>\n",
       "      <th>PX_LOW</th>\n",
       "    </tr>\n",
       "    <tr>\n",
       "      <th>Security</th>\n",
       "      <th>date</th>\n",
       "      <th></th>\n",
       "      <th></th>\n",
       "      <th></th>\n",
       "    </tr>\n",
       "  </thead>\n",
       "  <tbody>\n",
       "    <tr>\n",
       "      <th rowspan=\"5\" valign=\"top\">9984 JT Equity</th>\n",
       "      <th>2019-03-22</th>\n",
       "      <td>11355.0</td>\n",
       "      <td>11270.0</td>\n",
       "      <td>11015.0</td>\n",
       "    </tr>\n",
       "    <tr>\n",
       "      <th>2019-03-25</th>\n",
       "      <td>11025.0</td>\n",
       "      <td>10705.0</td>\n",
       "      <td>10605.0</td>\n",
       "    </tr>\n",
       "    <tr>\n",
       "      <th>2019-03-26</th>\n",
       "      <td>10760.0</td>\n",
       "      <td>10615.0</td>\n",
       "      <td>10570.0</td>\n",
       "    </tr>\n",
       "    <tr>\n",
       "      <th>2019-03-27</th>\n",
       "      <td>10675.0</td>\n",
       "      <td>10625.0</td>\n",
       "      <td>10530.0</td>\n",
       "    </tr>\n",
       "    <tr>\n",
       "      <th>2019-03-28</th>\n",
       "      <td>10615.0</td>\n",
       "      <td>10585.0</td>\n",
       "      <td>10270.0</td>\n",
       "    </tr>\n",
       "  </tbody>\n",
       "</table>\n",
       "</div>"
      ],
      "text/plain": [
       "Field                      PX_HIGH  PX_LAST   PX_LOW\n",
       "Security       date                                 \n",
       "9984 JT Equity 2019-03-22  11355.0  11270.0  11015.0\n",
       "               2019-03-25  11025.0  10705.0  10605.0\n",
       "               2019-03-26  10760.0  10615.0  10570.0\n",
       "               2019-03-27  10675.0  10625.0  10530.0\n",
       "               2019-03-28  10615.0  10585.0  10270.0"
      ]
     },
     "execution_count": 64,
     "metadata": {},
     "output_type": "execute_result"
    }
   ],
   "source": [
    "nikkei.tail()"
   ]
  },
  {
   "cell_type": "code",
   "execution_count": 40,
   "metadata": {},
   "outputs": [
    {
     "data": {
      "text/html": [
       "<div>\n",
       "<table border=\"1\" class=\"dataframe\">\n",
       "  <thead>\n",
       "    <tr style=\"text-align: right;\">\n",
       "      <th></th>\n",
       "      <th>Field</th>\n",
       "      <th>PX_HIGH</th>\n",
       "      <th>PX_LAST</th>\n",
       "      <th>PX_LOW</th>\n",
       "    </tr>\n",
       "    <tr>\n",
       "      <th>Security</th>\n",
       "      <th>date</th>\n",
       "      <th></th>\n",
       "      <th></th>\n",
       "      <th></th>\n",
       "    </tr>\n",
       "  </thead>\n",
       "  <tbody>\n",
       "    <tr>\n",
       "      <th rowspan=\"5\" valign=\"top\">1332 JT Equity</th>\n",
       "      <th>2019-03-22</th>\n",
       "      <td>806.0</td>\n",
       "      <td>805.0</td>\n",
       "      <td>797.0</td>\n",
       "    </tr>\n",
       "    <tr>\n",
       "      <th>2019-03-25</th>\n",
       "      <td>802.0</td>\n",
       "      <td>797.0</td>\n",
       "      <td>792.0</td>\n",
       "    </tr>\n",
       "    <tr>\n",
       "      <th>2019-03-26</th>\n",
       "      <td>819.0</td>\n",
       "      <td>817.0</td>\n",
       "      <td>798.0</td>\n",
       "    </tr>\n",
       "    <tr>\n",
       "      <th>2019-03-27</th>\n",
       "      <td>824.0</td>\n",
       "      <td>821.0</td>\n",
       "      <td>806.0</td>\n",
       "    </tr>\n",
       "    <tr>\n",
       "      <th>2019-03-28</th>\n",
       "      <td>854.0</td>\n",
       "      <td>854.0</td>\n",
       "      <td>831.0</td>\n",
       "    </tr>\n",
       "    <tr>\n",
       "      <th rowspan=\"5\" valign=\"top\">1333 JT Equity</th>\n",
       "      <th>2019-03-22</th>\n",
       "      <td>4085.0</td>\n",
       "      <td>4050.0</td>\n",
       "      <td>4015.0</td>\n",
       "    </tr>\n",
       "    <tr>\n",
       "      <th>2019-03-25</th>\n",
       "      <td>4025.0</td>\n",
       "      <td>4005.0</td>\n",
       "      <td>3975.0</td>\n",
       "    </tr>\n",
       "    <tr>\n",
       "      <th>2019-03-26</th>\n",
       "      <td>4075.0</td>\n",
       "      <td>4075.0</td>\n",
       "      <td>4020.0</td>\n",
       "    </tr>\n",
       "    <tr>\n",
       "      <th>2019-03-27</th>\n",
       "      <td>4040.0</td>\n",
       "      <td>4005.0</td>\n",
       "      <td>3975.0</td>\n",
       "    </tr>\n",
       "    <tr>\n",
       "      <th>2019-03-28</th>\n",
       "      <td>4005.0</td>\n",
       "      <td>3960.0</td>\n",
       "      <td>3930.0</td>\n",
       "    </tr>\n",
       "    <tr>\n",
       "      <th rowspan=\"5\" valign=\"top\">1605 JT Equity</th>\n",
       "      <th>2019-03-22</th>\n",
       "      <td>1092.0</td>\n",
       "      <td>1076.0</td>\n",
       "      <td>1064.0</td>\n",
       "    </tr>\n",
       "    <tr>\n",
       "      <th>2019-03-25</th>\n",
       "      <td>1048.5</td>\n",
       "      <td>1035.5</td>\n",
       "      <td>1027.5</td>\n",
       "    </tr>\n",
       "    <tr>\n",
       "      <th>2019-03-26</th>\n",
       "      <td>1068.5</td>\n",
       "      <td>1051.0</td>\n",
       "      <td>1039.5</td>\n",
       "    </tr>\n",
       "    <tr>\n",
       "      <th>2019-03-27</th>\n",
       "      <td>1070.0</td>\n",
       "      <td>1055.0</td>\n",
       "      <td>1041.0</td>\n",
       "    </tr>\n",
       "    <tr>\n",
       "      <th>2019-03-28</th>\n",
       "      <td>1062.0</td>\n",
       "      <td>1047.5</td>\n",
       "      <td>1042.5</td>\n",
       "    </tr>\n",
       "    <tr>\n",
       "      <th rowspan=\"5\" valign=\"top\">1721 JT Equity</th>\n",
       "      <th>2019-03-22</th>\n",
       "      <td>2987.0</td>\n",
       "      <td>2955.0</td>\n",
       "      <td>2936.0</td>\n",
       "    </tr>\n",
       "    <tr>\n",
       "      <th>2019-03-25</th>\n",
       "      <td>2935.0</td>\n",
       "      <td>2882.0</td>\n",
       "      <td>2869.0</td>\n",
       "    </tr>\n",
       "    <tr>\n",
       "      <th>2019-03-26</th>\n",
       "      <td>2969.0</td>\n",
       "      <td>2966.0</td>\n",
       "      <td>2895.0</td>\n",
       "    </tr>\n",
       "    <tr>\n",
       "      <th>2019-03-27</th>\n",
       "      <td>2998.0</td>\n",
       "      <td>2990.0</td>\n",
       "      <td>2959.0</td>\n",
       "    </tr>\n",
       "    <tr>\n",
       "      <th>2019-03-28</th>\n",
       "      <td>2989.0</td>\n",
       "      <td>2945.0</td>\n",
       "      <td>2933.0</td>\n",
       "    </tr>\n",
       "  </tbody>\n",
       "</table>\n",
       "</div>"
      ],
      "text/plain": [
       "Field                      PX_HIGH  PX_LAST  PX_LOW\n",
       "Security       date                                \n",
       "1332 JT Equity 2019-03-22    806.0    805.0   797.0\n",
       "               2019-03-25    802.0    797.0   792.0\n",
       "               2019-03-26    819.0    817.0   798.0\n",
       "               2019-03-27    824.0    821.0   806.0\n",
       "               2019-03-28    854.0    854.0   831.0\n",
       "1333 JT Equity 2019-03-22   4085.0   4050.0  4015.0\n",
       "               2019-03-25   4025.0   4005.0  3975.0\n",
       "               2019-03-26   4075.0   4075.0  4020.0\n",
       "               2019-03-27   4040.0   4005.0  3975.0\n",
       "               2019-03-28   4005.0   3960.0  3930.0\n",
       "1605 JT Equity 2019-03-22   1092.0   1076.0  1064.0\n",
       "               2019-03-25   1048.5   1035.5  1027.5\n",
       "               2019-03-26   1068.5   1051.0  1039.5\n",
       "               2019-03-27   1070.0   1055.0  1041.0\n",
       "               2019-03-28   1062.0   1047.5  1042.5\n",
       "1721 JT Equity 2019-03-22   2987.0   2955.0  2936.0\n",
       "               2019-03-25   2935.0   2882.0  2869.0\n",
       "               2019-03-26   2969.0   2966.0  2895.0\n",
       "               2019-03-27   2998.0   2990.0  2959.0\n",
       "               2019-03-28   2989.0   2945.0  2933.0"
      ]
     },
     "execution_count": 40,
     "metadata": {},
     "output_type": "execute_result"
    }
   ],
   "source": [
    "nikkei.head(20)"
   ]
  },
  {
   "cell_type": "code",
   "execution_count": 54,
   "metadata": {
    "collapsed": true
   },
   "outputs": [],
   "source": [
    "import pandas as pd"
   ]
  },
  {
   "cell_type": "code",
   "execution_count": 55,
   "metadata": {
    "scrolled": false
   },
   "outputs": [
    {
     "data": {
      "text/html": [
       "<div>\n",
       "<table border=\"1\" class=\"dataframe\">\n",
       "  <thead>\n",
       "    <tr style=\"text-align: right;\">\n",
       "      <th></th>\n",
       "      <th>BBGID</th>\n",
       "      <th>UUID</th>\n",
       "    </tr>\n",
       "  </thead>\n",
       "  <tbody>\n",
       "    <tr>\n",
       "      <th>258455</th>\n",
       "      <td>BBG00MMDYYV2</td>\n",
       "      <td>44720.0</td>\n",
       "    </tr>\n",
       "    <tr>\n",
       "      <th>258456</th>\n",
       "      <td>BBG00MMDYYT5</td>\n",
       "      <td>19712564.0</td>\n",
       "    </tr>\n",
       "    <tr>\n",
       "      <th>258457</th>\n",
       "      <td>BBG00MMDYYS6</td>\n",
       "      <td>8529648.0</td>\n",
       "    </tr>\n",
       "    <tr>\n",
       "      <th>258458</th>\n",
       "      <td>NaN</td>\n",
       "      <td>NaN</td>\n",
       "    </tr>\n",
       "    <tr>\n",
       "      <th>258459</th>\n",
       "      <td>NaN</td>\n",
       "      <td>NaN</td>\n",
       "    </tr>\n",
       "  </tbody>\n",
       "</table>\n",
       "</div>"
      ],
      "text/plain": [
       "               BBGID        UUID\n",
       "258455  BBG00MMDYYV2     44720.0\n",
       "258456  BBG00MMDYYT5  19712564.0\n",
       "258457  BBG00MMDYYS6   8529648.0\n",
       "258458           NaN         NaN\n",
       "258459           NaN         NaN"
      ]
     },
     "execution_count": 55,
     "metadata": {},
     "output_type": "execute_result"
    }
   ],
   "source": [
    "bbgid_df = pd.read_csv(\"data_files/class_10.xls\", sep=\"\\t\",\n",
    "                       index_col=False, usecols=[\"BBGID\", \"UUID\"], comment=\"*\")\n",
    "bbgid_df.tail()"
   ]
  },
  {
   "cell_type": "code",
   "execution_count": 56,
   "metadata": {},
   "outputs": [
    {
     "data": {
      "text/html": [
       "<div>\n",
       "<table border=\"1\" class=\"dataframe\">\n",
       "  <thead>\n",
       "    <tr style=\"text-align: right;\">\n",
       "      <th></th>\n",
       "      <th>BBGID</th>\n",
       "      <th>UUID</th>\n",
       "    </tr>\n",
       "  </thead>\n",
       "  <tbody>\n",
       "    <tr>\n",
       "      <th>258453</th>\n",
       "      <td>BBG00MMDYYX0</td>\n",
       "      <td>44720.0</td>\n",
       "    </tr>\n",
       "    <tr>\n",
       "      <th>258454</th>\n",
       "      <td>BBG00MMDYYW1</td>\n",
       "      <td>44720.0</td>\n",
       "    </tr>\n",
       "    <tr>\n",
       "      <th>258455</th>\n",
       "      <td>BBG00MMDYYV2</td>\n",
       "      <td>44720.0</td>\n",
       "    </tr>\n",
       "    <tr>\n",
       "      <th>258456</th>\n",
       "      <td>BBG00MMDYYT5</td>\n",
       "      <td>19712564.0</td>\n",
       "    </tr>\n",
       "    <tr>\n",
       "      <th>258457</th>\n",
       "      <td>BBG00MMDYYS6</td>\n",
       "      <td>8529648.0</td>\n",
       "    </tr>\n",
       "  </tbody>\n",
       "</table>\n",
       "</div>"
      ],
      "text/plain": [
       "               BBGID        UUID\n",
       "258453  BBG00MMDYYX0     44720.0\n",
       "258454  BBG00MMDYYW1     44720.0\n",
       "258455  BBG00MMDYYV2     44720.0\n",
       "258456  BBG00MMDYYT5  19712564.0\n",
       "258457  BBG00MMDYYS6   8529648.0"
      ]
     },
     "execution_count": 56,
     "metadata": {},
     "output_type": "execute_result"
    }
   ],
   "source": [
    "bbgid_df.dropna().tail()"
   ]
  },
  {
   "cell_type": "code",
   "execution_count": 57,
   "metadata": {},
   "outputs": [
    {
     "data": {
      "text/html": [
       "<div>\n",
       "<table border=\"1\" class=\"dataframe\">\n",
       "  <thead>\n",
       "    <tr style=\"text-align: right;\">\n",
       "      <th></th>\n",
       "      <th>BBGID</th>\n",
       "      <th>UUID</th>\n",
       "    </tr>\n",
       "  </thead>\n",
       "  <tbody>\n",
       "    <tr>\n",
       "      <th>258455</th>\n",
       "      <td>BBG00MMDYYV2</td>\n",
       "      <td>44720.0</td>\n",
       "    </tr>\n",
       "    <tr>\n",
       "      <th>258456</th>\n",
       "      <td>BBG00MMDYYT5</td>\n",
       "      <td>19712564.0</td>\n",
       "    </tr>\n",
       "    <tr>\n",
       "      <th>258457</th>\n",
       "      <td>BBG00MMDYYS6</td>\n",
       "      <td>8529648.0</td>\n",
       "    </tr>\n",
       "    <tr>\n",
       "      <th>258458</th>\n",
       "      <td>NaN</td>\n",
       "      <td>NaN</td>\n",
       "    </tr>\n",
       "    <tr>\n",
       "      <th>258459</th>\n",
       "      <td>NaN</td>\n",
       "      <td>NaN</td>\n",
       "    </tr>\n",
       "  </tbody>\n",
       "</table>\n",
       "</div>"
      ],
      "text/plain": [
       "               BBGID        UUID\n",
       "258455  BBG00MMDYYV2     44720.0\n",
       "258456  BBG00MMDYYT5  19712564.0\n",
       "258457  BBG00MMDYYS6   8529648.0\n",
       "258458           NaN         NaN\n",
       "258459           NaN         NaN"
      ]
     },
     "execution_count": 57,
     "metadata": {},
     "output_type": "execute_result"
    }
   ],
   "source": [
    "bbgid_df.tail()"
   ]
  },
  {
   "cell_type": "code",
   "execution_count": 58,
   "metadata": {},
   "outputs": [
    {
     "name": "stdout",
     "output_type": "stream",
     "text": [
      "Before dropping NA: 258460\n",
      "After dropping NA: 258194\n"
     ]
    },
    {
     "data": {
      "text/html": [
       "<div>\n",
       "<table border=\"1\" class=\"dataframe\">\n",
       "  <thead>\n",
       "    <tr style=\"text-align: right;\">\n",
       "      <th></th>\n",
       "      <th>BBGID</th>\n",
       "      <th>UUID</th>\n",
       "    </tr>\n",
       "  </thead>\n",
       "  <tbody>\n",
       "    <tr>\n",
       "      <th>258453</th>\n",
       "      <td>BBG00MMDYYX0</td>\n",
       "      <td>44720.0</td>\n",
       "    </tr>\n",
       "    <tr>\n",
       "      <th>258454</th>\n",
       "      <td>BBG00MMDYYW1</td>\n",
       "      <td>44720.0</td>\n",
       "    </tr>\n",
       "    <tr>\n",
       "      <th>258455</th>\n",
       "      <td>BBG00MMDYYV2</td>\n",
       "      <td>44720.0</td>\n",
       "    </tr>\n",
       "    <tr>\n",
       "      <th>258456</th>\n",
       "      <td>BBG00MMDYYT5</td>\n",
       "      <td>19712564.0</td>\n",
       "    </tr>\n",
       "    <tr>\n",
       "      <th>258457</th>\n",
       "      <td>BBG00MMDYYS6</td>\n",
       "      <td>8529648.0</td>\n",
       "    </tr>\n",
       "  </tbody>\n",
       "</table>\n",
       "</div>"
      ],
      "text/plain": [
       "               BBGID        UUID\n",
       "258453  BBG00MMDYYX0     44720.0\n",
       "258454  BBG00MMDYYW1     44720.0\n",
       "258455  BBG00MMDYYV2     44720.0\n",
       "258456  BBG00MMDYYT5  19712564.0\n",
       "258457  BBG00MMDYYS6   8529648.0"
      ]
     },
     "execution_count": 58,
     "metadata": {},
     "output_type": "execute_result"
    }
   ],
   "source": [
    "print(\"Before dropping NA:\", len(bbgid_df))\n",
    "\n",
    "bbgid_df.dropna(inplace=True)\n",
    "\n",
    "print(\"After dropping NA:\", len(bbgid_df))\n",
    "\n",
    "bbgid_df.tail()"
   ]
  },
  {
   "cell_type": "code",
   "execution_count": 59,
   "metadata": {},
   "outputs": [
    {
     "name": "stdout",
     "output_type": "stream",
     "text": [
      "Before filtering unique values: 258194\n",
      "After filtering unique values: 258194\n"
     ]
    }
   ],
   "source": [
    "print(\"Before filtering unique values:\", len(bbgid_df))\n",
    "\n",
    "bbgid_df.BBGID.drop_duplicates(inplace=True)\n",
    "\n",
    "print(\"After filtering unique values:\", len(bbgid_df))"
   ]
  },
  {
   "cell_type": "code",
   "execution_count": 60,
   "metadata": {},
   "outputs": [
    {
     "data": {
      "text/plain": [
       "['BBG00MMP0322 BBGID',\n",
       " 'BBG00MMP0313 BBGID',\n",
       " 'BBG00MMP0304 BBGID',\n",
       " 'BBG00MMP02Z8 BBGID',\n",
       " 'BBG00MMP02Y9 BBGID',\n",
       " 'BBG00MMP02X0 BBGID',\n",
       " 'BBG00MMP02W1 BBGID',\n",
       " 'BBG00MMP02V2 BBGID',\n",
       " 'BBG00MMP02T5 BBGID',\n",
       " 'BBG00MMP02S6 BBGID']"
      ]
     },
     "execution_count": 60,
     "metadata": {},
     "output_type": "execute_result"
    }
   ],
   "source": [
    "fields_to_query = [i + \" BBGID\" for i in bbgid_df.BBGID[:1000]]\n",
    "fields_to_query[:10]"
   ]
  },
  {
   "cell_type": "code",
   "execution_count": 61,
   "metadata": {},
   "outputs": [],
   "source": [
    "queried_df = pyrefdata.get_data(\n",
    "    session, fields_to_query,\n",
    "    [\"ID_BB_SECURITY\", \"CNTRY_OF_DOMICILE\", \"STATE_OF_DOMICILE\"],\n",
    "     ignore_errors=True\n",
    ")"
   ]
  },
  {
   "cell_type": "code",
   "execution_count": 62,
   "metadata": {},
   "outputs": [
    {
     "data": {
      "text/html": [
       "<div>\n",
       "<table border=\"1\" class=\"dataframe\">\n",
       "  <thead>\n",
       "    <tr style=\"text-align: right;\">\n",
       "      <th>Field</th>\n",
       "      <th>CNTRY_OF_DOMICILE</th>\n",
       "      <th>ID_BB_SECURITY</th>\n",
       "      <th>STATE_OF_DOMICILE</th>\n",
       "    </tr>\n",
       "    <tr>\n",
       "      <th>Security</th>\n",
       "      <th></th>\n",
       "      <th></th>\n",
       "      <th></th>\n",
       "    </tr>\n",
       "  </thead>\n",
       "  <tbody>\n",
       "    <tr>\n",
       "      <th>BBG00MMNYWK6 BBGID</th>\n",
       "      <td>DE</td>\n",
       "      <td>NaN</td>\n",
       "      <td>NaN</td>\n",
       "    </tr>\n",
       "    <tr>\n",
       "      <th>BBG00MMNYWL5 BBGID</th>\n",
       "      <td>DE</td>\n",
       "      <td>NaN</td>\n",
       "      <td>NaN</td>\n",
       "    </tr>\n",
       "    <tr>\n",
       "      <th>BBG00MMNYWM4 BBGID</th>\n",
       "      <td>DE</td>\n",
       "      <td>NaN</td>\n",
       "      <td>NaN</td>\n",
       "    </tr>\n",
       "    <tr>\n",
       "      <th>BBG00MMNYWN3 BBGID</th>\n",
       "      <td>DE</td>\n",
       "      <td>NaN</td>\n",
       "      <td>NaN</td>\n",
       "    </tr>\n",
       "    <tr>\n",
       "      <th>BBG00MMNYWP1 BBGID</th>\n",
       "      <td>DE</td>\n",
       "      <td>NaN</td>\n",
       "      <td>NaN</td>\n",
       "    </tr>\n",
       "    <tr>\n",
       "      <th>BBG00MMNYWQ0 BBGID</th>\n",
       "      <td>DE</td>\n",
       "      <td>NaN</td>\n",
       "      <td>NaN</td>\n",
       "    </tr>\n",
       "    <tr>\n",
       "      <th>BBG00MMNYWR9 BBGID</th>\n",
       "      <td>DE</td>\n",
       "      <td>NaN</td>\n",
       "      <td>NaN</td>\n",
       "    </tr>\n",
       "    <tr>\n",
       "      <th>BBG00MMNYWS8 BBGID</th>\n",
       "      <td>DE</td>\n",
       "      <td>NaN</td>\n",
       "      <td>NaN</td>\n",
       "    </tr>\n",
       "    <tr>\n",
       "      <th>BBG00MMNYWT7 BBGID</th>\n",
       "      <td>DE</td>\n",
       "      <td>NaN</td>\n",
       "      <td>CA</td>\n",
       "    </tr>\n",
       "    <tr>\n",
       "      <th>BBG00MMNYWV4 BBGID</th>\n",
       "      <td>DE</td>\n",
       "      <td>NaN</td>\n",
       "      <td>NaN</td>\n",
       "    </tr>\n",
       "  </tbody>\n",
       "</table>\n",
       "</div>"
      ],
      "text/plain": [
       "Field              CNTRY_OF_DOMICILE  ID_BB_SECURITY STATE_OF_DOMICILE\n",
       "Security                                                              \n",
       "BBG00MMNYWK6 BBGID                DE             NaN               NaN\n",
       "BBG00MMNYWL5 BBGID                DE             NaN               NaN\n",
       "BBG00MMNYWM4 BBGID                DE             NaN               NaN\n",
       "BBG00MMNYWN3 BBGID                DE             NaN               NaN\n",
       "BBG00MMNYWP1 BBGID                DE             NaN               NaN\n",
       "BBG00MMNYWQ0 BBGID                DE             NaN               NaN\n",
       "BBG00MMNYWR9 BBGID                DE             NaN               NaN\n",
       "BBG00MMNYWS8 BBGID                DE             NaN               NaN\n",
       "BBG00MMNYWT7 BBGID                DE             NaN                CA\n",
       "BBG00MMNYWV4 BBGID                DE             NaN               NaN"
      ]
     },
     "execution_count": 62,
     "metadata": {},
     "output_type": "execute_result"
    }
   ],
   "source": [
    "queried_df.head(10)"
   ]
  },
  {
   "cell_type": "code",
   "execution_count": 63,
   "metadata": {},
   "outputs": [
    {
     "data": {
      "text/html": [
       "<div>\n",
       "<table border=\"1\" class=\"dataframe\">\n",
       "  <thead>\n",
       "    <tr style=\"text-align: right;\">\n",
       "      <th>Field</th>\n",
       "      <th>CNTRY_OF_DOMICILE</th>\n",
       "      <th>ID_BB_SECURITY</th>\n",
       "      <th>STATE_OF_DOMICILE</th>\n",
       "    </tr>\n",
       "    <tr>\n",
       "      <th>Security</th>\n",
       "      <th></th>\n",
       "      <th></th>\n",
       "      <th></th>\n",
       "    </tr>\n",
       "  </thead>\n",
       "  <tbody>\n",
       "    <tr>\n",
       "      <th>BBG00MMNYWK6 BBGID</th>\n",
       "      <td>DE</td>\n",
       "      <td>NaN</td>\n",
       "      <td>NaN</td>\n",
       "    </tr>\n",
       "    <tr>\n",
       "      <th>BBG00MMNYWL5 BBGID</th>\n",
       "      <td>DE</td>\n",
       "      <td>NaN</td>\n",
       "      <td>NaN</td>\n",
       "    </tr>\n",
       "    <tr>\n",
       "      <th>BBG00MMNYWM4 BBGID</th>\n",
       "      <td>DE</td>\n",
       "      <td>NaN</td>\n",
       "      <td>NaN</td>\n",
       "    </tr>\n",
       "    <tr>\n",
       "      <th>BBG00MMNYWN3 BBGID</th>\n",
       "      <td>DE</td>\n",
       "      <td>NaN</td>\n",
       "      <td>NaN</td>\n",
       "    </tr>\n",
       "    <tr>\n",
       "      <th>BBG00MMNYWP1 BBGID</th>\n",
       "      <td>DE</td>\n",
       "      <td>NaN</td>\n",
       "      <td>NaN</td>\n",
       "    </tr>\n",
       "    <tr>\n",
       "      <th>BBG00MMNYWQ0 BBGID</th>\n",
       "      <td>DE</td>\n",
       "      <td>NaN</td>\n",
       "      <td>NaN</td>\n",
       "    </tr>\n",
       "    <tr>\n",
       "      <th>BBG00MMNYWR9 BBGID</th>\n",
       "      <td>DE</td>\n",
       "      <td>NaN</td>\n",
       "      <td>NaN</td>\n",
       "    </tr>\n",
       "    <tr>\n",
       "      <th>BBG00MMNYWS8 BBGID</th>\n",
       "      <td>DE</td>\n",
       "      <td>NaN</td>\n",
       "      <td>NaN</td>\n",
       "    </tr>\n",
       "    <tr>\n",
       "      <th>BBG00MMNYWT7 BBGID</th>\n",
       "      <td>DE</td>\n",
       "      <td>NaN</td>\n",
       "      <td>CA</td>\n",
       "    </tr>\n",
       "    <tr>\n",
       "      <th>BBG00MMNYWV4 BBGID</th>\n",
       "      <td>DE</td>\n",
       "      <td>NaN</td>\n",
       "      <td>NaN</td>\n",
       "    </tr>\n",
       "  </tbody>\n",
       "</table>\n",
       "</div>"
      ],
      "text/plain": [
       "Field              CNTRY_OF_DOMICILE  ID_BB_SECURITY STATE_OF_DOMICILE\n",
       "Security                                                              \n",
       "BBG00MMNYWK6 BBGID                DE             NaN               NaN\n",
       "BBG00MMNYWL5 BBGID                DE             NaN               NaN\n",
       "BBG00MMNYWM4 BBGID                DE             NaN               NaN\n",
       "BBG00MMNYWN3 BBGID                DE             NaN               NaN\n",
       "BBG00MMNYWP1 BBGID                DE             NaN               NaN\n",
       "BBG00MMNYWQ0 BBGID                DE             NaN               NaN\n",
       "BBG00MMNYWR9 BBGID                DE             NaN               NaN\n",
       "BBG00MMNYWS8 BBGID                DE             NaN               NaN\n",
       "BBG00MMNYWT7 BBGID                DE             NaN                CA\n",
       "BBG00MMNYWV4 BBGID                DE             NaN               NaN"
      ]
     },
     "execution_count": 63,
     "metadata": {},
     "output_type": "execute_result"
    }
   ],
   "source": [
    "queried_df.dropna(how=\"all\", inplace=True)\n",
    "queried_df.head(10)"
   ]
  },
  {
   "cell_type": "code",
   "execution_count": 64,
   "metadata": {},
   "outputs": [
    {
     "data": {
      "text/plain": [
       "3"
      ]
     },
     "execution_count": 64,
     "metadata": {},
     "output_type": "execute_result"
    }
   ],
   "source": [
    "a = [1, 2, 3]\n",
    "a[2]"
   ]
  },
  {
   "cell_type": "code",
   "execution_count": 65,
   "metadata": {},
   "outputs": [
    {
     "data": {
      "text/plain": [
       "2"
      ]
     },
     "execution_count": 65,
     "metadata": {},
     "output_type": "execute_result"
    }
   ],
   "source": [
    "b = dict(a=1, b=2)\n",
    "b['b']"
   ]
  },
  {
   "cell_type": "code",
   "execution_count": 66,
   "metadata": {},
   "outputs": [
    {
     "data": {
      "text/html": [
       "<div>\n",
       "<table border=\"1\" class=\"dataframe\">\n",
       "  <thead>\n",
       "    <tr style=\"text-align: right;\">\n",
       "      <th>Field</th>\n",
       "      <th>CNTRY_OF_DOMICILE</th>\n",
       "      <th>ID_BB_SECURITY</th>\n",
       "      <th>STATE_OF_DOMICILE</th>\n",
       "    </tr>\n",
       "    <tr>\n",
       "      <th>Security</th>\n",
       "      <th></th>\n",
       "      <th></th>\n",
       "      <th></th>\n",
       "    </tr>\n",
       "  </thead>\n",
       "  <tbody>\n",
       "    <tr>\n",
       "      <th>BBG00MMNZNJ7 BBGID</th>\n",
       "      <td>JP</td>\n",
       "      <td>NaN</td>\n",
       "      <td>NaN</td>\n",
       "    </tr>\n",
       "    <tr>\n",
       "      <th>BBG00MMNZNK5 BBGID</th>\n",
       "      <td>JP</td>\n",
       "      <td>NaN</td>\n",
       "      <td>ON</td>\n",
       "    </tr>\n",
       "  </tbody>\n",
       "</table>\n",
       "</div>"
      ],
      "text/plain": [
       "Field              CNTRY_OF_DOMICILE  ID_BB_SECURITY STATE_OF_DOMICILE\n",
       "Security                                                              \n",
       "BBG00MMNZNJ7 BBGID                JP             NaN               NaN\n",
       "BBG00MMNZNK5 BBGID                JP             NaN                ON"
      ]
     },
     "execution_count": 66,
     "metadata": {},
     "output_type": "execute_result"
    }
   ],
   "source": [
    "queried_df[queried_df.CNTRY_OF_DOMICILE == \"JP\"]"
   ]
  },
  {
   "cell_type": "code",
   "execution_count": 43,
   "metadata": {},
   "outputs": [
    {
     "data": {
      "text/html": [
       "<div>\n",
       "<table border=\"1\" class=\"dataframe\">\n",
       "  <thead>\n",
       "    <tr style=\"text-align: right;\">\n",
       "      <th></th>\n",
       "      <th>Field</th>\n",
       "      <th>PX_HIGH</th>\n",
       "      <th>PX_LAST</th>\n",
       "      <th>PX_LOW</th>\n",
       "    </tr>\n",
       "    <tr>\n",
       "      <th>Security</th>\n",
       "      <th>date</th>\n",
       "      <th></th>\n",
       "      <th></th>\n",
       "      <th></th>\n",
       "    </tr>\n",
       "  </thead>\n",
       "  <tbody>\n",
       "    <tr>\n",
       "      <th rowspan=\"5\" valign=\"top\">1332 JT Equity</th>\n",
       "      <th>2019-03-22</th>\n",
       "      <td>806.0</td>\n",
       "      <td>805.0</td>\n",
       "      <td>797.0</td>\n",
       "    </tr>\n",
       "    <tr>\n",
       "      <th>2019-03-25</th>\n",
       "      <td>802.0</td>\n",
       "      <td>797.0</td>\n",
       "      <td>792.0</td>\n",
       "    </tr>\n",
       "    <tr>\n",
       "      <th>2019-03-26</th>\n",
       "      <td>819.0</td>\n",
       "      <td>817.0</td>\n",
       "      <td>798.0</td>\n",
       "    </tr>\n",
       "    <tr>\n",
       "      <th>2019-03-27</th>\n",
       "      <td>824.0</td>\n",
       "      <td>821.0</td>\n",
       "      <td>806.0</td>\n",
       "    </tr>\n",
       "    <tr>\n",
       "      <th>2019-03-28</th>\n",
       "      <td>854.0</td>\n",
       "      <td>854.0</td>\n",
       "      <td>831.0</td>\n",
       "    </tr>\n",
       "  </tbody>\n",
       "</table>\n",
       "</div>"
      ],
      "text/plain": [
       "Field                      PX_HIGH  PX_LAST  PX_LOW\n",
       "Security       date                                \n",
       "1332 JT Equity 2019-03-22    806.0    805.0   797.0\n",
       "               2019-03-25    802.0    797.0   792.0\n",
       "               2019-03-26    819.0    817.0   798.0\n",
       "               2019-03-27    824.0    821.0   806.0\n",
       "               2019-03-28    854.0    854.0   831.0"
      ]
     },
     "execution_count": 43,
     "metadata": {},
     "output_type": "execute_result"
    }
   ],
   "source": [
    "nikkei.head()"
   ]
  },
  {
   "cell_type": "code",
   "execution_count": 76,
   "metadata": {},
   "outputs": [
    {
     "data": {
      "text/plain": [
       "MultiIndex(levels=[['1332 JT Equity', '1333 JT Equity', '1605 JT Equity', '1721 JT Equity', '1801 JT Equity', '1802 JT Equity', '1803 JT Equity', '1808 JT Equity', '1812 JT Equity', '1925 JT Equity', '1928 JT Equity', '1963 JT Equity', '2002 JT Equity', '2269 JT Equity', '2282 JT Equity', '2432 JT Equity', '2501 JT Equity', '2502 JT Equity', '2503 JT Equity', '2531 JT Equity', '2768 JT Equity', '2801 JT Equity', '2802 JT Equity', '2871 JT Equity', '2914 JT Equity', '3086 JT Equity', '3099 JT Equity', '3101 JT Equity', '3103 JT Equity', '3105 JT Equity', '3289 JT Equity', '3382 JT Equity', '3401 JT Equity', '3402 JT Equity', '3405 JT Equity', '3407 JT Equity', '3436 JT Equity', '3861 JT Equity', '3863 JT Equity', '4004 JT Equity', '4005 JT Equity', '4021 JT Equity', '4042 JT Equity', '4043 JT Equity', '4061 JT Equity', '4063 JT Equity', '4151 JT Equity', '4183 JT Equity', '4188 JT Equity', '4208 JT Equity', '4272 JT Equity', '4324 JT Equity', '4452 JT Equity', '4502 JT Equity', '4503 JT Equity', '4506 JT Equity', '4507 JT Equity', '4519 JT Equity', '4523 JT Equity', '4543 JT Equity', '4568 JT Equity', '4578 JT Equity', '4631 JT Equity', '4689 JT Equity', '4704 JT Equity', '4751 JT Equity', '4755 JT Equity', '4901 JT Equity', '4902 JT Equity', '4911 JT Equity', '5019 JT Equity', '5020 JT Equity', '5101 JT Equity', '5108 JT Equity', '5201 JT Equity', '5202 JT Equity', '5214 JT Equity', '5232 JT Equity', '5233 JT Equity', '5301 JT Equity', '5332 JT Equity', '5333 JT Equity', '5401 JT Equity', '5406 JT Equity', '5411 JT Equity', '5541 JT Equity', '5631 JT Equity', '5703 JT Equity', '5706 JT Equity', '5707 JT Equity', '5711 JT Equity', '5713 JT Equity', '5714 JT Equity', '5801 JT Equity', '5802 JT Equity', '5803 JT Equity', '5901 JT Equity', '6098 JT Equity', '6103 JT Equity', '6113 JT Equity', '6178 JT Equity', '6301 JT Equity', '6302 JT Equity', '6305 JT Equity', '6326 JT Equity', '6361 JT Equity', '6366 JT Equity', '6367 JT Equity', '6471 JT Equity', '6472 JT Equity', '6473 JT Equity', '6479 JT Equity', '6501 JT Equity', '6503 JT Equity', '6504 JT Equity', '6506 JT Equity', '6645 JT Equity', '6674 JT Equity', '6701 JT Equity', '6702 JT Equity', '6703 JT Equity', '6724 JT Equity', '6752 JT Equity', '6758 JT Equity', '6762 JT Equity', '6770 JT Equity', '6841 JT Equity', '6857 JT Equity', '6902 JT Equity', '6952 JT Equity', '6954 JT Equity', '6971 JT Equity', '6976 JT Equity', '6988 JT Equity', '7003 JT Equity', '7004 JT Equity', '7011 JT Equity', '7012 JT Equity', '7013 JT Equity', '7186 JT Equity', '7201 JT Equity', '7202 JT Equity', '7203 JT Equity', '7205 JT Equity', '7211 JT Equity', '7261 JT Equity', '7267 JT Equity', '7269 JT Equity', '7270 JT Equity', '7272 JT Equity', '7731 JT Equity', '7733 JT Equity', '7735 JT Equity', '7751 JT Equity', '7752 JT Equity', '7762 JT Equity', '7911 JT Equity', '7912 JT Equity', '7951 JT Equity', '8001 JT Equity', '8002 JT Equity', '8015 JT Equity', '8028 JT Equity', '8031 JT Equity', '8035 JT Equity', '8053 JT Equity', '8058 JT Equity', '8233 JT Equity', '8252 JT Equity', '8253 JT Equity', '8267 JT Equity', '8303 JT Equity', '8304 JT Equity', '8306 JT Equity', '8308 JT Equity', '8309 JT Equity', '8316 JT Equity', '8331 JT Equity', '8354 JT Equity', '8355 JT Equity', '8411 JT Equity', '8601 JT Equity', '8604 JT Equity', '8628 JT Equity', '8630 JT Equity', '8725 JT Equity', '8729 JT Equity', '8750 JT Equity', '8766 JT Equity', '8795 JT Equity', '8801 JT Equity', '8802 JT Equity', '8804 JT Equity', '8830 JT Equity', '9001 JT Equity', '9005 JT Equity', '9007 JT Equity', '9008 JT Equity', '9009 JT Equity', '9020 JT Equity', '9021 JT Equity', '9022 JT Equity', '9062 JT Equity', '9064 JT Equity', '9101 JT Equity', '9104 JT Equity', '9107 JT Equity', '9202 JT Equity', '9301 JT Equity', '9412 JT Equity', '9432 JT Equity', '9433 JT Equity', '9437 JT Equity', '9501 JT Equity', '9502 JT Equity', '9503 JT Equity', '9531 JT Equity', '9532 JT Equity', '9602 JT Equity', '9613 JT Equity', '9681 JT Equity', '9735 JT Equity', '9766 JT Equity', '9983 JT Equity', '9984 JT Equity'], [2019-03-22 00:00:00, 2019-03-25 00:00:00, 2019-03-26 00:00:00, 2019-03-27 00:00:00, 2019-03-28 00:00:00]],\n",
       "           labels=[[0], [0]],\n",
       "           names=['Security', 'date'])"
      ]
     },
     "execution_count": 76,
     "metadata": {},
     "output_type": "execute_result"
    }
   ],
   "source": [
    "nikkei.index[:1]"
   ]
  },
  {
   "cell_type": "code",
   "execution_count": 70,
   "metadata": {},
   "outputs": [
    {
     "data": {
      "text/plain": [
       "821.0"
      ]
     },
     "execution_count": 70,
     "metadata": {},
     "output_type": "execute_result"
    }
   ],
   "source": [
    "nikkei.loc[\"1332 JT Equity\",  \"PX_LAST\"][\"2019-03-27\"]"
   ]
  },
  {
   "cell_type": "code",
   "execution_count": 70,
   "metadata": {},
   "outputs": [
    {
     "data": {
      "text/html": [
       "<div>\n",
       "<table border=\"1\" class=\"dataframe\">\n",
       "  <thead>\n",
       "    <tr style=\"text-align: right;\">\n",
       "      <th></th>\n",
       "      <th>Field</th>\n",
       "      <th>PX_HIGH</th>\n",
       "      <th>PX_LAST</th>\n",
       "      <th>PX_LOW</th>\n",
       "    </tr>\n",
       "    <tr>\n",
       "      <th>Security</th>\n",
       "      <th>date</th>\n",
       "      <th></th>\n",
       "      <th></th>\n",
       "      <th></th>\n",
       "    </tr>\n",
       "  </thead>\n",
       "  <tbody>\n",
       "    <tr>\n",
       "      <th rowspan=\"5\" valign=\"top\">1332 JT Equity</th>\n",
       "      <th>2018-11-12</th>\n",
       "      <td>720.0</td>\n",
       "      <td>712.0</td>\n",
       "      <td>705.0</td>\n",
       "    </tr>\n",
       "    <tr>\n",
       "      <th>2018-11-13</th>\n",
       "      <td>712.0</td>\n",
       "      <td>700.0</td>\n",
       "      <td>692.0</td>\n",
       "    </tr>\n",
       "    <tr>\n",
       "      <th>2018-11-14</th>\n",
       "      <td>700.0</td>\n",
       "      <td>698.0</td>\n",
       "      <td>693.0</td>\n",
       "    </tr>\n",
       "    <tr>\n",
       "      <th>2018-11-15</th>\n",
       "      <td>704.0</td>\n",
       "      <td>701.0</td>\n",
       "      <td>687.0</td>\n",
       "    </tr>\n",
       "    <tr>\n",
       "      <th>2018-11-16</th>\n",
       "      <td>709.0</td>\n",
       "      <td>706.0</td>\n",
       "      <td>695.0</td>\n",
       "    </tr>\n",
       "  </tbody>\n",
       "</table>\n",
       "</div>"
      ],
      "text/plain": [
       "Field                      PX_HIGH  PX_LAST  PX_LOW\n",
       "Security       date                                \n",
       "1332 JT Equity 2018-11-12    720.0    712.0   705.0\n",
       "               2018-11-13    712.0    700.0   692.0\n",
       "               2018-11-14    700.0    698.0   693.0\n",
       "               2018-11-15    704.0    701.0   687.0\n",
       "               2018-11-16    709.0    706.0   695.0"
      ]
     },
     "execution_count": 70,
     "metadata": {},
     "output_type": "execute_result"
    }
   ],
   "source": [
    "nikkei.head()"
   ]
  },
  {
   "cell_type": "code",
   "execution_count": 49,
   "metadata": {},
   "outputs": [
    {
     "data": {
      "text/plain": [
       "806.0"
      ]
     },
     "execution_count": 49,
     "metadata": {},
     "output_type": "execute_result"
    }
   ],
   "source": [
    "nikkei.iloc[0, 0]"
   ]
  },
  {
   "cell_type": "markdown",
   "metadata": {},
   "source": [
    "___\n",
    "### Dashboard building"
   ]
  },
  {
   "cell_type": "code",
   "execution_count": 51,
   "metadata": {
    "collapsed": true
   },
   "outputs": [],
   "source": [
    "import bqwidgets\n",
    "import ipywidgets as widgets"
   ]
  },
  {
   "cell_type": "markdown",
   "metadata": {},
   "source": [
    "### Refer to BQNT Home --) Example Projects --) App Creation --) bqwidgets Reference for more info"
   ]
  },
  {
   "cell_type": "code",
   "execution_count": 77,
   "metadata": {},
   "outputs": [
    {
     "data": {
      "application/vnd.jupyter.widget-view+json": {
       "model_id": "502f9a86b1354836a7fc24cf2bff3340",
       "version_major": 2,
       "version_minor": 0
      },
      "text/plain": [
       "Button(button_style='success', description='Click me', icon='check', style=ButtonStyle())"
      ]
     },
     "metadata": {},
     "output_type": "display_data"
    }
   ],
   "source": [
    "btn = widgets.Button(\n",
    "    description='Click me',\n",
    "    disabled=False,\n",
    "    button_style='success', # 'success', 'info', 'warning', 'danger' or ''\n",
    "    icon='check'\n",
    ")\n",
    "btn"
   ]
  },
  {
   "cell_type": "code",
   "execution_count": 78,
   "metadata": {},
   "outputs": [
    {
     "data": {
      "application/vnd.jupyter.widget-view+json": {
       "model_id": "502f9a86b1354836a7fc24cf2bff3340",
       "version_major": 2,
       "version_minor": 0
      },
      "text/plain": [
       "Button(button_style='success', description='Click me', icon='check', style=ButtonStyle())"
      ]
     },
     "metadata": {},
     "output_type": "display_data"
    }
   ],
   "source": [
    "def do_this(a_btn):\n",
    "    print(\"YEAHHHHH\")\n",
    "    \n",
    "btn.on_click(do_this)\n",
    "btn"
   ]
  },
  {
   "cell_type": "code",
   "execution_count": 79,
   "metadata": {},
   "outputs": [
    {
     "data": {
      "text/plain": [
       "['__class__',\n",
       " '__del__',\n",
       " '__delattr__',\n",
       " '__dict__',\n",
       " '__dir__',\n",
       " '__doc__',\n",
       " '__eq__',\n",
       " '__format__',\n",
       " '__ge__',\n",
       " '__getattribute__',\n",
       " '__getstate__',\n",
       " '__gt__',\n",
       " '__hash__',\n",
       " '__init__',\n",
       " '__le__',\n",
       " '__lt__',\n",
       " '__module__',\n",
       " '__ne__',\n",
       " '__new__',\n",
       " '__reduce__',\n",
       " '__reduce_ex__',\n",
       " '__repr__',\n",
       " '__setattr__',\n",
       " '__setstate__',\n",
       " '__sizeof__',\n",
       " '__str__',\n",
       " '__subclasshook__',\n",
       " '__weakref__',\n",
       " '_add_notifiers',\n",
       " '_call_widget_constructed',\n",
       " '_comm_changed',\n",
       " '_compare',\n",
       " '_default_keys',\n",
       " '_display_callbacks',\n",
       " '_dom_classes',\n",
       " '_gen_repr_from_keys',\n",
       " '_get_embed_state',\n",
       " '_handle_button_msg',\n",
       " '_handle_custom_msg',\n",
       " '_handle_displayed',\n",
       " '_handle_msg',\n",
       " '_holding_sync',\n",
       " '_ipython_display_',\n",
       " '_is_numpy',\n",
       " '_lock_property',\n",
       " '_log_default',\n",
       " '_model_module',\n",
       " '_model_module_version',\n",
       " '_model_name',\n",
       " '_msg_callbacks',\n",
       " '_notify_trait',\n",
       " '_property_lock',\n",
       " '_register_validator',\n",
       " '_remove_notifiers',\n",
       " '_repr_keys',\n",
       " '_send',\n",
       " '_should_send_property',\n",
       " '_states_to_send',\n",
       " '_trait_default_generators',\n",
       " '_trait_from_json',\n",
       " '_trait_to_json',\n",
       " '_validate_icon',\n",
       " '_view_count',\n",
       " '_view_module',\n",
       " '_view_module_version',\n",
       " '_view_name',\n",
       " '_widget_construction_callback',\n",
       " 'add_class',\n",
       " 'add_traits',\n",
       " 'button_style',\n",
       " 'class_own_trait_events',\n",
       " 'class_own_traits',\n",
       " 'class_trait_names',\n",
       " 'class_traits',\n",
       " 'close',\n",
       " 'close_all',\n",
       " 'comm',\n",
       " 'cross_validation_lock',\n",
       " 'description',\n",
       " 'disabled',\n",
       " 'get_manager_state',\n",
       " 'get_state',\n",
       " 'get_view_spec',\n",
       " 'handle_comm_opened',\n",
       " 'has_trait',\n",
       " 'hold_sync',\n",
       " 'hold_trait_notifications',\n",
       " 'icon',\n",
       " 'keys',\n",
       " 'layout',\n",
       " 'log',\n",
       " 'model_id',\n",
       " 'notify_change',\n",
       " 'observe',\n",
       " 'on_click',\n",
       " 'on_displayed',\n",
       " 'on_msg',\n",
       " 'on_trait_change',\n",
       " 'on_widget_constructed',\n",
       " 'open',\n",
       " 'remove_class',\n",
       " 'send',\n",
       " 'send_state',\n",
       " 'set_state',\n",
       " 'set_trait',\n",
       " 'setup_instance',\n",
       " 'style',\n",
       " 'tooltip',\n",
       " 'trait_events',\n",
       " 'trait_metadata',\n",
       " 'trait_names',\n",
       " 'traits',\n",
       " 'unobserve',\n",
       " 'unobserve_all',\n",
       " 'widget_types',\n",
       " 'widgets']"
      ]
     },
     "execution_count": 79,
     "metadata": {},
     "output_type": "execute_result"
    }
   ],
   "source": [
    "dir(widgets.Button)"
   ]
  },
  {
   "cell_type": "code",
   "execution_count": 80,
   "metadata": {},
   "outputs": [],
   "source": [
    "btn_list = [btn, btn, btn]"
   ]
  },
  {
   "cell_type": "code",
   "execution_count": 55,
   "metadata": {},
   "outputs": [
    {
     "data": {
      "application/vnd.jupyter.widget-view+json": {
       "model_id": "b955ec88d19541c2bf0b536da009124a",
       "version_major": 2,
       "version_minor": 0
      },
      "text/plain": [
       "Button(description='Click me', icon='check', style=ButtonStyle())"
      ]
     },
     "metadata": {},
     "output_type": "display_data"
    },
    {
     "data": {
      "application/vnd.jupyter.widget-view+json": {
       "model_id": "b955ec88d19541c2bf0b536da009124a",
       "version_major": 2,
       "version_minor": 0
      },
      "text/plain": [
       "Button(description='Click me', icon='check', style=ButtonStyle())"
      ]
     },
     "metadata": {},
     "output_type": "display_data"
    },
    {
     "data": {
      "application/vnd.jupyter.widget-view+json": {
       "model_id": "b955ec88d19541c2bf0b536da009124a",
       "version_major": 2,
       "version_minor": 0
      },
      "text/plain": [
       "Button(description='Click me', icon='check', style=ButtonStyle())"
      ]
     },
     "metadata": {},
     "output_type": "display_data"
    }
   ],
   "source": [
    "from IPython.display import display, Markdown\n",
    "for i in btn_list:\n",
    "    display(i)"
   ]
  },
  {
   "cell_type": "code",
   "execution_count": 82,
   "metadata": {},
   "outputs": [
    {
     "data": {
      "text/markdown": [
       "\n",
       "## Some heading\n",
       "- one thing\n",
       "- two things\n",
       "\n",
       "\n",
       "1. First thing\n",
       "2. Second thing"
      ],
      "text/plain": [
       "<IPython.core.display.Markdown object>"
      ]
     },
     "execution_count": 82,
     "metadata": {},
     "output_type": "execute_result"
    }
   ],
   "source": [
    "Markdown(\"\"\"\n",
    "## Some heading\n",
    "- one thing\n",
    "- two things\n",
    "\n",
    "\n",
    "1. First thing\n",
    "2. Second thing\"\"\")"
   ]
  },
  {
   "cell_type": "markdown",
   "metadata": {},
   "source": [
    "## Some heading\n",
    "- one thing\n",
    "- two things\n",
    "\n",
    "\n",
    "1. First thing\n",
    "2. Second thin"
   ]
  },
  {
   "cell_type": "code",
   "execution_count": null,
   "metadata": {},
   "outputs": [],
   "source": []
  }
 ],
 "metadata": {
  "kernelspec": {
   "display_name": "Python 3",
   "language": "python",
   "name": "python3"
  },
  "language_info": {
   "codemirror_mode": {
    "name": "ipython",
    "version": 3
   },
   "file_extension": ".py",
   "mimetype": "text/x-python",
   "name": "python",
   "nbconvert_exporter": "python",
   "pygments_lexer": "ipython3",
   "version": "3.7.3"
  }
 },
 "nbformat": 4,
 "nbformat_minor": 2
}
