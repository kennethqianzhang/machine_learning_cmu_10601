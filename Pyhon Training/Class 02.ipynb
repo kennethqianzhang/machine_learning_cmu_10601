{
 "cells": [
  {
   "cell_type": "markdown",
   "metadata": {},
   "source": [
    "# Python Training 2021 - Class 2"
   ]
  },
  {
   "cell_type": "markdown",
   "metadata": {},
   "source": [
    "## Conditions\n",
    "___"
   ]
  },
  {
   "cell_type": "markdown",
   "metadata": {
    "input_collapsed": true
   },
   "source": [
    "### '=' vs '=='"
   ]
  },
  {
   "cell_type": "code",
   "execution_count": 1,
   "metadata": {
    "input_collapsed": true
   },
   "outputs": [],
   "source": [
    "a_number = 15"
   ]
  },
  {
   "cell_type": "code",
   "execution_count": 2,
   "metadata": {
    "input_collapsed": true
   },
   "outputs": [
    {
     "data": {
      "text/plain": [
       "True"
      ]
     },
     "execution_count": 2,
     "metadata": {},
     "output_type": "execute_result"
    }
   ],
   "source": [
    "a_number == 15"
   ]
  },
  {
   "cell_type": "code",
   "execution_count": 3,
   "metadata": {
    "input_collapsed": true
   },
   "outputs": [],
   "source": [
    "# -use '=' to assign values.\n",
    "# -use '==' to compare two values."
   ]
  },
  {
   "cell_type": "code",
   "execution_count": 4,
   "metadata": {
    "input_collapsed": true
   },
   "outputs": [
    {
     "data": {
      "text/plain": [
       "False"
      ]
     },
     "execution_count": 4,
     "metadata": {},
     "output_type": "execute_result"
    }
   ],
   "source": [
    "a_number != 15"
   ]
  },
  {
   "cell_type": "code",
   "execution_count": 5,
   "metadata": {
    "input_collapsed": true
   },
   "outputs": [],
   "source": [
    "# Comparison: either True or False "
   ]
  },
  {
   "cell_type": "markdown",
   "metadata": {},
   "source": [
    "### not"
   ]
  },
  {
   "cell_type": "code",
   "execution_count": 6,
   "metadata": {
    "input_collapsed": true
   },
   "outputs": [
    {
     "data": {
      "text/plain": [
       "False"
      ]
     },
     "execution_count": 6,
     "metadata": {},
     "output_type": "execute_result"
    }
   ],
   "source": [
    "not True"
   ]
  },
  {
   "cell_type": "code",
   "execution_count": 7,
   "metadata": {
    "input_collapsed": true
   },
   "outputs": [
    {
     "data": {
      "text/plain": [
       "True"
      ]
     },
     "execution_count": 7,
     "metadata": {},
     "output_type": "execute_result"
    }
   ],
   "source": [
    "not a_number == 10"
   ]
  },
  {
   "cell_type": "code",
   "execution_count": 8,
   "metadata": {
    "input_collapsed": true
   },
   "outputs": [
    {
     "data": {
      "text/plain": [
       "False"
      ]
     },
     "execution_count": 8,
     "metadata": {},
     "output_type": "execute_result"
    }
   ],
   "source": [
    "not 5 > 4"
   ]
  },
  {
   "cell_type": "code",
   "execution_count": 9,
   "metadata": {
    "input_collapsed": true
   },
   "outputs": [
    {
     "data": {
      "text/plain": [
       "False"
      ]
     },
     "execution_count": 9,
     "metadata": {},
     "output_type": "execute_result"
    }
   ],
   "source": [
    "\"p\" not in \"Python\".lower()"
   ]
  },
  {
   "cell_type": "markdown",
   "metadata": {
    "input_collapsed": true
   },
   "source": [
    "### Other Python Comparison Operators"
   ]
  },
  {
   "cell_type": "code",
   "execution_count": 10,
   "metadata": {
    "collapsed": true
   },
   "outputs": [],
   "source": [
    "toyota = 22155.8\n",
    "nissan = 4001.2"
   ]
  },
  {
   "cell_type": "code",
   "execution_count": 11,
   "metadata": {},
   "outputs": [
    {
     "data": {
      "text/plain": [
       "True"
      ]
     },
     "execution_count": 11,
     "metadata": {},
     "output_type": "execute_result"
    }
   ],
   "source": [
    "toyota > nissan "
   ]
  },
  {
   "cell_type": "code",
   "execution_count": 12,
   "metadata": {},
   "outputs": [
    {
     "data": {
      "text/plain": [
       "True"
      ]
     },
     "execution_count": 12,
     "metadata": {},
     "output_type": "execute_result"
    }
   ],
   "source": [
    "toyota >= nissan"
   ]
  },
  {
   "cell_type": "code",
   "execution_count": 13,
   "metadata": {},
   "outputs": [
    {
     "data": {
      "text/plain": [
       "False"
      ]
     },
     "execution_count": 13,
     "metadata": {},
     "output_type": "execute_result"
    }
   ],
   "source": [
    "toyota < nissan"
   ]
  },
  {
   "cell_type": "code",
   "execution_count": 14,
   "metadata": {},
   "outputs": [
    {
     "data": {
      "text/plain": [
       "False"
      ]
     },
     "execution_count": 14,
     "metadata": {},
     "output_type": "execute_result"
    }
   ],
   "source": [
    "toyota <= nissan"
   ]
  },
  {
   "cell_type": "markdown",
   "metadata": {},
   "source": [
    "### Truth Table (And, Or)"
   ]
  },
  {
   "cell_type": "markdown",
   "metadata": {},
   "source": [
    ".|.|.|Result\n",
    "---|---|---|---\n",
    "True|and|False|\n",
    "True|and|True|\n",
    "False|and|False|\n",
    "True|or|False|\n",
    "True|or|True|\n",
    "False|or|False|"
   ]
  },
  {
   "cell_type": "markdown",
   "metadata": {},
   "source": [
    ".|.|.|Result\n",
    "---|---|---|---\n",
    "True|and|False|False\n",
    "True|and|True|True\n",
    "False|and|False|False\n",
    "True|or|False|True\n",
    "True|or|True|True\n",
    "False|or|False|False"
   ]
  },
  {
   "cell_type": "code",
   "execution_count": 15,
   "metadata": {},
   "outputs": [
    {
     "data": {
      "text/plain": [
       "False"
      ]
     },
     "execution_count": 15,
     "metadata": {},
     "output_type": "execute_result"
    }
   ],
   "source": [
    "5 > 4 and 10 == 11"
   ]
  },
  {
   "cell_type": "code",
   "execution_count": 16,
   "metadata": {},
   "outputs": [
    {
     "data": {
      "text/plain": [
       "True"
      ]
     },
     "execution_count": 16,
     "metadata": {},
     "output_type": "execute_result"
    }
   ],
   "source": [
    "9 <= 12 and 15/3 == 5"
   ]
  },
  {
   "cell_type": "code",
   "execution_count": 17,
   "metadata": {},
   "outputs": [
    {
     "data": {
      "text/plain": [
       "False"
      ]
     },
     "execution_count": 17,
     "metadata": {},
     "output_type": "execute_result"
    }
   ],
   "source": [
    "not (10 >= 9 or 12 * 3 == 35)"
   ]
  },
  {
   "cell_type": "code",
   "execution_count": 18,
   "metadata": {},
   "outputs": [
    {
     "data": {
      "text/plain": [
       "False"
      ]
     },
     "execution_count": 18,
     "metadata": {},
     "output_type": "execute_result"
    }
   ],
   "source": [
    "True and True and True == False"
   ]
  },
  {
   "cell_type": "code",
   "execution_count": 19,
   "metadata": {},
   "outputs": [
    {
     "data": {
      "text/plain": [
       "True"
      ]
     },
     "execution_count": 19,
     "metadata": {},
     "output_type": "execute_result"
    }
   ],
   "source": [
    "not False or not True"
   ]
  },
  {
   "cell_type": "markdown",
   "metadata": {},
   "source": [
    "### bool() function"
   ]
  },
  {
   "cell_type": "code",
   "execution_count": 20,
   "metadata": {
    "input_collapsed": true
   },
   "outputs": [
    {
     "data": {
      "text/plain": [
       "True"
      ]
     },
     "execution_count": 20,
     "metadata": {},
     "output_type": "execute_result"
    }
   ],
   "source": [
    "import numpy\n",
    "bool(numpy.NaN)"
   ]
  },
  {
   "cell_type": "code",
   "execution_count": 21,
   "metadata": {},
   "outputs": [
    {
     "data": {
      "text/plain": [
       "True"
      ]
     },
     "execution_count": 21,
     "metadata": {},
     "output_type": "execute_result"
    }
   ],
   "source": [
    "numpy.NaN is numpy.NaN"
   ]
  },
  {
   "cell_type": "code",
   "execution_count": 22,
   "metadata": {
    "input_collapsed": true
   },
   "outputs": [
    {
     "data": {
      "text/plain": [
       "False"
      ]
     },
     "execution_count": 22,
     "metadata": {},
     "output_type": "execute_result"
    }
   ],
   "source": [
    "bool(\"\")"
   ]
  },
  {
   "cell_type": "markdown",
   "metadata": {},
   "source": [
    "Something is `False` when it is 0 or empty or `None`"
   ]
  },
  {
   "cell_type": "code",
   "execution_count": 23,
   "metadata": {
    "input_collapsed": true
   },
   "outputs": [
    {
     "name": "stdout",
     "output_type": "stream",
     "text": [
      "False False False False False\n"
     ]
    }
   ],
   "source": [
    "print(bool(0), bool(\"\"), bool([]), bool({}), bool(None))"
   ]
  },
  {
   "cell_type": "markdown",
   "metadata": {},
   "source": [
    "On the contrary, something is `True` when it is not 0 nor empty nor `None`"
   ]
  },
  {
   "cell_type": "code",
   "execution_count": 24,
   "metadata": {
    "input_collapsed": true
   },
   "outputs": [
    {
     "name": "stdout",
     "output_type": "stream",
     "text": [
      "True True True True True\n"
     ]
    }
   ],
   "source": [
    "print(bool(1), bool(-5), bool(\"yay\"), bool([\"a\", \"b\", \"c\"]), bool({\"N\": \"News\"}))"
   ]
  },
  {
   "cell_type": "markdown",
   "metadata": {},
   "source": [
    "## More about Loops\n",
    "___"
   ]
  },
  {
   "cell_type": "markdown",
   "metadata": {},
   "source": [
    "### enumerate() function"
   ]
  },
  {
   "cell_type": "markdown",
   "metadata": {},
   "source": [
    "#### enumerate (v.)\n",
    "###### Mention (a number of things) one by one.\n",
    "###### 'there is not space to enumerate all his works'"
   ]
  },
  {
   "cell_type": "code",
   "execution_count": 25,
   "metadata": {
    "input_collapsed": true
   },
   "outputs": [
    {
     "name": "stdout",
     "output_type": "stream",
     "text": [
      "current value: 5\n",
      "_____\n",
      "current value: 6\n",
      "_____\n",
      "current value: 7\n",
      "_____\n",
      "current value: 8\n",
      "_____\n",
      "current value: 9\n",
      "_____\n",
      "current value: 10\n",
      "_____\n",
      "current value: 11\n",
      "_____\n",
      "current value: 12\n",
      "_____\n",
      "current value: 13\n",
      "_____\n",
      "current value: 14\n",
      "_____\n",
      "current value: 15\n",
      "_____\n"
     ]
    }
   ],
   "source": [
    "for value in range(5, 16):\n",
    "    print(\"current value:\", value)\n",
    "    print(\"_____\")"
   ]
  },
  {
   "cell_type": "code",
   "execution_count": 26,
   "metadata": {
    "input_collapsed": true
   },
   "outputs": [
    {
     "name": "stdout",
     "output_type": "stream",
     "text": [
      "current index: 0\n",
      "current value: 5\n",
      "_____\n",
      "current index: 1\n",
      "current value: 6\n",
      "_____\n",
      "current index: 2\n",
      "current value: 7\n",
      "_____\n",
      "current index: 3\n",
      "current value: 8\n",
      "_____\n",
      "current index: 4\n",
      "current value: 9\n",
      "_____\n",
      "current index: 5\n",
      "current value: 10\n",
      "_____\n",
      "current index: 6\n",
      "current value: 11\n",
      "_____\n",
      "current index: 7\n",
      "current value: 12\n",
      "_____\n",
      "current index: 8\n",
      "current value: 13\n",
      "_____\n",
      "current index: 9\n",
      "current value: 14\n",
      "_____\n",
      "current index: 10\n",
      "current value: 15\n",
      "_____\n"
     ]
    }
   ],
   "source": [
    "for index, value in enumerate(range(5, 16)):\n",
    "    print(\"current index:\", index)\n",
    "    print(\"current value:\", value)\n",
    "    print(\"_____\")"
   ]
  },
  {
   "cell_type": "code",
   "execution_count": 27,
   "metadata": {
    "input_collapsed": true
   },
   "outputs": [
    {
     "name": "stdout",
     "output_type": "stream",
     "text": [
      "current index: 0\n",
      "current value: C\n",
      "_____\n",
      "current index: 1\n",
      "current value: h\n",
      "_____\n",
      "current index: 2\n",
      "current value: e\n",
      "_____\n",
      "current index: 3\n",
      "current value: e\n",
      "_____\n",
      "current index: 4\n",
      "current value: s\n",
      "_____\n",
      "current index: 5\n",
      "current value: e\n",
      "_____\n"
     ]
    }
   ],
   "source": [
    "for i, v in enumerate(\"Cheese\"):\n",
    "    print(\"current index:\", i)\n",
    "    print(\"current value:\", v)\n",
    "    print(\"_____\")"
   ]
  },
  {
   "cell_type": "code",
   "execution_count": 28,
   "metadata": {
    "input_collapsed": true
   },
   "outputs": [
    {
     "name": "stdout",
     "output_type": "stream",
     "text": [
      "current index: 1\n",
      "current value: S\n",
      "_____\n",
      "current index: 2\n",
      "current value: a\n",
      "_____\n",
      "current index: 3\n",
      "current value: l\n",
      "_____\n",
      "current index: 4\n",
      "current value: a\n",
      "_____\n",
      "current index: 5\n",
      "current value: d\n",
      "_____\n"
     ]
    }
   ],
   "source": [
    "for i, v in enumerate(\"Salad\", 1):\n",
    "    print(\"current index:\", i)\n",
    "    print(\"current value:\", v , end=\"\\n\")\n",
    "    print(\"_____\")"
   ]
  },
  {
   "cell_type": "code",
   "execution_count": 30,
   "metadata": {
    "input_collapsed": true
   },
   "outputs": [
    {
     "name": "stdout",
     "output_type": "stream",
     "text": [
      "current index: 0\n",
      "current value: P\n",
      "_____\n",
      "current index: 1\n",
      "current value: i\n",
      "_____\n",
      "current index: 2\n",
      "current value: z\n",
      "_____\n",
      "current index: 3\n",
      "current value: z\n",
      "_____\n",
      "current index: 4\n",
      "current value: a\n",
      "_____\n"
     ]
    }
   ],
   "source": [
    "for i in enumerate(\"Pizza\"):\n",
    "     print(\"current index:\", i[0])\n",
    "     print(\"current value:\", i[1])\n",
    "     print(\"_____\")"
   ]
  },
  {
   "cell_type": "code",
   "execution_count": 31,
   "metadata": {
    "input_collapsed": true
   },
   "outputs": [],
   "source": [
    "?enumerate"
   ]
  },
  {
   "cell_type": "markdown",
   "metadata": {},
   "source": [
    "### break and continue"
   ]
  },
  {
   "cell_type": "code",
   "execution_count": 32,
   "metadata": {
    "input_collapsed": false
   },
   "outputs": [
    {
     "name": "stdout",
     "output_type": "stream",
     "text": [
      "2\n",
      "5\n",
      "8\n",
      "11\n",
      "14\n"
     ]
    }
   ],
   "source": [
    "for i in range(2, 15, 3):\n",
    "    print(i)"
   ]
  },
  {
   "cell_type": "code",
   "execution_count": 33,
   "metadata": {
    "input_collapsed": false
   },
   "outputs": [
    {
     "name": "stdout",
     "output_type": "stream",
     "text": [
      "2\n",
      "5\n",
      "8\n"
     ]
    }
   ],
   "source": [
    "for i in range(2, 15, 3):\n",
    "    if i < 10:\n",
    "        print(i)\n",
    "    else:\n",
    "        break"
   ]
  },
  {
   "cell_type": "code",
   "execution_count": 34,
   "metadata": {
    "input_collapsed": true
   },
   "outputs": [
    {
     "name": "stdout",
     "output_type": "stream",
     "text": [
      "____\n",
      "Current value: 5\n",
      "Current index: 1\n",
      "____\n",
      "Current value: 6\n",
      "Current index: 2\n",
      "____\n",
      "Current value: 7\n",
      "Current index: 3\n",
      "____\n",
      "Current value: 8\n",
      "I don't care about index anymore\n",
      "____\n",
      "Current value: 9\n",
      "I don't care about index anymore\n",
      "____\n",
      "Current value: 10\n",
      "I don't care about index anymore\n",
      "____\n",
      "Current value: 11\n",
      "I don't care about index anymore\n",
      "____\n",
      "Current value: 12\n",
      "I don't care about index anymore\n",
      "____\n",
      "Current value: 13\n",
      "I don't care about index anymore\n",
      "____\n",
      "Current value: 14\n",
      "I don't care about index anymore\n"
     ]
    }
   ],
   "source": [
    "for i, v in enumerate(range(5, 20), 1):\n",
    "    if v < 15:\n",
    "        print(\"____\")\n",
    "        print(\"Current value:\", v)\n",
    "        if i > 3:\n",
    "            print(\"I don't care about index anymore\")\n",
    "            continue\n",
    "        print(\"Current index:\", i)\n",
    "    else:\n",
    "        break"
   ]
  },
  {
   "cell_type": "markdown",
   "metadata": {},
   "source": [
    "### while True"
   ]
  },
  {
   "cell_type": "code",
   "execution_count": 35,
   "metadata": {
    "input_collapsed": true
   },
   "outputs": [
    {
     "name": "stdout",
     "output_type": "stream",
     "text": [
      "This is gonna run forever...\n",
      "This is gonna run forever...\n",
      "This is gonna run forever...\n",
      "... unless I stop it with break\n"
     ]
    }
   ],
   "source": [
    "i = 0\n",
    "while True:\n",
    "    print(\"This is gonna run forever...\")\n",
    "    i += 1\n",
    "    if i == 3:\n",
    "        print(\"... unless I stop it with break\")\n",
    "        break"
   ]
  },
  {
   "cell_type": "markdown",
   "metadata": {},
   "source": [
    "## Checking Homework 1\n",
    "___"
   ]
  },
  {
   "cell_type": "markdown",
   "metadata": {},
   "source": [
    "# Homework 2"
   ]
  },
  {
   "cell_type": "markdown",
   "metadata": {},
   "source": [
    "### Please implement the following *functions*:\n",
    "#### 1/\n",
    "```python\n",
    "def even_or_odd(number):\n",
    "    \"\"\"Verify that input is integer and return whether it's even or odd\"\"\"\n",
    "```\n",
    "Expected results:\n",
    "```python\n",
    "even_or_odd(\"three\") # invalid input\n",
    "even_or_odd(5) # odd\n",
    "even_or_odd(10) # even\n",
    "```\n",
    "\n",
    "#### 2/\n",
    "```python\n",
    "def make_negative(number):\n",
    "    \"\"\"Return the negative form of input\"\"\"\n",
    "```\n",
    "Expected results:\n",
    "```python\n",
    "make_negative(5) # -5\n",
    "make_negative(-2.7) # -2.7\n",
    "make_negative(0) # 0\n",
    "```\n",
    "\n",
    "#### 3/\n",
    "```python\n",
    "def opposite_number(number):\n",
    "    \"\"\"Return the opposite number of input\"\"\"\n",
    "```\n",
    "Expected results:\n",
    "```python\n",
    "opposite_number(3) # -3\n",
    "opposite_number(-1.25) # 1.25\n",
    "opposite_number(0) # 0\n",
    "```\n",
    "\n",
    "#### 4/\n",
    "```python\n",
    "def do_math(operator, number1, number2):\n",
    "    \"\"\"Given 3 inputs of operator (a string), number1, number2 (two numbers),\n",
    "    return the math operation result\"\"\"\n",
    "```\n",
    "Expected results:\n",
    "```python\n",
    "do_math('+', 4, 7) # 11\n",
    "do_math('-', 15, 18) # -3\n",
    "do_math('*', 5, 5) # 25\n",
    "do_math('/', 49, 7) # 7\n",
    "```"
   ]
  }
 ],
 "metadata": {
  "input_collapsed": true,
  "kernelspec": {
   "display_name": "Python 3",
   "language": "python",
   "name": "python3"
  },
  "language_info": {
   "codemirror_mode": {
    "name": "ipython",
    "version": 3
   },
   "file_extension": ".py",
   "mimetype": "text/x-python",
   "name": "python",
   "nbconvert_exporter": "python",
   "pygments_lexer": "ipython3",
   "version": "3.7.3"
  }
 },
 "nbformat": 4,
 "nbformat_minor": 2
}
